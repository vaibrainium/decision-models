{
 "cells": [
  {
   "cell_type": "code",
   "execution_count": 1,
   "id": "63f0f614-3974-4fb6-b822-309ef71b4653",
   "metadata": {},
   "outputs": [
    {
     "name": "stdout",
     "output_type": "stream",
     "text": [
      "Populating the interactive namespace from numpy and matplotlib\n"
     ]
    }
   ],
   "source": [
    "# OPTIONAL: Load the \"autoreload\" extension so that code can change\n",
    "%load_ext autoreload\n",
    "# Always reload modules so that as you change code in src, it gets loaded\n",
    "%autoreload\n",
    "\n",
    "# %%capture --no-display\n",
    "%matplotlib inline\n",
    "%pylab inline\n",
    "\n",
    "import numpy as np\n",
    "from matplotlib import pyplot as plt\n",
    "from IPython.display import clear_output\n",
    "\n",
    "from src.DDM import *\n",
    "from src.IAM import *\n",
    "from src.dynamic_parameters import *"
   ]
  },
  {
   "cell_type": "code",
   "execution_count": null,
   "id": "16b5bbf6-d921-4383-9384-d3ec57688968",
   "metadata": {},
   "outputs": [],
   "source": [
    "def get_llh(model, data):\n",
    "    llh = 0\n",
    "    \n",
    "    return llh"
   ]
  },
  {
   "cell_type": "code",
   "execution_count": 213,
   "id": "85b8057e-a7df-45fd-8c6a-79362904a0a0",
   "metadata": {},
   "outputs": [],
   "source": [
    "def get_QMLE(RT_model, RT_data, nbins=9):\n",
    "    \"\"\"\n",
    "    Takes reaction time distribution of model and data and calculated negative log likelihood based on the Quasi-Maximum Likelihood Estimate (QMLE).\n",
    "    Args: \n",
    "        RT_model: Reaction time data from model simulation. Type: array(1D, float32)\n",
    "        RT_data: Reaction time data from experimental data. Type: array(1D, float32)\n",
    "        nbins: Quantized bins. Default value is 9.\n",
    "        \n",
    "    Return:\n",
    "        llh: Negatively log likelihood of the data given model parameters\n",
    "        \n",
    "    \"\"\"\n",
    "    \n",
    "    \n",
    "    llh = 0\n",
    "    panelty_high = 1e12\n",
    "    panelty_low = 1e6\n",
    "    \n",
    "    quantile = np.arange(0, 1+1e-10, 1/nbins)\n",
    "    nTrials = len(RT_data)\n",
    "    trials_per_quantile = np.diff(quantile) * nTrials\n",
    "    quantile_estimate = np.zeros(nbins+1)*np.nan\n",
    "    QML = np.zeros(nbins)*np.nan\n",
    "\n",
    "    quantile_estimate[0] = min(RT_data)\n",
    "    quantile_estimate[-1] = max(RT_data)\n",
    "\n",
    "    for bin_num in range(1,nbins):\n",
    "        centre = (quantile[bin_num]*nTrials) + 0.5\n",
    "        prev_edge = int(np.floor(centre))\n",
    "        next_edge = int(np.ceil(centre))\n",
    "        quantile_estimate[bin_num] = data[prev_edge-1] + (data[next_edge-1] - data[prev_edge-1]) * (centre - prev_edge)\n",
    "\n",
    "    for bin_num in range(0,nbins):\n",
    "        likelihood = np.mean(np.logical_and(RT_model>=quantile_estimate[bin_num], RT_model<quantile_estimate[bin_num+1])) ** trials_per_quantile[bin_num]\n",
    "        if likelihood != 0:\n",
    "            QML[bin_num] = -log(likelihood)\n",
    "        else:     # Can't take log of zero\n",
    "            QML[bin_num] = panelty_high    # Higher panelty if no model RT for given data RT quantile\n",
    "    \n",
    "    llh = sum(QML)\n",
    "    \n",
    "    if (RT_model < quantile_estimate[0]).any() or (RT_model > quantile_estimate[-1]).any():\n",
    "        llh += panelty_low    # Lower panelty if model RT is out of the range from data RT\n",
    "        \n",
    "    return llh\n",
    "\n"
   ]
  },
  {
   "cell_type": "code",
   "execution_count": 214,
   "id": "9ea78308-44da-4aa3-ae69-05391fbbcf73",
   "metadata": {},
   "outputs": [
    {
     "data": {
      "text/plain": [
       "1000475.4058280977"
      ]
     },
     "execution_count": 214,
     "metadata": {},
     "output_type": "execute_result"
    }
   ],
   "source": [
    "\n",
    "data = np.arange(2,4,1/100)\n",
    "model = np.arange(2.1,4.1,1/100)\n",
    "\n",
    "# get_QMLE(model,data, 9)\n",
    "llh = get_QMLE(model,data, 10)\n",
    "llh"
   ]
  },
  {
   "cell_type": "code",
   "execution_count": 196,
   "id": "e7128ac3-6d4d-4e16-b8fc-9cb8824eecf6",
   "metadata": {},
   "outputs": [
    {
     "data": {
      "text/plain": [
       "True"
      ]
     },
     "execution_count": 196,
     "metadata": {},
     "output_type": "execute_result"
    }
   ],
   "source": [
    "(np.array([1,2,3]) < 2).any()"
   ]
  }
 ],
 "metadata": {
  "kernelspec": {
   "display_name": "Python 3 (ipykernel)",
   "language": "python",
   "name": "python3"
  },
  "language_info": {
   "codemirror_mode": {
    "name": "ipython",
    "version": 3
   },
   "file_extension": ".py",
   "mimetype": "text/x-python",
   "name": "python",
   "nbconvert_exporter": "python",
   "pygments_lexer": "ipython3",
   "version": "3.8.12"
  }
 },
 "nbformat": 4,
 "nbformat_minor": 5
}
