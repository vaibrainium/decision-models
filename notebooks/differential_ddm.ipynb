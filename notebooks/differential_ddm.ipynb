{
 "cells": [
  {
   "cell_type": "code",
   "execution_count": 1,
   "id": "a1de269c",
   "metadata": {},
   "outputs": [
    {
     "name": "stdout",
     "output_type": "stream",
     "text": [
      "Using device (CPU or GPU): NVIDIA GeForce RTX 4090\n"
     ]
    }
   ],
   "source": [
    "import torch\n",
    "from torch import nn\n",
    "\n",
    "print(f\"Using device (CPU or GPU): {torch.cuda.get_device_name(0) if torch.cuda.is_available() else 'CPU'}\")\n",
    "# from src.differential_ddm import SoftBoundDDM_RT"
   ]
  },
  {
   "cell_type": "code",
   "execution_count": 2,
   "id": "ff8eb0b4",
   "metadata": {},
   "outputs": [],
   "source": [
    "class SoftBoundDDM_RT(nn.Module):\n",
    "    def __init__(self, leak=True, time_dependence=True, beta=50.0):\n",
    "        super().__init__()\n",
    "        # Learnable parameters\n",
    "        self.ndt = nn.Parameter(torch.tensor(0.1))\n",
    "        self.a = nn.Parameter(torch.tensor(2.0))\n",
    "        self.z = nn.Parameter(torch.tensor(0.5))\n",
    "        self.drift_gain = nn.Parameter(torch.tensor(7.0))\n",
    "        self.drift_offset = nn.Parameter(torch.tensor(0.0))\n",
    "        self.beta = nn.Parameter(torch.tensor(beta))\n",
    "\n",
    "        # Fixed parameters\n",
    "        self.variance = 1.0\n",
    "        self.dt = 0.001\n",
    "        self.leak_rate = 0.01 if leak else 0.0\n",
    "        self.time_constant = 1e-2 if time_dependence else 0.0\n",
    "\n",
    "    def forward(self, stimulus):\n",
    "        n_trials, n_timepoints = stimulus.shape\n",
    "        device = stimulus.device\n",
    "\n",
    "        evidence = torch.zeros((n_trials, n_timepoints), device=device)\n",
    "        dv = torch.zeros_like(evidence)\n",
    "\n",
    "        starting_point = self.z * self.a\n",
    "        urgency = torch.arange(n_timepoints, device=device) * self.time_constant\n",
    "        drift_rates = self.drift_gain * stimulus + self.drift_offset\n",
    "        noise = torch.randn_like(stimulus) * torch.sqrt(torch.tensor(self.variance * self.dt, device=device))\n",
    "\n",
    "        evidence[:, 0] = starting_point\n",
    "        dv[:, 0] = starting_point\n",
    "\n",
    "        for t in range(1, n_timepoints):\n",
    "            momentary_evidence = drift_rates[:, t - 1] * self.dt + noise[:, t - 1]\n",
    "            leakage = self.leak_rate * (evidence[:, t - 1] - starting_point) * self.dt\n",
    "            evidence[:, t] = evidence[:, t - 1] + momentary_evidence - leakage\n",
    "            dv[:, t] = urgency[t] * (evidence[:, t] - starting_point) + starting_point\n",
    "\n",
    "        # Compute soft decision hazards\n",
    "        h1 = torch.sigmoid(self.beta * (dv - self.a))  # hazard of choice 1\n",
    "        h0 = torch.sigmoid(self.beta * (0.0 - dv))  # hazard of choice 0\n",
    "        return dv, h1, h0\n",
    "\n",
    "    def compute_likelihood(self, stimulus, observed_choice, observed_rt):\n",
    "        \"\"\"\n",
    "        stimulus: (n_trials, n_timepoints)\n",
    "        observed_choice: (n_trials,) 0 or 1\n",
    "        observed_rt: (n_trials,) in seconds\n",
    "        \"\"\"\n",
    "        n_trials, n_timepoints = stimulus.shape\n",
    "        device = stimulus.device\n",
    "        dt = self.dt\n",
    "\n",
    "        _, h1, h0 = self.forward(stimulus)\n",
    "\n",
    "        # Convert observed RT to time index\n",
    "        rt_idx = torch.clamp((observed_rt / dt).long(), max=n_timepoints - 1)\n",
    "\n",
    "        # Compute survival probability\n",
    "        survival = torch.cumprod(1 - h1 - h0 + 1e-8, dim=1)\n",
    "        survival_shifted = torch.cat([torch.ones((n_trials, 1), device=device), survival[:, :-1]], dim=1)\n",
    "\n",
    "        # Likelihood at decision time\n",
    "        prob1 = h1 * survival_shifted\n",
    "        prob0 = h0 * survival_shifted\n",
    "\n",
    "        # Select observed choice\n",
    "        idx = torch.arange(n_trials, device=device)\n",
    "        choice_prob = torch.where(observed_choice == 1, prob1[idx, rt_idx], prob0[idx, rt_idx])\n",
    "\n",
    "        # Negative log-likelihood\n",
    "        nll = -torch.sum(torch.log(choice_prob + 1e-8))\n",
    "        return nll\n"
   ]
  },
  {
   "cell_type": "markdown",
   "id": "67d4a7a1",
   "metadata": {},
   "source": [
    "### Generate Synthetic data"
   ]
  },
  {
   "cell_type": "code",
   "execution_count": 3,
   "id": "5c845741",
   "metadata": {},
   "outputs": [],
   "source": [
    "# Parameters\n",
    "n_trials = 100\n",
    "n_timepoints = 1000\n",
    "dt = 0.001\n",
    "\n",
    "# Synthetic stimulus: small random fluctuations\n",
    "stimulus = torch.randn(n_trials, n_timepoints) * 0.1\n",
    "\n",
    "# True parameters for simulation\n",
    "true_a = 2.0\n",
    "true_z = 0.5\n",
    "true_drift_gain = 5.0\n",
    "true_ndt = 0.1\n",
    "\n",
    "# Simulate \"observed\" choices and RTs (simplified example)\n",
    "# Here we just take a simple threshold crossing for demonstration\n",
    "dv = torch.zeros(n_trials, n_timepoints)\n",
    "evidence = torch.zeros_like(dv)\n",
    "starting_point = true_z * true_a\n",
    "rt = torch.zeros(n_trials)\n",
    "choice = torch.zeros(n_trials)\n",
    "\n",
    "for t in range(n_timepoints):\n",
    "    if t == 0:\n",
    "        evidence[:, t] = starting_point\n",
    "        dv[:, t] = starting_point\n",
    "    else:\n",
    "        drift = true_drift_gain * stimulus[:, t - 1] * dt\n",
    "        noise = torch.randn(n_trials) * torch.sqrt(torch.tensor(dt))\n",
    "        evidence[:, t] = evidence[:, t - 1] + drift + noise\n",
    "        dv[:, t] = evidence[:, t]\n",
    "\n",
    "        # Check boundaries\n",
    "        crossed_upper = (dv[:, t] >= true_a) & (rt == 0)\n",
    "        crossed_lower = (dv[:, t] <= 0) & (rt == 0)\n",
    "\n",
    "        rt[crossed_upper | crossed_lower] = t * dt + true_ndt\n",
    "        choice[crossed_upper] = 1\n",
    "        choice[crossed_lower] = 0\n",
    "\n",
    "# Clamp any missing RTs\n",
    "rt[rt == 0] = n_timepoints * dt + true_ndt\n"
   ]
  },
  {
   "cell_type": "markdown",
   "id": "770d975b",
   "metadata": {},
   "source": [
    "### Initialize Model and Optimizer"
   ]
  },
  {
   "cell_type": "code",
   "execution_count": 4,
   "id": "86ae6f0d",
   "metadata": {},
   "outputs": [],
   "source": [
    "from torch.optim import Adam\n",
    "\n",
    "# Initialize model\n",
    "model = SoftBoundDDM_RT(leak=True, time_dependence=True, beta=50.0)\n",
    "# model = SoftBoundDDM_RT(leak=False, time_dependence=False, beta=50.0)\n",
    "\n",
    "optimizer = Adam(model.parameters(), lr=0.01)\n"
   ]
  },
  {
   "cell_type": "markdown",
   "id": "41a629ba",
   "metadata": {},
   "source": [
    "### Training Loop"
   ]
  },
  {
   "cell_type": "code",
   "execution_count": null,
   "id": "c21ade26",
   "metadata": {},
   "outputs": [
    {
     "name": "stdout",
     "output_type": "stream",
     "text": [
      "Epoch 0, NLL: 1842.0675\n",
      "Epoch 20, NLL: 1842.0682\n",
      "Epoch 20, NLL: 1842.0682\n"
     ]
    }
   ],
   "source": [
    "n_epochs = 200\n",
    "\n",
    "for epoch in range(n_epochs):\n",
    "    optimizer.zero_grad()\n",
    "\n",
    "    # Compute negative log-likelihood\n",
    "    loss = model.compute_likelihood(stimulus, choice, rt)\n",
    "\n",
    "    # Backpropagate\n",
    "    loss.backward()\n",
    "    optimizer.step()\n",
    "\n",
    "    if epoch % 20 == 0:\n",
    "        print(f\"Epoch {epoch}, NLL: {loss.item():.4f}\")\n"
   ]
  },
  {
   "cell_type": "code",
   "execution_count": null,
   "id": "bd402602",
   "metadata": {},
   "outputs": [
    {
     "data": {
      "text/plain": [
       "(0.1,\n",
       " Parameter containing:\n",
       " tensor(0.1000, requires_grad=True),\n",
       " 2.0,\n",
       " Parameter containing:\n",
       " tensor(1.5105, requires_grad=True),\n",
       " 0.5,\n",
       " Parameter containing:\n",
       " tensor(0.0902, requires_grad=True),\n",
       " 5.0,\n",
       " Parameter containing:\n",
       " tensor(7., requires_grad=True))"
      ]
     },
     "execution_count": 18,
     "metadata": {},
     "output_type": "execute_result"
    }
   ],
   "source": [
    "print(\"true_ndt:\", true_ndt, \"model.ndt:\", model.ndt.item())\n",
    "print(\"true_a:\", true_a, \"model.a:\", model.a.item())\n",
    "print(\"true_z:\", true_z, \"model.z:\", model.z.item())\n",
    "print(\"true_drift_gain:\", true_drift_gain, \"model.drift_gain:\", model.drift_gain.item())"
   ]
  },
  {
   "cell_type": "code",
   "execution_count": 17,
   "id": "1e66b383",
   "metadata": {},
   "outputs": [
    {
     "data": {
      "text/plain": [
       "(Parameter containing:\n",
       " tensor(0.1000, requires_grad=True),\n",
       " Parameter containing:\n",
       " tensor(1.5105, requires_grad=True),\n",
       " Parameter containing:\n",
       " tensor(0.0902, requires_grad=True),\n",
       " Parameter containing:\n",
       " tensor(7., requires_grad=True),\n",
       " Parameter containing:\n",
       " tensor(0., requires_grad=True),\n",
       " Parameter containing:\n",
       " tensor(49.5555, requires_grad=True),\n",
       " 1.0,\n",
       " 0.001,\n",
       " 0.0,\n",
       " 0.0)"
      ]
     },
     "execution_count": 17,
     "metadata": {},
     "output_type": "execute_result"
    }
   ],
   "source": [
    "model.ndt, model.a, model.z, model.drift_gain, model.drift_offset, model.beta, model.variance, model.dt, model.leak_rate, model.time_constant"
   ]
  },
  {
   "cell_type": "code",
   "execution_count": null,
   "id": "1f0f25a6",
   "metadata": {},
   "outputs": [
    {
     "data": {
      "image/png": "[encoded data removed]",
      "text/plain": [
       "<Figure size 640x480 with 1 Axes>"
      ]
     },
     "metadata": {},
     "output_type": "display_data"
    }
   ],
   "source": [
    "import matplotlib.pyplot as plt\n",
    "\n",
    "# Simulate with fitted model\n",
    "dv_fit, h1, h0 = model.forward(stimulus)\n",
    "\n",
    "# Predicted RT: approximate as first time step where hazard > random threshold\n",
    "sim_rt = torch.zeros_like(rt)\n",
    "sim_choice = torch.zeros_like(choice)\n",
    "for trial in range(n_trials):\n",
    "    rand_vals = torch.rand(n_timepoints)\n",
    "    cumsum_hazard = torch.cumsum(h1[trial] + h0[trial], dim=0)\n",
    "    idx = torch.searchsorted(cumsum_hazard, rand_vals[-1])\n",
    "    idx = min(idx.item(), n_timepoints - 1)  # Clamp to valid range\n",
    "    sim_rt[trial] = idx * model.dt + model.ndt\n",
    "    sim_choice[trial] = 1 if h1[trial, idx] > h0[trial, idx] else 0\n",
    "\n",
    "# Compare distributions\n",
    "plt.hist(rt.numpy(), bins=30, alpha=0.5, label=\"Observed RT\")\n",
    "plt.hist(sim_rt.detach().numpy(), bins=30, alpha=0.5, label=\"Fitted RT\")\n",
    "plt.xlabel(\"Reaction time (s)\")\n",
    "plt.ylabel(\"Count\")\n",
    "plt.legend()\n",
    "plt.show()\n"
   ]
  },
  {
   "cell_type": "code",
   "execution_count": 16,
   "id": "26cae42c",
   "metadata": {},
   "outputs": [
    {
     "name": "stdout",
     "output_type": "stream",
     "text": [
      "Observed choice probability: 0.310\n",
      "Simulated choice probability: 0.000\n"
     ]
    }
   ],
   "source": [
    "obs_choice_prob = choice.mean().item()\n",
    "sim_choice_prob = sim_choice.mean().item()\n",
    "\n",
    "\n",
    "print(f\"Observed choice probability: {obs_choice_prob:.3f}\")\n",
    "print(f\"Simulated choice probability: {sim_choice_prob:.3f}\")\n"
   ]
  }
 ],
 "metadata": {
  "kernelspec": {
   "display_name": "Python 3",
   "language": "python",
   "name": "python3"
  },
  "language_info": {
   "codemirror_mode": {
    "name": "ipython",
    "version": 3
   },
   "file_extension": ".py",
   "mimetype": "text/x-python",
   "name": "python",
   "nbconvert_exporter": "python",
   "pygments_lexer": "ipython3",
   "version": "3.10.12"
  }
 },
 "nbformat": 4,
 "nbformat_minor": 5
}
