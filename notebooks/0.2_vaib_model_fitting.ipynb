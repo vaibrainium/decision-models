{
 "cells": [
  {
   "cell_type": "code",
   "execution_count": 1,
   "id": "734b5211-3d92-427f-a76d-5c26ea2b00a4",
   "metadata": {},
   "outputs": [
    {
     "name": "stdout",
     "output_type": "stream",
     "text": [
      "Populating the interactive namespace from numpy and matplotlib\n"
     ]
    }
   ],
   "source": [
    "# OPTIONAL: Load the \"autoreload\" extension so that code can change\n",
    "%load_ext autoreload\n",
    "# Always reload modules so that as you change code in src, it gets loaded\n",
    "%autoreload\n",
    "\n",
    "# %%capture --no-display\n",
    "%matplotlib inline\n",
    "%pylab inline"
   ]
  },
  {
   "cell_type": "code",
   "execution_count": 2,
   "id": "63f0f614-3974-4fb6-b822-309ef71b4653",
   "metadata": {},
   "outputs": [],
   "source": [
    "import numpy as np\n",
    "from matplotlib import pyplot as plt\n",
    "from IPython.display import clear_output\n",
    "import pandas as pd\n",
    "from KDEpy import FFTKDE  # Fastest 1D algorithm\n",
    "\n",
    "from src.DDM import *\n",
    "from src.IAM import *\n",
    "from src.dynamic_parameters import *\n",
    "from src.likelihood_estimation import *\n",
    "\n",
    "# data_path = \"./../data/\"\n",
    "# df = pd.read_csv(data_path + 'rt_data.csv')\n",
    "# data = df['rt_data'].to_numpy()\n"
   ]
  },
  {
   "cell_type": "code",
   "execution_count": 6,
   "id": "e2e9035f-1bf7-42e3-8f0a-05a5c2964a22",
   "metadata": {},
   "outputs": [],
   "source": [
    "import itertools\n",
    "stage_list = ['discrim', 'reinforcement']\n",
    "stages = itertools.cycle(stage_list)"
   ]
  },
  {
   "cell_type": "code",
   "execution_count": 28,
   "id": "2942d3d7-9cb3-47bd-b621-cd1f25cc8f19",
   "metadata": {},
   "outputs": [
    {
     "data": {
      "text/plain": [
       "'discrim'"
      ]
     },
     "execution_count": 28,
     "metadata": {},
     "output_type": "execute_result"
    }
   ],
   "source": [
    "next(stages)"
   ]
  }
 ],
 "metadata": {
  "kernelspec": {
   "display_name": "Python 3 (ipykernel)",
   "language": "python",
   "name": "python3"
  },
  "language_info": {
   "codemirror_mode": {
    "name": "ipython",
    "version": 3
   },
   "file_extension": ".py",
   "mimetype": "text/x-python",
   "name": "python",
   "nbconvert_exporter": "python",
   "pygments_lexer": "ipython3",
   "version": "3.8.12"
  }
 },
 "nbformat": 4,
 "nbformat_minor": 5
}
