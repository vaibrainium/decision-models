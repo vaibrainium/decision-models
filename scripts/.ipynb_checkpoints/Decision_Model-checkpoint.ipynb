{
 "cells": [
  {
   "cell_type": "markdown",
   "id": "89f4b2b8-f316-4d40-8575-8492ffe183ab",
   "metadata": {},
   "source": [
    "**<h1><center>Computational Models for Decision Making<center><h1>**"
   ]
  },
  {
   "cell_type": "markdown",
   "id": "c7fe0dbc-f3e7-4bd7-80b0-a6bf2a2b1c2c",
   "metadata": {},
   "source": [
    "<a id=\"Introduction\"></a>\n",
    "<h2> Introduction</h2>\n",
    "    Decision-making is a critical cognitive process that underlies many other executive functions performed by animals, including humans, yet how the brain makes these decisions is not well known. The cognitive psychologists/neuroscientists have been proposing different computational models which can describe these processes as much as possible. One of the major milestone in the field was when Shadlen and Newsome, 2001 found the neural activity in LIP area which showed properties predicted by one of the evidence based accumulation model.\n",
    "    Through this project I have tried building few of these stochastic evidence accumulation models, namely:\n",
    "    \n",
    "1. [__Drift-Diffusion Model (DDM)__](#DDM)\n",
    "    1. [Basic Implentation](#Basic_Implementation_DDM)\n",
    "    2. [Parallel Implementation](#Parallel_Implementation_DDM) \n",
    "        1. [CPU Implementation](#CPU_Implementation_DDM)\n",
    "        2. [GPU Implementation](#GPU_Implementation_DDM)\n",
    "            1. [Extrinsic Diffusion Process](#Extrinsic_Diffusion_Process_DDM)\n",
    "            2. [Intrinsic Diffusion Process](#Intrinsic_Diffusion_Process_DDM)\n",
    "            3. [Intrinsic Diffusion Process with Batch Processing](#Intrinsic_Diffusion_Process_with_Batch_Processing_DDM)\n",
    "    3. [Model Performance](#Model_Performance_DDM)\n",
    "2. [__Race Model__](#Race)\n",
    "    1. [Basic Implentation](#Basic_Implementation_Race)\n",
    "<!--     2. [GPU Implementation](#GPU_Implementation_Race)\n",
    "        1. [Intrinsic Diffusion Process](#Intrinsic_Diffusion_Process_Race)\n",
    "        2. [Intrinsic Diffusion Process with Batch Processing](#Intrinsic_Diffusion_Process_with_Batch_Processing_Race) -->\n",
    "3. [__Leaky-Competing Accimulator Model (LCA)__](#LCA)\n",
    "    1. [Basic Implentation](#Basic_Implementation_LCA)\n",
    "    2. [GPU Implementation](#GPU_Implementation_LCA)\n",
    "        1. [Intrinsic Diffusion Process](#Intrinsic_Diffusion_Process_LCA)\n",
    "        2. [Intrinsic Diffusion Process with Batch Processing](#Intrinsic_Diffusion_Process_with_Batch_Processing_LCA)\n",
    "\n",
    "<br>\n",
    "<br>\n",
    "<br>"
   ]
  },
  {
   "cell_type": "markdown",
   "id": "ca974358-9b69-45bc-9d1a-767d12dd16fc",
   "metadata": {},
   "source": [
    "`Basic Imports`"
   ]
  },
  {
   "cell_type": "code",
   "execution_count": 1,
   "id": "cc0ad2af-f34a-4d38-b6e7-7dc4fbca0e45",
   "metadata": {
    "tags": [
     "hide-cell"
    ]
   },
   "outputs": [],
   "source": [
    "%%capture --no-display\n",
    "%pylab inline\n",
    "import numpy as np\n",
    "from matplotlib import pyplot as plt\n",
    "from IPython.display import clear_output\n",
    "\n",
    "import numba\n",
    "import cupy as cp\n",
    "from numba import cuda, prange\n",
    "from numba.cuda import random\n",
    "from numba import jit, njit, vectorize\n",
    "from numba.core.errors import NumbaPerformanceWarning\n",
    "import warnings\n",
    "warnings.simplefilter('ignore', category=NumbaPerformanceWarning)\n",
    "import GPUtil\n"
   ]
  },
  {
   "cell_type": "code",
   "execution_count": 2,
   "id": "ed54ca48-9193-476b-b9b4-066d3e810ceb",
   "metadata": {
    "tags": []
   },
   "outputs": [],
   "source": [
    "# Functions\n",
    "def ReLU(input):\n",
    "    '''Takes an input value and performs rectified linear unit operation i.e., \n",
    "    A = A   if A >= 0\n",
    "    A = 0   if A <  0\n",
    "    '''\n",
    "    return input * (input >= 0)\n"
   ]
  },
  {
   "cell_type": "markdown",
   "id": "67bfbeec-c386-4a30-b454-1e2efc1e1094",
   "metadata": {},
   "source": [
    "<a id=\"DDM\"></a>\n",
    "## 1. Drift-Diffusion Model"
   ]
  },
  {
   "cell_type": "markdown",
   "id": "b54f4793-1187-4ab7-935f-a05cc45b66f8",
   "metadata": {},
   "source": [
    "The Drift-Diffusion Model (DDM) has been around for a couple of decades before the neural correlats of accumulation based decision making was discovered. The model is an extension of stochastic diffusion process often known as Brownian motion or Random walk process and adds drifting component to such process. \n",
    "\n",
    "Let’s assume we are performing a decision between two different choices. The model predicts that you start at neutral position and accumulate net evidence for choosing one of the choices. This process has stochastic drift with diffusion component. Once you accumulate evidence equivalent to specific threshold you make that choice. The advancement of this model over models from signal detection theory was that it is dynamic model and doesn’t account only for the choices but also the reaction time of the decision making process. \n",
    "    \n",
    "<h4> The model illustration is shown below:</h4>\n",
    "\n",
    "<center><img src=media/DDM1.png  width=\"500\"/></center>\n",
    "    \n",
    "The idea behind this model is that you start at the center point and based on the evidence in you start accumulating the decision variable towards one of the choice depending on the stimulus input. Once the decision variable crosses choice threshold, subject makes that choice.\n",
    "<br></br>\n",
    "<br></br>\n",
    "<h4> Neural representation of the model:</h4>\n",
    "   \n",
    "<center><img src=media/DDM2.png  width=\"250\"/></center>\n",
    "\n",
    "Another way of thinking about these model is that we could have two neurons which integrate the stimulus for one of the two choices. However, these neurons have perfect \n",
    "inhibition  to its counterpart. \n",
    "\n",
    "<br></br>\n",
    "<br></br>\n",
    "\n",
    "This drift-diffusion process can be mathematically formulated as: \n",
    "\n",
    "### <center>$ DV (t+1) = DV (t) + \\mathcal{N}(r, \\sigma) $<center>\n",
    "Where, <center>DV – Stimulus dependent decision variable  \n",
    "       t – Time  \n",
    "       r – Drift factor  \n",
    "       $\\sigma$ – Drift variability<center>\n",
    "    \n",
    "<br><br>\n",
    "<br><br>\n",
    "\n"
   ]
  },
  {
   "cell_type": "markdown",
   "id": "9e840065-26b7-4c79-9e07-0ea0eef6ddaa",
   "metadata": {},
   "source": [
    "<a id=\"Basic_Implementation_DDM\"></a>\n",
    "### A. Basic Implementation"
   ]
  },
  {
   "cell_type": "markdown",
   "id": "5c0eb24a-8b36-4e20-8ef2-4936dc102c24",
   "metadata": {},
   "source": [
    "##### `Functions for initializing stimulus input and model parameters`"
   ]
  },
  {
   "cell_type": "code",
   "execution_count": 3,
   "id": "167df9cd-b7c3-4b82-84eb-2db67f6920c4",
   "metadata": {
    "tags": [
     "hide-cell"
    ]
   },
   "outputs": [],
   "source": [
    "def input_for_basic_DDM_implementation():\n",
    "    # Stimulus input\n",
    "    coherence = 100\n",
    "    # Model Variables\n",
    "    starting_point = 0             # starting point 1\n",
    "    drift_gain = 10e-6             # drift gain\n",
    "    drift_variance = 10e-3         # diffusion variability\n",
    "    drift_rate = coherence*drift_gain      # drift rate\n",
    "    non_decision_time = 100        # Non-decision time (msec)\n",
    "    decision_bound = 1                      # Decision-bound\n",
    "    stop_time = 10000              # Maximum allowed time for simulation    \n",
    "    \n",
    "    return coherence, starting_point, drift_gain, drift_variance, drift_rate, non_decision_time, decision_bound, stop_time\n"
   ]
  },
  {
   "cell_type": "markdown",
   "id": "41416e63-4c09-4e27-bf8c-353279bb1028",
   "metadata": {},
   "source": [
    "##### `Model Simulation`"
   ]
  },
  {
   "cell_type": "code",
   "execution_count": 4,
   "id": "721a40a8-4e1e-4a4a-92c2-68448c7633ff",
   "metadata": {},
   "outputs": [
    {
     "name": "stdout",
     "output_type": "stream",
     "text": [
      "Wall time: 7.25 s\n"
     ]
    },
    {
     "data": {
      "text/plain": [
       "<function matplotlib.pyplot.show(close=None, block=None)>"
      ]
     },
     "execution_count": 4,
     "metadata": {},
     "output_type": "execute_result"
    },
    {
     "data": {
      "image/png": "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\n",
      "text/plain": [
       "<Figure size 432x288 with 1 Axes>"
      ]
     },
     "metadata": {
      "needs_background": "light"
     },
     "output_type": "display_data"
    }
   ],
   "source": [
    "%%time\n",
    "\n",
    "coh, sp, dg, sigma, dr, ndt, bound, stop_time = input_for_basic_DDM_implementation()\n",
    "\n",
    "# Model output\n",
    "nTrials = 1000\n",
    "rt = np.array([],dtype=float32)             # Collect reaction time for each trial\n",
    "decision = np.array([],dtype=float32)                  # Collect decision on each trial\n",
    "time = 0                                               # time -> msec\n",
    "    \n",
    "diffusion_step = np.random.normal(loc=dr, scale=sigma, size=(nTrials, stop_time))    # change in accumulator depending on stimulus and drift\n",
    "\n",
    "for tr in range(nTrials):\n",
    "    dv = np.array([sp],dtype=float32)  # Initializing decision variable\n",
    "    for t in range(stop_time):\n",
    "        dv = np.append(dv, dv[t]+diffusion_step[tr,t])    # update decision variable\n",
    "        if np.abs(dv[t]) > bound:    # checking if decision bound is reached\n",
    "            decision =  np.append(decision, np.sign(dv[t]))\n",
    "            rt =  np.append(rt, t)\n",
    "            break\n",
    "            \n",
    "else:    # if decision is not reached\n",
    "    decision =  np.append(decision, np.NaN)\n",
    "    rt =  np.append(rt, np.NaN) \n",
    "\n",
    "rt = rt+ndt\n",
    "plt.hist(rt)\n",
    "plt.show "
   ]
  },
  {
   "cell_type": "markdown",
   "id": "cff240d4-99ef-46c7-9b8d-794b0162cfac",
   "metadata": {},
   "source": [
    "<a id='Parallel_Implementation_DDM'></a>\n",
    "\n",
    "<br>\n",
    "<br>\n",
    "<br>\n",
    "\n",
    "\n",
    "## B. Parallel Implementation"
   ]
  },
  {
   "cell_type": "markdown",
   "id": "27156faa-3bfd-4c06-865a-5aa09dfb7303",
   "metadata": {},
   "source": [
    "<a id='CPU_Implementation_DDM'></a>\n",
    "<br>\n",
    "\n",
    "### a. CPU Implementation"
   ]
  },
  {
   "cell_type": "markdown",
   "id": "4252ee2e-a3b2-4456-adbe-85ed36acbdff",
   "metadata": {},
   "source": [
    "##### `Function for CPU parellelization and compilation`"
   ]
  },
  {
   "cell_type": "code",
   "execution_count": 5,
   "id": "4a359c5a-eb64-48de-ba77-44e52e1ab360",
   "metadata": {},
   "outputs": [],
   "source": [
    "\n",
    "@njit(parallel=True,fastmath=True)\n",
    "def DDM_cpu_parallel(coh,nTrials,pars,stop_time):\n",
    "    # To create empty array with numba => [np.int64(x) for x in range(0)]\n",
    "    rt =  np.empty(nTrials)*np.NaN        \n",
    "    decision = np.empty(nTrials)*np.NaN   \n",
    "    sp = pars[0]             # starting point 1\n",
    "    dg = pars[1]             # drift gain\n",
    "    sigma = pars[2]          # diffusion variability\n",
    "    ndt = pars[3]            # Non-decision time (msec)\n",
    "    bound = pars[4]\n",
    "    dr = coh*dg              # drift rate\n",
    "    t = 0                    # time -> msec\n",
    "    \n",
    "    diffusion_step = np.random.normal(loc=dr, scale=sigma, size=(nTrials, stop_time))    # change in accumulator 1\n",
    "    for tr in prange(nTrials):\n",
    "        dv = np.array([sp],dtype=float64)\n",
    "        for t in range(stop_time):\n",
    "            dv = np.append(dv, dv[t]+diffusion_step[tr,t])    # update decision variable\n",
    "            if np.abs(dv[t]) > bound:    # checking if decision bound is reached\n",
    "                decision[tr] =  np.sign(dv[t])\n",
    "                rt[tr] = t\n",
    "                break\n",
    "    rt = rt+ndt\n",
    "    return decision, rt\n",
    "\n",
    "# Initializing jit compilation\n",
    "coh = 100\n",
    "sp = 0             # starting point 1\n",
    "dg = 10e-6         # drift gain\n",
    "sigma = 10e-3      # diffusion variability\n",
    "dr = coh*dg        # drift rate\n",
    "t = 0              # time -> msec\n",
    "ndt = 100          # Non-decision time (msec)\n",
    "bound = 1          # Decision-bound\n",
    "stop_time = 1000   # Maximum allowed time for simulation\n",
    "nTrials = 10       # Number of trials to simulate\n",
    "pars = np.array([sp,dg,sigma,ndt,bound])\n",
    "DDM_cpu_parallel(coh,nTrials,pars,stop_time);"
   ]
  },
  {
   "cell_type": "markdown",
   "id": "e2e2ced9-4a97-4997-ba9c-9ea15fb0c26f",
   "metadata": {},
   "source": [
    "##### `Stimulus input and model parameters`"
   ]
  },
  {
   "cell_type": "code",
   "execution_count": 6,
   "id": "16018e92-4d00-497c-8855-ec7da2a7585d",
   "metadata": {},
   "outputs": [],
   "source": [
    "# Stimulus input\n",
    "coh = 100\n",
    "\n",
    "# Model parameters\n",
    "sp = 0             # starting point 1\n",
    "dg = 10e-6         # drift gain\n",
    "sigma = 10e-3      # diffusion variability\n",
    "dr = coh*dg        # drift rate\n",
    "t = 0              # time -> msec\n",
    "ndt = 100          # Non-decision time (msec)\n",
    "bound = 1          # Decision-bound\n",
    "stop_time = 10000  # Maximum allowed time for simulation\n",
    "nTrials = 1000     # Number of trials to simulate"
   ]
  },
  {
   "cell_type": "markdown",
   "id": "60c8234e-e10a-4ecd-8b90-bf348133d31f",
   "metadata": {},
   "source": [
    "##### `Model Simulation`"
   ]
  },
  {
   "cell_type": "code",
   "execution_count": 7,
   "id": "8adb1b4a-dcd1-43ec-93f1-eeeb63199cec",
   "metadata": {},
   "outputs": [
    {
     "name": "stdout",
     "output_type": "stream",
     "text": [
      "Wall time: 332 ms\n"
     ]
    },
    {
     "data": {
      "text/plain": [
       "<function matplotlib.pyplot.show(close=None, block=None)>"
      ]
     },
     "execution_count": 7,
     "metadata": {},
     "output_type": "execute_result"
    },
    {
     "data": {
      "image/png": "iVBORw0KGgoAAAANSUhEUgAAAXcAAAD4CAYAAAAXUaZHAAAAOXRFWHRTb2Z0d2FyZQBNYXRwbG90bGliIHZlcnNpb24zLjQuMywgaHR0cHM6Ly9tYXRwbG90bGliLm9yZy/MnkTPAAAACXBIWXMAAAsTAAALEwEAmpwYAAAOOUlEQVR4nO3dXahdZX7H8e+v6ngxCsbmNKQx9FhJLzIXjXKwwshgkfoSL6I3ohdjcITMRQSF6UWcuRhvBKdUB4RWiBgmFqsVVAxoO5MJgsyFOieSiXlpatSICTE5Uwe1DNiq/16cFWZPPO/77OyTJ98PbPaz/2utvZ79uPJz7WfvvU6qCklSW/5k2B2QJC0+w12SGmS4S1KDDHdJapDhLkkNOn/YHQBYvnx5jY6ODrsbknRW2b1792+ramSqZUsi3EdHRxkfHx92NyTprJLkg+mWOS0jSQ0y3CWpQYa7JDXIcJekBhnuktQgw12SGmS4S1KDDHdJapDhLkkNWhK/UNX8jG55eWj7PvLwLUPbt6S588xdkhpkuEtSgwx3SWqQ4S5JDTLcJalBhrskNchwl6QGGe6S1CDDXZIaZLhLUoMMd0lqkOEuSQ0y3CWpQYa7JDXIcJekBhnuktQgw12SGjRruCdZneTVJAeS7E9yX1d/MMmxJHu62/qebR5IcjjJoSQ3DvIFSJK+bi5/Zu8L4AdV9VaSi4HdSXZ2y35aVf/Yu3KStcAdwLeAPwd+meSvqurLxey4JGl6s565V9Xxqnqra38GHARWzbDJBuDZqvq8qt4HDgNXL0ZnJUlzM6859ySjwJXAG13p3iR7k2xLsqyrrQI+7NnsKFP8zyDJpiTjScYnJibm33NJ0rTmHO5JLgKeB+6vqk+Bx4ErgHXAceCR+ey4qrZW1VhVjY2MjMxnU0nSLOYU7kkuYDLYn66qFwCq6kRVfVlVXwFP8Iepl2PA6p7NL+tqkqQzZC7flgnwJHCwqh7tqa/sWe02YF/X3gHckeTCJJcDa4A3F6/LkqTZzOXbMt8Gvgu8nWRPV/shcGeSdUABR4DvA1TV/iTPAQeY/KbNZr8pI0ln1qzhXlW/AjLFoldm2OYh4KE++iVJ6oO/UJWkBhnuktQgw12SGmS4S1KDDHdJapDhLkkNMtwlqUGGuyQ1yHCXpAYZ7pLUIMNdkhpkuEtSgwx3SWqQ4S5JDTLcJalBhrskNchwl6QGGe6S1CDDXZIaNJc/kK1pjG55edhdkKQpeeYuSQ3yzF3zMqx3K0cevmUo+5XOVp65S1KDDHdJapDhLkkNMtwlqUGGuyQ1yHCXpAbNGu5JVid5NcmBJPuT3NfVL02yM8k73f2yrp4kjyU5nGRvkqsG/SIkSX9sLmfuXwA/qKq1wDXA5iRrgS3ArqpaA+zqHgPcDKzpbpuAxxe915KkGc0a7lV1vKre6tqfAQeBVcAGYHu32nbg1q69AXiqJr0OXJJk5WJ3XJI0vXnNuScZBa4E3gBWVNXxbtFHwIquvQr4sGezo13t9OfalGQ8yfjExMR8+y1JmsGcwz3JRcDzwP1V9WnvsqoqoOaz46raWlVjVTU2MjIyn00lSbOYU7gnuYDJYH+6ql7oyidOTbd09ye7+jFgdc/ml3U1SdIZMpdvywR4EjhYVY/2LNoBbOzaG4GXeup3dd+auQb4pGf6RpJ0BszlqpDfBr4LvJ1kT1f7IfAw8FySe4APgNu7Za8A64HDwO+Buxezw5Kk2c0a7lX1KyDTLL5+ivUL2NxnvyRJffAXqpLUIMNdkhpkuEtSgwx3SWqQ4S5JDTLcJalBhrskNchwl6QGGe6S1CDDXZIaZLhLUoMMd0lqkOEuSQ0y3CWpQYa7JDXIcJekBhnuktQgw12SGmS4S1KDDHdJapDhLkkNMtwlqUGGuyQ1yHCXpAYZ7pLUIMNdkhpkuEtSgwx3SWrQrOGeZFuSk0n29dQeTHIsyZ7utr5n2QNJDic5lOTGQXVckjS9uZy5/wy4aYr6T6tqXXd7BSDJWuAO4FvdNv+c5LzF6qwkaW5mDfeqeg34eI7PtwF4tqo+r6r3gcPA1X30T5K0AP3Mud+bZG83bbOsq60CPuxZ52hX+5okm5KMJxmfmJjooxuSpNMtNNwfB64A1gHHgUfm+wRVtbWqxqpqbGRkZIHdkCRNZUHhXlUnqurLqvoKeII/TL0cA1b3rHpZV5MknUELCvckK3se3gac+ibNDuCOJBcmuRxYA7zZXxclSfN1/mwrJHkGuA5YnuQo8GPguiTrgAKOAN8HqKr9SZ4DDgBfAJur6suB9FySNK1Zw72q7pyi/OQM6z8EPNRPpyRJ/fEXqpLUIMNdkhpkuEtSgwx3SWqQ4S5JDTLcJalBhrskNchwl6QGGe6S1CDDXZIaZLhLUoMMd0lqkOEuSQ0y3CWpQYa7JDXIcJekBhnuktQgw12SGmS4S1KDDHdJapDhLkkNMtwlqUGGuyQ16Pxhd0Cai9EtLw9t30cevmVo+5YWyjN3SWqQ4S5JDTLcJalBhrskNWjWcE+yLcnJJPt6apcm2Znkne5+WVdPkseSHE6yN8lVg+y8JGlqczlz/xlw02m1LcCuqloD7OoeA9wMrOlum4DHF6ebkqT5mDXcq+o14OPTyhuA7V17O3BrT/2pmvQ6cEmSlYvUV0nSHC30e+4rqup41/4IWNG1VwEf9qx3tKsdZ0CG+f1nSVqq+v5AtaoKqPlul2RTkvEk4xMTE/12Q5LUY6HhfuLUdEt3f7KrHwNW96x3WVf7mqraWlVjVTU2MjKywG5Ikqay0HDfAWzs2huBl3rqd3XfmrkG+KRn+kaSdIbMOuee5BngOmB5kqPAj4GHgeeS3AN8ANzerf4KsB44DPweuHsAfZYkzWLWcK+qO6dZdP0U6xawud9OSZL64y9UJalBhrskNchwl6QGGe6S1CDDXZIaZLhLUoMMd0lqkOEuSQ0y3CWpQYa7JDXIcJekBhnuktQgw12SGmS4S1KDDHdJapDhLkkNMtwlqUGGuyQ1yHCXpAYZ7pLUIMNdkhpkuEtSgwx3SWqQ4S5JDTLcJalBhrskNchwl6QGGe6S1CDDXZIadH4/Gyc5AnwGfAl8UVVjSS4F/g0YBY4At1fV7/rrpiRpPhbjzP1vq2pdVY11j7cAu6pqDbCreyxJOoMGMS2zAdjetbcDtw5gH5KkGfQb7gX8IsnuJJu62oqqOt61PwJWTLVhkk1JxpOMT0xM9NkNSVKvvubcgWur6liSPwN2JvnP3oVVVUlqqg2raiuwFWBsbGzKdSRJC9PXmXtVHevuTwIvAlcDJ5KsBOjuT/bbSUnS/Cw43JN8M8nFp9rADcA+YAewsVttI/BSv52UJM1PP9MyK4AXk5x6nn+tqv9I8mvguST3AB8At/ffTUnSfCw43KvqPeCvp6j/N3B9P52SJPWn3w9UpeaNbnl5KPs98vAtQ9mv2uDlBySpQYa7JDXIcJekBhnuktQgw12SGmS4S1KDDHdJapDhLkkNMtwlqUGGuyQ1yHCXpAYZ7pLUIMNdkhpkuEtSgwx3SWqQ4S5JDTLcJalB/iUmaYnyL0CpH565S1KDPHOX9EeG9Y4BfNewmDxzl6QGGe6S1CDDXZIaZLhLUoMMd0lqkOEuSQ0y3CWpQQML9yQ3JTmU5HCSLYPajyTp6wbyI6Yk5wH/BPwdcBT4dZIdVXVgEPuT1IZh/oBqWAb1w61BnblfDRyuqveq6n+BZ4ENA9qXJOk0g7r8wCrgw57HR4G/6V0hySZgU/fwf5IcWsB+lgO/XVAPzw2Oz+wco5k5PjPre3zyk772/xfTLRjatWWqaiuwtZ/nSDJeVWOL1KXmOD6zc4xm5vjMbCmPz6CmZY4Bq3seX9bVJElnwKDC/dfAmiSXJ/kGcAewY0D7kiSdZiDTMlX1RZJ7gZ8D5wHbqmr/AHbV17TOOcDxmZ1jNDPHZ2ZLdnxSVcPugyRpkfkLVUlqkOEuSQ1a0uGe5EiSt5PsSTLe1S5NsjPJO939sq6eJI91lzvYm+Sq4fZ+MJJsS3Iyyb6e2rzHJMnGbv13kmwcxmsZhGnG58Ekx7rjaE+S9T3LHujG51CSG3vqTV4+I8nqJK8mOZBkf5L7urrHEDOOz9l3DFXVkr0BR4Dlp9X+AdjStbcAP+na64F/BwJcA7wx7P4PaEy+A1wF7FvomACXAu9198u69rJhv7YBjs+DwN9Pse5a4DfAhcDlwLtMfgHgvK79l8A3unXWDvu1LdL4rASu6toXA//VjYPH0Mzjc9YdQ0v6zH0aG4DtXXs7cGtP/ama9DpwSZKVQ+jfQFXVa8DHp5XnOyY3Ajur6uOq+h2wE7hp4J0/A6YZn+lsAJ6tqs+r6n3gMJOXzmj28hlVdbyq3uranwEHmfxFuccQM47PdJbsMbTUw72AXyTZ3V2uAGBFVR3v2h8BK7r2VJc8mOk/SkvmOybn4ljd200rbDs15cA5Pj5JRoErgTfwGPqa08YHzrJjaKmH+7VVdRVwM7A5yXd6F9bk+yK/y9nDMZnS48AVwDrgOPDIUHuzBCS5CHgeuL+qPu1d5jE05ficdcfQkg73qjrW3Z8EXmTyrc6JU9Mt3f3JbvVz+ZIH8x2Tc2qsqupEVX1ZVV8BTzB5HME5Oj5JLmAyuJ6uqhe6ssdQZ6rxORuPoSUb7km+meTiU23gBmAfk5cxOPXJ/Ebgpa69A7ir+3T/GuCTnreZrZvvmPwcuCHJsu7t5Q1drUmnffZyG5PHEUyOzx1JLkxyObAGeJOGL5+RJMCTwMGqerRnkccQ04/PWXkMDfvT6eluTH7K/Jvuth/4UVf/U2AX8A7wS+DSrh4m/0DIu8DbwNiwX8OAxuUZJt8W/h+T83j3LGRMgO8x+eHPYeDuYb+uAY/Pv3Svfy+T/8BW9qz/o258DgE399TXM/lNiXdPHXst3IBrmZxy2Qvs6W7rPYZmHZ+z7hjy8gOS1KAlOy0jSVo4w12SGmS4S1KDDHdJapDhLkkNMtwlqUGGuyQ16P8BNcn62R7bNGIAAAAASUVORK5CYII=\n",
      "text/plain": [
       "<Figure size 432x288 with 1 Axes>"
      ]
     },
     "metadata": {
      "needs_background": "light"
     },
     "output_type": "display_data"
    }
   ],
   "source": [
    "pars = np.array([sp,dg,sigma,ndt,bound])\n",
    "%time decision, rt = DDM_cpu_parallel(coh,nTrials,pars,stop_time)\n",
    "\n",
    "plt.hist(rt)\n",
    "plt.show"
   ]
  },
  {
   "cell_type": "markdown",
   "id": "7a0b9f0c-ce7c-48ee-b137-b814bcd581e6",
   "metadata": {},
   "source": [
    "<a id='GPU_Implementation_DDM'></a>\n",
    "\n",
    "<br>\n",
    "<br>\n",
    "<br>\n",
    "\n",
    "### b. GPU Implementation"
   ]
  },
  {
   "cell_type": "markdown",
   "id": "14fcef9b-c523-45fe-8413-50970b7c39d5",
   "metadata": {},
   "source": [
    "<a id='Extrinsic_Diffusion_Process_DDM'></a>\n",
    "\n",
    "<br>\n",
    "\n",
    "#### i. Extrinsic Diffusion Process"
   ]
  },
  {
   "cell_type": "markdown",
   "id": "bff071c4-cd00-49d8-9b5c-e1f5d6a1251f",
   "metadata": {},
   "source": [
    "##### `Kernels for GPU parellelization and compilation`"
   ]
  },
  {
   "cell_type": "code",
   "execution_count": 8,
   "id": "a9bb53f9-bd14-4f9c-ab49-58f4fe0147b4",
   "metadata": {},
   "outputs": [
    {
     "name": "stdout",
     "output_type": "stream",
     "text": [
      "Wall time: 201 ms\n"
     ]
    }
   ],
   "source": [
    "# @jit\n",
    "def get_diffusion_matrix(coherence, drift_gain, sigma, nTrials=50000, stop_time=10000):\n",
    "    # Check if coherence value is scalar. If it is, then create matrix for diffusion step calculation\n",
    "    if np.isscalar(coherence):        \n",
    "        coherence = np.ones((nTrials, stop_time), dtype=float32)*coherence\n",
    "    if 'diffusion_matrix' in globals():  # If diffusion_matrix is already defined delete it to reduce load on VRAM\n",
    "        del diffusion_matrix\n",
    "        cp.get_default_memory_pool().free_all_blocks()\n",
    "    diffusion_matrix = cp.asarray(coherence)\n",
    "    diffusion_matrix = cp.multiply(diffusion_matrix,cp.asarray(drift_gain))    # Mean of diffusion to be Coh x drift gain\n",
    "    diffusion_matrix = cp.random.normal(diffusion_matrix, sigma, dtype='float32')    # Generating normal random steps\n",
    "    return diffusion_matrix\n",
    "\n",
    "# For Dynamic Coherence\n",
    "@cuda.jit\n",
    "def DDM_kernel(sp, bound, ndt, diffusion_step, decision, rt): \n",
    "    tr = cuda.grid(1)\n",
    "    tr_in_bounds = (tr >= 0) and (tr <= (diffusion_step.shape[0] - 1))   \n",
    "    if tr_in_bounds:\n",
    "        dv = sp\n",
    "        for t in range(diffusion_step.shape[1]):\n",
    "            dv = dv + diffusion_step[tr,t]      # update decision variable\n",
    "            if dv > bound[t] or dv < -bound[t]:       # checking if decision bound is reached\n",
    "                decision[tr] =  2*(dv>0) - 1    # np.sign(dv) alternative\n",
    "                rt[tr] = t+ndt\n",
    "                break  \n",
    "# Initializing DDM_Coherence_kernel with small variables\n",
    "sp=0\n",
    "ndt=0\n",
    "bound=cp.array([1,1])\n",
    "diffusion_step = cp.array([[2,3],[3,5]])\n",
    "decision = cp.empty(2)*cp.NaN\n",
    "rt = cp.empty(2)*cp.NaN\n",
    "blockdim = (16)\n",
    "griddim = (diffusion_step.shape[0] // blockdim) + 1\n",
    "cuda.synchronize()\n",
    "%time DDM_kernel[griddim, blockdim](sp, bound, ndt, diffusion_step, decision, rt);\n",
    "cuda.synchronize()\n"
   ]
  },
  {
   "cell_type": "markdown",
   "id": "b3b8292e-e90f-434c-b56d-acffadf04faf",
   "metadata": {},
   "source": [
    "##### `Stimulus input and model parameters`"
   ]
  },
  {
   "cell_type": "code",
   "execution_count": 9,
   "id": "93b9fffd-ac76-467e-a0dc-e7b9e137290b",
   "metadata": {},
   "outputs": [
    {
     "name": "stdout",
     "output_type": "stream",
     "text": [
      "Wall time: 741 ms\n"
     ]
    }
   ],
   "source": [
    "%%time\n",
    "cp.random.seed()\n",
    "coh = 100\n",
    "sp = 0             # starting point 1\n",
    "dg = 10e-6         # drift gain\n",
    "sigma = 10e-3      # diffusion variability\n",
    "ndt = 100          # Non-decision time (msec)\n",
    "bound = 1\n",
    "dg = np.array([dg],dtype=float32)\n",
    "\n",
    "coherence = np.ones((50000, 10000), dtype=float32)*coh\n",
    "bound = cp.ones(10000, dtype=float32)*bound\n"
   ]
  },
  {
   "cell_type": "markdown",
   "id": "7baa4178-6b52-4e15-ab81-8e89f1c8c62e",
   "metadata": {},
   "source": [
    "##### `Model Simulation`"
   ]
  },
  {
   "cell_type": "code",
   "execution_count": 10,
   "id": "d58d6b48-bd8e-4c36-8c56-6f54b5dbbcff",
   "metadata": {},
   "outputs": [
    {
     "name": "stdout",
     "output_type": "stream",
     "text": [
      "Wall time: 95.2 ms\n"
     ]
    },
    {
     "data": {
      "text/plain": [
       "(array([2.9550e+03, 1.7468e+04, 1.7484e+04, 8.1610e+03, 2.8650e+03,\n",
       "        7.9900e+02, 1.9300e+02, 5.7000e+01, 1.2000e+01, 6.0000e+00]),\n",
       " array([ 391. ,  691.1,  991.2, 1291.3, 1591.4, 1891.5, 2191.6, 2491.7,\n",
       "        2791.8, 3091.9, 3392. ]),\n",
       " <BarContainer object of 10 artists>)"
      ]
     },
     "execution_count": 10,
     "metadata": {},
     "output_type": "execute_result"
    },
    {
     "data": {
      "image/png": "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\n",
      "text/plain": [
       "<Figure size 432x288 with 1 Axes>"
      ]
     },
     "metadata": {
      "needs_background": "light"
     },
     "output_type": "display_data"
    }
   ],
   "source": [
    "diffusion_matrix = get_diffusion_matrix(coh, dg, sigma)\n",
    "decision = cp.empty(diffusion_matrix.shape[0])*cp.NaN\n",
    "rt = cp.empty(diffusion_matrix.shape[0])*cp.NaN\n",
    "blockdim = (16)\n",
    "griddim = (diffusion_matrix.shape[0] // blockdim) + 1\n",
    "cuda.synchronize()\n",
    "%time DDM_kernel[griddim, blockdim](sp, bound, ndt, diffusion_matrix, decision, rt)\n",
    "cuda.synchronize()\n",
    "\n",
    "decision = cp.asnumpy(decision)\n",
    "rt = cp.asnumpy(rt)\n",
    "plt.hist(rt)"
   ]
  },
  {
   "cell_type": "markdown",
   "id": "69c89b05-848a-494c-936a-9bc4a9c7ea6c",
   "metadata": {},
   "source": [
    "<a id='Intrinsic_Diffusion_Process_DDM'></a>\n",
    "\n",
    "<br>\n",
    "<br>\n",
    "\n",
    "#### ii. Intrinsic Diffusion Process"
   ]
  },
  {
   "cell_type": "code",
   "execution_count": 11,
   "id": "769f1351-f185-48b0-89a8-6513a5f1194a",
   "metadata": {},
   "outputs": [],
   "source": [
    "cp.random.seed()\n",
    "coh = 100\n",
    "sp = 0             # starting point 1\n",
    "dg = 10e-6         # drift gain\n",
    "sigma = 10e-3      # diffusion variability\n",
    "ndt = 100          # Non-decision time (msec)\n",
    "bound = 1\n",
    "# dg = np.array([dg],dtype=float32)\n",
    "\n",
    "if 'coherence' in globals():\n",
    "    del coherence\n",
    "coherence = cp.ones((50000, 10000), dtype=float32)*coh\n",
    "bound = cp.ones(10000, dtype=float32)*bound\n"
   ]
  },
  {
   "cell_type": "markdown",
   "id": "32d90431-c6f4-44ff-b8cf-88610c8d2ced",
   "metadata": {},
   "source": [
    "##### `Kernels for GPU parellelization and compilation`"
   ]
  },
  {
   "cell_type": "code",
   "execution_count": 12,
   "id": "e2af462f-ecfa-4574-a578-f89bdaae208f",
   "metadata": {},
   "outputs": [
    {
     "name": "stdout",
     "output_type": "stream",
     "text": [
      "Wall time: 252 ms\n"
     ]
    }
   ],
   "source": [
    "\n",
    "# For Dynamic Coherence\n",
    "@cuda.jit\n",
    "def DDM_kernel_for_delay(coherence, sp, dg, sigma, bound, ndt, decision, rt, rng_states): \n",
    "    tr = cuda.grid(1)\n",
    "    tr_in_bounds = (tr >= 0) and (tr <= (coherence.shape[0] - 1))   \n",
    "    if tr_in_bounds:\n",
    "        dv = sp                \n",
    "        for t in range(coherence.shape[1]):\n",
    "            diffusion_step = (coherence[tr,t]*dg)+ (random.xoroshiro128p_normal_float32(rng_states, tr)*sigma)   \n",
    "            dv = dv + diffusion_step      # update decision variable\n",
    "            if dv > bound[t] or dv < -bound[t]:       # checking if decision bound is reached\n",
    "                decision[tr] =  2*(dv>0) - 1    # np.sign(dv) alternative\n",
    "                rt[tr] = t+ndt\n",
    "                break  \n",
    "                \n",
    "# Initializing DDM_Coherence_kernel with small variables\n",
    "sp=0\n",
    "dg = 10e-6\n",
    "sigma = 10e-3\n",
    "ndt=0\n",
    "bound=cp.array([1,1])\n",
    "coherence = cp.array([[100,100],[100,100]])\n",
    "decision = cp.empty(coherence.shape[0])*cp.NaN\n",
    "rt = cp.empty(coherence.shape[0])*cp.NaN\n",
    "blockdim = (16)\n",
    "griddim = (coherence.shape[0] // blockdim) + 1\n",
    "rng_states = random.create_xoroshiro128p_states(griddim * blockdim, seed=1)\n",
    "cuda.synchronize()\n",
    "%time DDM_kernel_for_delay[griddim, blockdim](coherence, sp, dg, sigma, bound, ndt, decision, rt, rng_states)\n",
    "cuda.synchronize()"
   ]
  },
  {
   "cell_type": "markdown",
   "id": "6c4334f5-b457-41fd-87a7-95bdecb32cd3",
   "metadata": {},
   "source": [
    "##### `Stimulus input and model parameters`"
   ]
  },
  {
   "cell_type": "code",
   "execution_count": 13,
   "id": "5734022e-6052-4e68-bf6d-cf493d407d7d",
   "metadata": {},
   "outputs": [],
   "source": [
    "cp.random.seed()\n",
    "coh = 100\n",
    "sp = 0             # starting point 1\n",
    "dg = 10e-6         # drift gain\n",
    "sigma = 10e-3      # diffusion variability\n",
    "ndt = 100          # Non-decision time (msec)\n",
    "bound = 1\n",
    "\n",
    "if 'coherence' in globals():\n",
    "    del coherence\n",
    "coherence = cp.ones((50000, 10000), dtype=float32)*coh\n",
    "bound = cp.ones(10000, dtype=float32)*bound\n"
   ]
  },
  {
   "cell_type": "markdown",
   "id": "a7b28b2b-3d25-413c-8e72-1c4a85d7149f",
   "metadata": {},
   "source": [
    "##### `Model Simulation`"
   ]
  },
  {
   "cell_type": "code",
   "execution_count": 14,
   "id": "a30b7473-a8a1-4b50-b1b2-a411c34a43ca",
   "metadata": {},
   "outputs": [
    {
     "name": "stdout",
     "output_type": "stream",
     "text": [
      "57.8 ms ± 923 µs per loop (mean ± std. dev. of 7 runs, 1 loop each)\n"
     ]
    },
    {
     "data": {
      "image/png": "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\n",
      "text/plain": [
       "<Figure size 432x288 with 1 Axes>"
      ]
     },
     "metadata": {
      "needs_background": "light"
     },
     "output_type": "display_data"
    }
   ],
   "source": [
    "%%timeit \n",
    "\n",
    "decision = cp.empty(coherence.shape[0])*cp.NaN\n",
    "rt = cp.empty(coherence.shape[0])*cp.NaN\n",
    "blockdim = int(128)\n",
    "griddim = (coherence.shape[0] // blockdim) + 1\n",
    "seed = np.random.randint(0, np.iinfo(np.int32).max)\n",
    "rng_states = random.create_xoroshiro128p_states(griddim * blockdim, seed=seed)\n",
    "cuda.synchronize()\n",
    "DDM_kernel_for_delay[griddim, blockdim](coherence, sp, dg, sigma, bound, ndt, decision, rt, rng_states);\n",
    "cuda.synchronize()\n",
    "\n",
    "decision_cpu = cp.asnumpy(decision)\n",
    "rt_cpu = cp.asnumpy(rt)\n",
    "plt.hist(rt_cpu)\n",
    "# GPUtil.showUtilization()"
   ]
  },
  {
   "cell_type": "markdown",
   "id": "6c77c226-4d70-4f31-8f7e-f6b8ed5d6510",
   "metadata": {},
   "source": [
    "<a id='Intrinsic_Diffusion_Process_with_Batch_Processing_DDM'></a>\n",
    "\n",
    "<br>\n",
    "<br>\n",
    "\n",
    "#### iii. Intrinsic Diffusion Process with Batch Processing"
   ]
  },
  {
   "cell_type": "markdown",
   "id": "51d05c71-2367-42b3-b48a-e109e8331ff0",
   "metadata": {},
   "source": [
    "##### `Function for Batch Processing`"
   ]
  },
  {
   "cell_type": "code",
   "execution_count": 15,
   "id": "dc0845f8-6fc1-4838-a656-d6a56de2c789",
   "metadata": {},
   "outputs": [],
   "source": [
    "\n",
    "def batch_simulation(model, coherence, sp, dg, sigma, bound, ndt, seed=None):\n",
    "    batch_size = 10000;\n",
    "    rt_np = []\n",
    "    decision_np = []\n",
    "    blockdim = int(128)\n",
    "    griddim = (batch_size // blockdim) + 1\n",
    "    if seed is None:\n",
    "        seed = np.random.randint(0, np.iinfo(np.int32).max)\n",
    "    rng_states = random.create_xoroshiro128p_states(griddim * blockdim, seed=seed)\n",
    "\n",
    "    for i in range((coherence.shape[0]//batch_size)+1):\n",
    "        coherence_batch = coherence[batch_size*i:batch_size*(i+1)]\n",
    "        decision_cp = cp.empty(coherence_batch.shape[0])*cp.NaN\n",
    "        rt_cp = cp.empty(coherence_batch.shape[0])*cp.NaN\n",
    "        cuda.synchronize()\n",
    "        model[griddim, blockdim](coherence_batch, sp, dg, sigma, bound, ndt, decision_cp, rt_cp, rng_states);\n",
    "        cuda.synchronize()\n",
    "        decision_np = np.append(decision_np, cp.asnumpy(decision_cp))\n",
    "        rt_np = np.append(rt_np, cp.asnumpy(rt_cp))\n",
    "    plt.hist(rt_np)\n",
    "    return decision_np, rt_np\n"
   ]
  },
  {
   "cell_type": "markdown",
   "id": "9120f36b-7136-4bc8-9486-6333c199a3c1",
   "metadata": {},
   "source": [
    "##### `Model Simulation`"
   ]
  },
  {
   "cell_type": "code",
   "execution_count": 16,
   "id": "3159c466-c41e-4cac-9888-e437899a5c2e",
   "metadata": {},
   "outputs": [
    {
     "name": "stdout",
     "output_type": "stream",
     "text": [
      "34.1 ms ± 422 µs per loop (mean ± std. dev. of 7 runs, 10 loops each)\n"
     ]
    },
    {
     "data": {
      "image/png": "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\n",
      "text/plain": [
       "<Figure size 432x288 with 1 Axes>"
      ]
     },
     "metadata": {
      "needs_background": "light"
     },
     "output_type": "display_data"
    }
   ],
   "source": [
    "\n",
    "%timeit decision, rt =  batch_simulation(DDM_kernel_for_delay, coherence, sp, dg, sigma, bound, ndt)\n",
    "# plt.hist(cp.asnumpy(rt))"
   ]
  },
  {
   "cell_type": "markdown",
   "id": "a28076ec-292c-49f6-87b0-3817986f1bef",
   "metadata": {},
   "source": [
    "<a id=\"Model_Performance_DDM\"></a>\n",
    "\n",
    "<br>\n",
    "<br>\n",
    "<br>\n",
    "\n",
    "## C. Model Performance"
   ]
  },
  {
   "cell_type": "markdown",
   "id": "c33c6fd6-dec2-43cf-982c-85645c4b3242",
   "metadata": {},
   "source": [
    "\n",
    "| Model | Number of trials | Simulation time |\n",
    "| --- | --- | --- |\n",
    "|CPU Simulation | 10K | 6 secs | \n",
    "| CPU Simulation with Parallelization | 10K | 250 msec|\n",
    "\n",
    "<br><h5><center>Further improvement in the model to accomodate dynamic input<center><h4><br>\n",
    "\n",
    "| Model | Number of trials | Simulation time |\n",
    "| --- | --- | --- |\n",
    "| GPU Simulation with external diffusion process | 50K | 200 mses |\n",
    "| GPU Simulation with internal diffusion process | 50K | 48.6 ms ± 168 µs |\n",
    "| GPU Simulation with internal diffusion process with batch processing | 50K | 28.9 ms ± 121 µs |"
   ]
  },
  {
   "cell_type": "markdown",
   "id": "ab3118f9-7c8c-48bf-81da-2e7ffb9b4a28",
   "metadata": {
    "tags": []
   },
   "source": [
    "<a id=\"Race\"></a>\n",
    "\n",
    "<br><br>\n",
    "\n",
    "# 2. Race Model"
   ]
  },
  {
   "cell_type": "markdown",
   "id": "bf7757d9-79a8-4981-ab7f-a452dd6eedae",
   "metadata": {},
   "source": [
    "Another competing model to explain such decisions is called Race model. This model is very similar to the DDM models with one key difference. Rather than having a single central accumulator for making a decision, it proposes two different accumulators, one for each choice, and whichever, accumulator reaches the threshold first will be the choice for that trial. Additionally, this model also have anothor restriction. The decision variable cannot be negative as we evidence cannot be negative. Hence, we set DV to zero whenever it goes below zero.  \n",
    "    \n",
    "<h4> The model illustration is shown below:</h4>\n",
    "\n",
    "<center><img src=media/Race1.png  width=\"500\"/></center>\n",
    "    \n",
    "The idea behind this model is as name suggests \"race\" between different decisions. You have two different accumulator, one for each choice. Each accumulator accumulates evidence for corresponding choice and whichever accumulator reaches the threshold bound first wins the race and that choice will be selected\n",
    "<br></br>\n",
    "<br></br>\n",
    "<h4> Neural representation of the Race model:</h4>\n",
    "   \n",
    "<center><img src=media/Race2.png  width=\"250\"/></center>\n",
    "\n",
    "Another way of thinking about these model is that we could have two neurons which integrate the stimulus for one of the two choices. However, unlike DDM case, these neurons do not interact with each other.\n",
    "\n",
    "<br></br>\n",
    "<br></br>\n",
    "\n",
    "The Race model can be mathematically formulated as: \n",
    "\n",
    "### <center>$ DV_{Left}(t+1) = DV_{Left}(t) + \\mathcal{N}(r_{Left}, \\sigma) $<center>\n",
    "\n",
    "### <center>$ DV_{Right}(t+1) = DV_{Right}(t) + \\mathcal{N}(r_{Right}, \\sigma) $<center>\n",
    "    \n",
    "Where, <center>\n",
    "       $DV_{Left}$ – Stimulus dependent decision variable for Left choice  \n",
    "       $DV_{Right}$ – Stimulus dependent decision variable for Right choice  \n",
    "       $r_{Left}$ – Drift factor for Left choice  \n",
    "       $r_{Right}$ – Drift factor for Right choice  \n",
    "       $\\sigma$ – Drift variability  \n",
    "       t – Time<center>\n",
    "    \n",
    "<br><br>\n",
    "    \n"
   ]
  },
  {
   "cell_type": "markdown",
   "id": "3e2065b0-5b99-490c-8b20-654d93ce9fe3",
   "metadata": {},
   "source": [
    "<a id=\"Basic_Implementation_Race\"></a>\n",
    "\n",
    "<br>\n",
    "\n",
    "## A. Basic Implementation"
   ]
  },
  {
   "cell_type": "markdown",
   "id": "84388d9d-8731-4e6e-a84c-1a3a16c82b1e",
   "metadata": {},
   "source": [
    "##### `Initializing stimulus input and model parameters`"
   ]
  },
  {
   "cell_type": "code",
   "execution_count": 17,
   "id": "f415e2a2-ad1e-4b3b-baff-b32ae354a2ac",
   "metadata": {},
   "outputs": [],
   "source": [
    "# Variables\n",
    "coh = 52\n",
    "\n",
    "sp1 = 0                   # starting point 1\n",
    "sp2 = 0                   # starting point 2\n",
    "dg1 = 10e-6               # drift gain 1\n",
    "dg2 = 2*10e-6             # drift gain 2\n",
    "sigma = 10e-3             # diffusion variability\n",
    "I0 = 0.0002               # baseline input\n",
    "dr1 = ReLU(coh)*dg1       # drift rate 1\n",
    "dr2 = ReLU(-coh)*dg2      # drift rate 2\n",
    "t = 0                     # time -> msec\n",
    "bound = 1\n",
    "ndt = 100                 # Non-decision time (msec)\n",
    "stop_time = 10000\n",
    "\n",
    "nTrials = 1000"
   ]
  },
  {
   "cell_type": "markdown",
   "id": "7b08fa74-9fcf-4e73-997c-e39bc05ed5cc",
   "metadata": {},
   "source": [
    "##### `Model Simulation`"
   ]
  },
  {
   "cell_type": "code",
   "execution_count": 19,
   "id": "ae0e2e16-d6ee-4f1d-80d8-0bbb53b80d53",
   "metadata": {
    "tags": []
   },
   "outputs": [],
   "source": [
    "# Race Model\n",
    "''' \n",
    "Considering latent observation of the stimulus.\n",
    "Mainly driven by diffusion variability (if considering 0 input in opposite direction)\n",
    "Good estimate in case of motion energy in random dots which also have some opposite direction component.\n",
    "'''\n",
    "\n",
    "\n",
    "diffusion_step1 = np.random.normal(loc=dr1, scale=sigma, size=(nTrials, stop_time))    # change in accumulator 1\n",
    "diffusion_step2 = np.random.normal(loc=dr2, scale=sigma, size=(nTrials, stop_time))    # change in accumulator 2\n",
    "for tr in range(nTrials):\n",
    "    dv1 = np.array([sp1],dtype=float32)       # Accumulator 1\n",
    "    dv2 = np.array([sp2],dtype=float32)       # Accumulator 2\n",
    "    for t in range(stop_time):\n",
    "        dv1 = np.append(dv1, ReLU(dv1[t]+diffusion_step1[tr,t]))    # update decision variable 1\n",
    "        dv2 = np.append(dv2, ReLU(dv2[t]+diffusion_step2[tr,t]))    # update decision variable 2\n",
    "        if np.abs(dv1[t]) > bound:\n",
    "            decision =  np.append(decision, 1)\n",
    "            rt =  np.append(rt, t)\n",
    "            break\n",
    "        elif np.abs(dv2[t]) > bound:    # checking if decision bound is reached\n",
    "            decision =  np.append(decision, -1)\n",
    "            rt =  np.append(rt, t)\n",
    "            break\n",
    "            \n",
    "else:    # if decision is not reached\n",
    "    decision =  np.append(decision, np.NaN)\n",
    "    rt =  np.append(rt, np.NaN) \n",
    "rt =  rt+ndt\n",
    "\n",
    "# plt.plot(dv1)\n",
    "# plt.plot(dv2)\n",
    "# plt.hist(rt)\n",
    "# plt.show"
   ]
  },
  {
   "cell_type": "markdown",
   "id": "26779a21-4a6f-4754-a87d-4fd48fe92732",
   "metadata": {
    "tags": []
   },
   "source": [
    "<a id=\"LCA\"></a>\n",
    "\n",
    "<br><br>\n",
    "\n",
    "# 3. Leaky-Competing Accumulator Model"
   ]
  },
  {
   "cell_type": "markdown",
   "id": "8eff260d-5743-4194-8fbc-dc9e9ba31c2f",
   "metadata": {},
   "source": [
    "So far we looked at two different models, one with complete suppression of all other accumulators and another with fully independent accumulator. The LCA models fills the methodological gap between these two models with having a partial inhibitory interaction among different accumulator (hence Competing). It also has a leak parameter which representing a leak in the evidence proportional to the evidence in specific accumulator. Similar to race model, this model also has non-negative evidence restriction.\n",
    "\n",
    "    \n",
    "<h4> The model illustration is shown below:</h4>\n",
    "\n",
    "<center><img src=media/LCA1.png  width=\"500\"/></center>\n",
    "    \n",
    "Similar to race models, winner takes all is the basic idea behind this model with additional interactions between different competing elements.\n",
    "<br></br>\n",
    "<br></br>\n",
    "<h4> Neural representation of the Leaky-Competing Accumulator model:</h4>\n",
    "   \n",
    "<center><img src=media/LCA2.png  width=\"250\"/></center>\n",
    "<br>\n",
    "\n",
    "Another way of thinking about these model is that we could have two neurons which integrate the stimulus for one of the two choices. These neurons have inhibitory connection to all other accumulator neurons in addition to information leak parameter represented by activity-dependent self inhibition. S  \n",
    "\n",
    "<br></br>\n",
    "\n",
    "The LCA model can be mathematically formulated as: \n",
    "\n",
    "### <center>$ DV_{Left}(t+1) = DV_{Left}(t) + \\mathcal{N}(r_{Left}, \\sigma) - Leak *  DV_{Left}(t) - LI * DV_{Right}(t) $<center>\n",
    "\n",
    "### <center>$ DV_{Right}(t+1) = DV_{Right}(t) + \\mathcal{N}(r_{Right}, \\sigma) - Leak *  DV_{Right}(t) - LI * DV_{Left}(t) $<center>\n",
    "    \n",
    "Where, <center>\n",
    "       $DV_{Left}$ – Stimulus dependent decision variable for Left choice  \n",
    "       $DV_{Right}$ – Stimulus dependent decision variable for Right choice  \n",
    "       $r_{Left}$ – Drift factor for Left choice  \n",
    "       $r_{Right}$ – Drift factor for Right choice  \n",
    "       $\\sigma$ – Drift variability  \n",
    "       LI - Lateral Inhibition factor\n",
    "       t – Time<center>\n",
    "    \n",
    "<br><br>\n",
    "    \n"
   ]
  },
  {
   "cell_type": "markdown",
   "id": "0fff15ec-2682-478d-9e80-92665edc10fd",
   "metadata": {
    "tags": []
   },
   "source": [
    "<a id=\"Basic_Implementation_LCA\"></a>\n",
    "\n",
    "<br><br>\n",
    "\n",
    "## A. Basic Implementation"
   ]
  },
  {
   "cell_type": "markdown",
   "id": "8318f196-ef85-4cc4-a3a7-57f21a28570a",
   "metadata": {},
   "source": [
    "##### `Initializing stimulus input and model parameters`"
   ]
  },
  {
   "cell_type": "code",
   "execution_count": 20,
   "id": "89b6e7ec-1d4b-491c-91a0-466e83f1d1aa",
   "metadata": {},
   "outputs": [],
   "source": [
    "\n",
    "# Variables\n",
    "coh = 51\n",
    "\n",
    "sp1 = 0             # starting point 1\n",
    "sp2 = 0             # starting point 2\n",
    "dg1 = 10e-6       # drift gain 1\n",
    "dg2 = 2*10e-6       # drift gain 2\n",
    "sigma = 10e-3         # diffusion variability\n",
    "I0 = 0.001         # baseline input\n",
    "dr1 = ReLU(coh)*dg1       # first variable (input)\n",
    "dr2 = ReLU(-coh)*dg2       # second variable (input)\n",
    "leak = 0               # leak\n",
    "lateral_inhibition = 0               # lateral inhibition\n",
    "t = 0               # time -> msec\n",
    "ndt = 100           # Non-decision time (msec)\n",
    "stop_time = 10000\n",
    "\n",
    "nTrials = 10000"
   ]
  },
  {
   "cell_type": "markdown",
   "id": "ab3127e8-e932-44c4-9966-556840c9bff1",
   "metadata": {},
   "source": [
    "##### `Model Simulation`"
   ]
  },
  {
   "cell_type": "code",
   "execution_count": null,
   "id": "b46c27ba-91b2-408d-8ee5-153b9b71e400",
   "metadata": {
    "tags": []
   },
   "outputs": [],
   "source": [
    "%%time\n",
    "\n",
    "diffusion_step1 = np.random.normal(loc=dr1, scale=sigma, size=(nTrials, stop_time))\n",
    "diffusion_step2 = np.random.normal(loc=dr2, scale=sigma, size=(nTrials, stop_time))\n",
    "for tr in range(nTrials):\n",
    "    dv1 = np.array([sp1],dtype=float32)       # Accumulator 1\n",
    "    dv2 = np.array([sp2],dtype=float32)       # Accumulator 2\n",
    "    for t in range(stop_time):\n",
    "        del_dv1 = diffusion_step1[tr,t] - leak*dv1[t] - lateral_inhibition*dv2[t] + I0    # change in accumulator 1\n",
    "        del_dv2 = diffusion_step2[tr,t] - leak*dv2[t] - lateral_inhibition*dv1[t] + I0    # change in accumulator 2\n",
    "        dv1 = np.append(dv1, ReLU(dv1[t]+del_dv1))    # update decision variable 1\n",
    "        dv2 = np.append(dv2, ReLU(dv2[t]+del_dv2))    # update decision variable 2\n",
    "        if np.abs(dv1[t]) > bound:\n",
    "            decision =  np.append(decision, 1)\n",
    "            rt =  np.append(rt, t)\n",
    "            break\n",
    "        elif np.abs(dv2[t]) > bound:    # checking if decision bound is reached\n",
    "            decision =  np.append(decision, -1)\n",
    "            rt =  np.append(rt, t)\n",
    "            break\n",
    "            \n",
    "else:    # if decision is not reached\n",
    "    decision =  np.append(decision, np.NaN)\n",
    "    rt =  np.append(rt, np.NaN) \n",
    "rt =  rt+ndt\n",
    "\n",
    "# plt.hist(rt)\n",
    "# plt.show\n"
   ]
  },
  {
   "cell_type": "markdown",
   "id": "9cf8e020-f1f8-45c1-8daf-df1c732d8c77",
   "metadata": {},
   "source": [
    "<a id=\"GPU_Implementation_LCA\"></a>\n",
    "\n",
    "<br>\n",
    "\n",
    "## 2. GPU Implementation of LCA"
   ]
  },
  {
   "cell_type": "markdown",
   "id": "e9ad0c8b-c7e9-455d-a0f3-506c88e54333",
   "metadata": {},
   "source": [
    "<a id=\"Intrinsic_Diffusion_Process_LCA\"></a>\n",
    "\n",
    "<!-- <br><br> -->\n",
    "\n",
    "### i. Intrinsic Diffusion Process"
   ]
  },
  {
   "cell_type": "markdown",
   "id": "2f1d78cc-5ad1-4a0b-9de2-b678456699b8",
   "metadata": {},
   "source": [
    "##### `Kernels for GPU parellelization and compilation`"
   ]
  },
  {
   "cell_type": "code",
   "execution_count": 24,
   "id": "79a0d3cf-ef14-4a37-b729-8dc67a90aeac",
   "metadata": {},
   "outputs": [],
   "source": [
    "\n",
    "@cuda.jit\n",
    "def ReLU_cuda(input):\n",
    "    return input * (input > 0)\n",
    "\n",
    "# For Dynamic Coherence\n",
    "@cuda.jit\n",
    "def LCA_kernel_for_delay(coherence, sp1, sp2, dg1, dg2, sigma, bound, ndt, leak, lateral_inhibition, decision, rt, rng_states): \n",
    "    tr = cuda.grid(1)\n",
    "    tr_in_bounds = (tr >= 0) and (tr <= (coherence.shape[0] - 1))   \n",
    "    if tr_in_bounds:\n",
    "        dv1 = sp1   # First accumulator                \n",
    "        dv2 = sp2   # Second accumulator\n",
    "        for t in range(coherence.shape[1]):\n",
    "            diffusion_step1 = ReLU_cuda(coherence[tr,t]*dg1)  + (random.xoroshiro128p_normal_float32(rng_states, tr)*sigma)   \n",
    "            diffusion_step2 = ReLU_cuda(-coherence[tr,t]*dg2) + (random.xoroshiro128p_normal_float32(rng_states, tr)*sigma)               \n",
    "            del_dv1 = diffusion_step1 - leak*dv1 - lateral_inhibition*dv2    # change in accumulator 1\n",
    "            del_dv2 = diffusion_step2 - leak*dv2 - lateral_inhibition*dv1    # change in accumulator 1\n",
    "        \n",
    "            dv1 = ReLU_cuda(dv1 + del_dv1)           # update decision variable\n",
    "            dv2 = ReLU_cuda(dv2 + del_dv2)           # update decision variable\n",
    "            \n",
    "            if dv1 > bound[t]:\n",
    "                decision[tr] =  1\n",
    "                rt[tr] = t+ndt\n",
    "                break\n",
    "            if dv2 > bound[t]:\n",
    "                decision[tr] =  -1\n",
    "                rt[tr] = t+ndt\n",
    "                break\n",
    "                                \n",
    "# Initializing DDM_Coherence_kernel with small variables\n",
    "sp1=0\n",
    "sp2=0\n",
    "dg1 = 10e-6\n",
    "dg2 = 10e-6\n",
    "sigma = 10e-3         # diffusion variability\n",
    "I0 = 0.001            # baseline input\n",
    "leak = 0              # leak\n",
    "lateral_inhibition = 0     # lateral inhibition\n",
    "ndt=0\n",
    "bound=1\n",
    "coherence = cp.array([[100,100],[100,100]])\n",
    "bound = cp.array([1,1])\n",
    "decision = cp.empty(coherence.shape[0])*cp.NaN\n",
    "rt = cp.empty(coherence.shape[0])*cp.NaN\n",
    "blockdim = (16)\n",
    "griddim = (coherence.shape[0] // blockdim) + 1\n",
    "rng_states = random.create_xoroshiro128p_states(griddim * blockdim, seed=1)\n",
    "cuda.synchronize()\n",
    "LCA_kernel_for_delay[griddim, blockdim](coherence, sp1, sp2, dg1, dg2, sigma, bound, ndt, leak, lateral_inhibition, decision, rt, rng_states)\n",
    "cuda.synchronize()"
   ]
  },
  {
   "cell_type": "markdown",
   "id": "d99cb968-64f4-4c2a-b013-390d5e5329db",
   "metadata": {},
   "source": [
    "##### `Initializing stimulus input and model parameters`"
   ]
  },
  {
   "cell_type": "code",
   "execution_count": 25,
   "id": "9ab8386c-a830-4c1d-b243-f29bf6572d44",
   "metadata": {},
   "outputs": [],
   "source": [
    "# Initializing DDM_Coherence_kernel with small variables\n",
    "coh = 100\n",
    "sp1=0\n",
    "sp2=0\n",
    "dg1 = 10e-6\n",
    "dg2 = 10e-6\n",
    "sigma = 10e-3         # diffusion variability\n",
    "I0 = 0.001            # baseline input\n",
    "leak = 0              # leak\n",
    "lateral_inhibition = 0     # lateral inhibition\n",
    "ndt=0\n",
    "bound=1\n",
    "\n",
    "if 'coherence' in globals():\n",
    "    del coherence\n",
    "coherence = cp.ones((50000, 10000), dtype=float32)*coh\n",
    "\n",
    "bound = cp.ones(10000, dtype=float32)*bound"
   ]
  },
  {
   "cell_type": "markdown",
   "id": "151f4818-308d-45a6-b554-07f670dc4864",
   "metadata": {},
   "source": [
    "##### `Model Simulation`"
   ]
  },
  {
   "cell_type": "code",
   "execution_count": 26,
   "id": "5f31888e-16de-400f-8cfd-c3646184f982",
   "metadata": {},
   "outputs": [
    {
     "name": "stdout",
     "output_type": "stream",
     "text": [
      "51.8 ms ± 2.17 ms per loop (mean ± std. dev. of 7 runs, 1 loop each)\n"
     ]
    }
   ],
   "source": [
    "%%timeit\n",
    "\n",
    "decision = cp.empty(coherence.shape[0])*cp.NaN\n",
    "rt = cp.empty(coherence.shape[0])*cp.NaN\n",
    "blockdim = (16)\n",
    "griddim = (coherence.shape[0] // blockdim) + 1\n",
    "rng_states = random.create_xoroshiro128p_states(griddim * blockdim, seed=1)\n",
    "\n",
    "cuda.synchronize()\n",
    "LCA_kernel_for_delay[griddim, blockdim](coherence, sp1, sp2, dg1, dg2, sigma, bound, ndt, leak, lateral_inhibition, decision, rt, rng_states)\n",
    "cuda.synchronize()"
   ]
  },
  {
   "cell_type": "markdown",
   "id": "332edd1d-7016-4fa0-84a9-78742c4eb134",
   "metadata": {},
   "source": [
    "<a id=\"Intrinsic_Diffusion_Process_with_Batch_Processing_LCA\"></a>\n",
    "\n",
    "<!-- <br><br> -->\n",
    "\n",
    "### ii. Intrinsic Diffusion Process with Batch Processing"
   ]
  },
  {
   "cell_type": "markdown",
   "id": "95cc194e-b8a2-461b-ae09-9445a6f04526",
   "metadata": {},
   "source": [
    "##### `Model Simulation`"
   ]
  },
  {
   "cell_type": "code",
   "execution_count": null,
   "id": "472c99f5-e2f0-48b4-a739-c2ff1f16605b",
   "metadata": {},
   "outputs": [
    {
     "name": "stdout",
     "output_type": "stream",
     "text": [
      "44.9 ms ± 419 µs per loop (mean ± std. dev. of 7 runs, 10 loops each)\n"
     ]
    },
    {
     "data": {
      "image/png": "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\n",
      "text/plain": [
       "<Figure size 432x288 with 1 Axes>"
      ]
     },
     "metadata": {
      "needs_background": "light"
     },
     "output_type": "display_data"
    }
   ],
   "source": [
    "def batch_simulation(model, coherence, sp1, sp2, dg1, dg2, sigma, bound, ndt, leak, lateral_inhibition, seed=None):\n",
    "    batch_size = 10000;\n",
    "    rt_np = []\n",
    "    decision_np = []\n",
    "    blockdim = int(128)\n",
    "    griddim = (batch_size // blockdim) + 1\n",
    "    if seed is None:\n",
    "        seed = np.random.randint(0, np.iinfo(np.int32).max)\n",
    "    rng_states = random.create_xoroshiro128p_states(griddim * blockdim, seed=seed)\n",
    "\n",
    "    for i in range((coherence.shape[0]//batch_size)+1):\n",
    "        coherence_batch = coherence[batch_size*i:batch_size*(i+1)]\n",
    "        decision_cp = cp.empty(coherence_batch.shape[0])*cp.NaN\n",
    "        rt_cp = cp.empty(coherence_batch.shape[0])*cp.NaN\n",
    "        cuda.synchronize()\n",
    "        model[griddim, blockdim](coherence_batch, sp1, sp2, dg1, dg2, sigma, bound, ndt, leak, lateral_inhibition, decision_cp, rt_cp, rng_states);\n",
    "        cuda.synchronize()\n",
    "        decision_np = np.append(decision_np, cp.asnumpy(decision_cp))\n",
    "        rt_np = np.append(rt_np, cp.asnumpy(rt_cp))\n",
    "    plt.hist(rt_np)\n",
    "    return decision_np, rt_np\n",
    "\n",
    "%timeit decision, rt =  batch_simulation(LCA_kernel_for_delay, coherence, sp1, sp2, dg1, dg2, sigma, bound, ndt, leak, lateral_inhibition)\n",
    "    "
   ]
  },
  {
   "cell_type": "markdown",
   "id": "11137302-24ed-4296-8f97-14c15216b119",
   "metadata": {},
   "source": [
    "\n",
    "<br><br>\n",
    "\n",
    "<center><h3>Leaky-Competing Accumulator Model - Simulation Results<h3><centert>\n",
    "\n",
    "| Model | Number of trials | Simulation time |\n",
    "| --- | --- | --- |\n",
    "| CPU Simulation | 10K | 2.5 secs |\n",
    "| GPU Simulation with internal diffusion process | 50K | 47.4 ms ± 388 µs |\n",
    "| GPU Simulation with internal diffusion process with batch processing | 50K | 41.4 ms ± 654 µs |"
   ]
  },
  {
   "cell_type": "markdown",
   "id": "b262f05e-6de6-4db3-8ae7-aa4f8d81d5cf",
   "metadata": {},
   "source": [
    "# Latent Drift-Diffusion Model"
   ]
  },
  {
   "cell_type": "code",
   "execution_count": null,
   "id": "848418fc-66b4-4b3b-9a9a-001f2a949b54",
   "metadata": {
    "tags": []
   },
   "outputs": [],
   "source": [
    "# Latent DDM\n",
    "''' \n",
    "Considering latent observation of the stimulus.\n",
    "Mainly driven by diffusion variability (if considering 0 input in opposite direction)\n",
    "Good estimate in case of motion energy in random dots also have some opposite direction motion.\n",
    "\n",
    "Mathematically equivalent to running DDM with diffusion of sqrt(2)*sigma instead of sigma\n",
    "\n",
    "'''\n",
    "\n",
    "# Variables\n",
    "coh = 52\n",
    "\n",
    "sp1 = 0                   # starting point 1\n",
    "sp2 = 0                   # starting point 2\n",
    "dg1 = 10e-6               # drift gain 1\n",
    "dg2 = 2*10e-6             # drift gain 2\n",
    "sigma = 10e-3             # diffusion variability\n",
    "I0 = 0.0002               # baseline input\n",
    "dr1 = ReLU(coh)*dg1       # drift rate 1\n",
    "dr2 = ReLU(-coh)*dg2      # drift rate 2\n",
    "t = 0                     # time -> msec\n",
    "ndt = 100                 # Non-decision time (msec)\n",
    "stop_time = 10000\n",
    "\n",
    "nTrials = 1000\n",
    "diffusion_step1 = np.random.normal(loc=dr1, scale=sigma, size=(nTrials, stop_time))    # change in accumulator 1\n",
    "diffusion_step2 = np.random.normal(loc=dr2, scale=sigma, size=(nTrials, stop_time))    # change in accumulator 2\n",
    "for tr in range(nTrials):\n",
    "    x1 = np.array([sp1],dtype=float32)       # Accumulator 1\n",
    "    x2 = np.array([sp2],dtype=float32)       # Accumulator 2\n",
    "    for t in range(stop_time):\n",
    "        x1 = np.append(x1, x1[t]+diffusion_step1[tr,t])    # update decision variable 1\n",
    "        x2 = np.append(x2, x2[t]+diffusion_step2[tr,t])    # update decision variable 2\n",
    "        if np.abs(x1[t]-x2[t]) > bound:    # checking if decision bound is reached\n",
    "            decision =  np.append(decision, np.sign(x1[t]-x2[t]))\n",
    "            rt =  np.append(rt, t)\n",
    "            break\n",
    "\n",
    "else:    # if decision is not reached\n",
    "    decision =  np.append(decision, np.NaN)\n",
    "    rt =  np.append(rt, np.NaN) \n",
    "rt =  rt+ndt\n",
    "\n",
    "# plt.plot(x1,'b')\n",
    "# plt.plot(x2,'g')\n",
    "# plt.plot(dv,'r')\n",
    "plt.hist(rt)\n",
    "plt.show"
   ]
  },
  {
   "cell_type": "markdown",
   "id": "8851e161-98dd-4ae6-8f85-3c80af53df18",
   "metadata": {},
   "source": [
    "# Working unused functinos"
   ]
  },
  {
   "cell_type": "code",
   "execution_count": 19,
   "id": "200bb364-6ac4-44f4-89c8-ccf218bbb559",
   "metadata": {
    "tags": []
   },
   "outputs": [
    {
     "name": "stdout",
     "output_type": "stream",
     "text": [
      "Wall time: 113 ms\n"
     ]
    }
   ],
   "source": [
    "                \n",
    "# Matrix multiplication with LARGE matric and a scale or vector on GPU \n",
    "@cuda.jit\n",
    "def matmult_cuda(matrix, scalar):\n",
    "    row,col = cuda.grid(2)\n",
    "    row_in_bounds = (row >= 0) and (row <= (matrix.shape[0] - 1))\n",
    "    col_in_bounds = (col >= 0) and (col <= (matrix.shape[1] - 1))\n",
    "    if row_in_bounds and col_in_bounds:\n",
    "        matrix[row,col] = scalar*matrix[row,col]\n",
    "# Initializing matmult_cuda function\n",
    "test_mat = cp.array([[2,3,5],[4,5,5]],dtype=float32)\n",
    "test_scalar = np.float32(3)\n",
    "blockdim = (16, 16)\n",
    "griddim = (test_mat.shape[0] // blockdim[0]) + 1, (test_mat.shape[1] // blockdim[1]) + 1\n",
    "%time matmult_cuda[griddim, blockdim](test_mat, test_scalar)\n",
    "        \n",
    "                \n",
    "        \n",
    "# Memory allotment trick\n",
    "def ddm_kernel(coh,nTrials,pars,stop_time,decision, rt):\n",
    "    tx = cuda.threadIdx.x # this is the unique thread ID within a 1D block\n",
    "    ty = cuda.blockIdx.x  # Similarly, this is the unique block ID within the 1D grid\n",
    "\n",
    "    block_size = cuda.blockDim.x  # number of threads per block\n",
    "    grid_size = cuda.gridDim.x    # number of blocks in the grid\n",
    "    \n",
    "    start = tx + ty * block_size\n",
    "    stride = block_size * grid_size\n",
    "\n",
    "    # assuming x and y inputs are same length\n",
    "    for i in range(start, x.shape[0], stride):\n",
    "        out[i] = x[i] + y[i]\n",
    "\n",
    "\n",
    "# For single Coherence\n",
    "@cuda.jit\n",
    "def DDM_kernel(nTrials,pars,stop_time, diffusion_step, decision, rt): \n",
    "\n",
    "    sp = pars[0]             # starting point 1\n",
    "    dg = pars[1]             # drift gain\n",
    "    sigma = pars[2]          # diffusion variability\n",
    "    ndt = pars[3]            # Non-decision time (msec)\n",
    "    bound = pars[4]          # drift rate\n",
    "    t = 0                    # time -> msec\n",
    "\n",
    "    tr = cuda.grid(1)\n",
    "    tr_in_bounds = (tr >= 0) and (tr <= (nTrials - 1))\n",
    "    \n",
    "    if tr_in_bounds:\n",
    "        dv = sp\n",
    "        for t in range(stop_time):\n",
    "            dv = dv + diffusion_step[tr,t]      # update decision variable\n",
    "            if dv > bound or dv < -bound:       # checking if decision bound is reached\n",
    "                decision[tr] =  2*(dv>0) - 1    # np.sign(dv) alternative for making decision based on where evidence is maximum\n",
    "                rt[tr] = t+ndt\n",
    "                break  \n",
    "                \n",
    "\n",
    "def get_gpu_info():                \n",
    "    from numba import cuda\n",
    "\n",
    "    cc_cores_per_SM_dict = {\n",
    "        (2,0) : 32,\n",
    "        (2,1) : 48,\n",
    "        (3,0) : 192,\n",
    "        (3,5) : 192,\n",
    "        (3,7) : 192,\n",
    "        (5,0) : 128,\n",
    "        (5,2) : 128,\n",
    "        (6,0) : 64,\n",
    "        (6,1) : 128,\n",
    "        (7,0) : 64,\n",
    "        (7,5) : 64,\n",
    "        (8,0) : 64,\n",
    "        (8,6) : 128\n",
    "        }\n",
    "\n",
    "    device = cuda.get_current_device()\n",
    "    my_sms = getattr(device, 'MULTIPROCESSOR_COUNT')\n",
    "    my_cc = device.compute_capability\n",
    "    cores_per_sm = cc_cores_per_SM_dict.get(my_cc)\n",
    "    total_cores = cores_per_sm*my_sms\n",
    "    print(\"GPU compute capability: \" , my_cc)\n",
    "    print(\"GPU total number of Streaming Multiprocessors (SM): \" , my_sms)\n",
    "    print(\"GPU total number of cores per SMs: \" , cores_per_sm)\n",
    "    print(\"total cores: \" , total_cores)\n",
    "\n",
    "    print('''\\n Deciding which execution configuration to use is not easy, and the choice should be driven by performance analysis. However, here are some basic rules to get started:\n",
    "    - The number of blocks in the grid should be larger than the number of Streaming Multiprocessors on the GPU, typically 2 to 4 times larger.\n",
    "    - The number of threads per block should be a multiple of 32, typically between 128 and 512. ''')\n",
    "    \n",
    "    return my_sms, cores_per_sm"
   ]
  },
  {
   "cell_type": "code",
<<<<<<< Updated upstream
   "execution_count": 20,
   "id": "b87a9aa4-f899-4d0d-a62c-ed8dd99550a4",
=======
   "execution_count": 8,
   "id": "7a4fb273-e3f0-4468-ab28-30dd486a55dd",
>>>>>>> Stashed changes
   "metadata": {},
   "outputs": [
    {
     "name": "stdout",
     "output_type": "stream",
     "text": [
<<<<<<< Updated upstream
      "GPU compute capability:  (6, 1)\n",
      "GPU total number of Streaming Multiprocessors (SM):  20\n",
      "GPU total number of cores per SMs:  128\n",
      "total cores:  2560\n",
      "\n",
      " Deciding which execution configuration to use is not easy, and the choice should be driven by performance analysis. However, here are some basic rules to get started:\n",
      "    - The number of blocks in the grid should be larger than the number of Streaming Multiprocessors on the GPU, typically 2 to 4 times larger.\n",
      "    - The number of threads per block should be a multiple of 32, typically between 128 and 512. \n"
=======
      "Wall time: 102 ms\n"
>>>>>>> Stashed changes
     ]
    },
    {
     "data": {
      "text/plain": [
       "(20, 128)"
      ]
     },
     "execution_count": 20,
     "metadata": {},
     "output_type": "execute_result"
    }
   ],
   "source": [
<<<<<<< Updated upstream
    "get_gpu_info()"
=======
    "\n",
    "@cuda.jit\n",
    "def random_normal_2d(data, output): \n",
    "    \n",
    "    i, j = cuda.grid(2)\n",
    "    stridex,stridey = cuda.gridsize(2)\n",
    "    i_in_bounds = (i >= 0) and (i <= (data.shape[0] - 1))        \n",
    "    j_in_bounds = (j >= 0) and (j <= (data.shape[1] - 1))          \n",
    "    \n",
    "    if i_in_bounds and j_in_bounds:   \n",
    "        None\n",
    "#         idx = i * stridey + j\n",
    "#         random.xoroshiro128p_normal_float32(rng_states, idx)\n",
    "#         output[i,j] = random.xoroshiro128p_normal_float32(rng_states, idx)\n",
    "\n",
    "\n",
    "data = cp.ones((10, 10), dtype=float32)\n",
    "random_normal_data = cp.zeros_like(data, dtype=float32)\n",
    "\n",
    "blockdim = (16,16)\n",
    "griddim = ((data.shape[0] // blockdim[0]) + 1, (data.shape[1] // blockdim[1]) + 1)\n",
    "rng_states = random.create_xoroshiro128p_states(int(np.prod(blockdim) * np.prod(griddim)), seed=1)\n",
    "cuda.synchronize()\n",
    "%time random_normal_2d[griddim, blockdim](data, random_normal_data) \n",
    "cuda.synchronize()"
>>>>>>> Stashed changes
   ]
  },
  {
   "cell_type": "markdown",
   "id": "16267e00-8af5-4099-ad22-b9de2173a1c5",
   "metadata": {},
   "source": [
    "\n",
    "<br><br><br><br><br><br><br><br><br><br><br><br><br><br><br><br><br>\n",
    "\n"
   ]
  },
  {
   "cell_type": "code",
   "execution_count": 127,
   "id": "aee85ada-0d9c-4940-ad08-ac092b1f838d",
   "metadata": {},
   "outputs": [
    {
     "data": {
      "text/plain": [
       "[<matplotlib.lines.Line2D at 0x18f73443a30>]"
      ]
     },
     "execution_count": 127,
     "metadata": {},
     "output_type": "execute_result"
    },
    {
     "data": {
      "image/png": "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\n",
      "text/plain": [
       "<Figure size 432x288 with 4 Axes>"
      ]
     },
     "metadata": {
      "needs_background": "light"
     },
     "output_type": "display_data"
    }
   ],
   "source": [
    "# Stimulus +--++++\n",
    "coherence = np.ones(2000)*100\n",
    "coherence[200:600] = -coherence[200:600]\n",
    "\n",
    "# Input Parameters\n",
    "sp1 = 0                   # starting point 1\n",
    "sp2 = 0                   # starting point 2\n",
    "dg1 = .01#0e-6               # drift gain 1\n",
    "dg2 = .01#0e-6               # drift gain 2\n",
    "sigma = 10e-3             # diffusion variability\n",
    "dr = coherence*dg1            # decision variable (DDM)\n",
    "dr1 = ReLU(coherence)*dg1     # decision variable (Race1)\n",
    "dr2 = ReLU(-coherence)*dg2    # decision variable (Race2)\n",
    "leak = 0                      # leak\n",
    "lateral_inhibition = 0.5      # lateral inhibition\n",
    "unified_constant = 1          # DDM-Race unification constant\n",
    "ndt = 100                     # Non-decision time (msec)\n",
    "stop_time = 2000\n",
    "\n",
    "\n",
    "\n",
    "decision = np.array([],dtype=float32)       # Collect decision on each trial\n",
    "rt = np.array([],dtype=float32)             # Collect reaction time for each trial\n",
    "\n",
    "\n",
    "# diffusion_step = np.random.normal(loc=dr,  scale=sigma, size=stop_time)    # change in DDM accumulator\n",
    "# diffusion_step1 = np.random.normal(loc=dr1, scale=sigma, size=stop_time)    # change in Race1 accumulator\n",
    "# diffusion_step2 = np.random.normal(loc=dr2, scale=sigma, size=stop_time)    # change in Race2 accumulator\n",
    "\n",
    "dv = np.array([sp1],dtype=float64)   # DDM decision variable\n",
    "dv1 = np.array([sp1],dtype=float64)  # Race1 decision variable\n",
    "dv2 = np.array([sp1],dtype=float64)  # Race2 decision variable\n",
    "dv1_unified = np.array([sp1],dtype=float64)  # Race2 decision variable\n",
    "dv2_unified = np.array([sp1],dtype=float64)  # Race2 decision variable\n",
    "\n",
    "dv_unified = np.array([sp1],dtype=float64)  # Race2 decision variable\n",
    "\n",
    "for t in range(stop_time):\n",
    "# for t in range(3):\n",
    "    dv =  np.append(dv, dv[t]   + dr[t])                                 # update DDM decision variable\n",
    "    dv1 = np.append(dv1, dv1[t] + dr1[t])                                # update DDM decision variable\n",
    "    dv2 = np.append(dv2, dv2[t] + dr2[t])                                # update DDM decision variable    \n",
    "    \n",
    "    \n",
    "    dv1_unified = np.append(dv1_unified, dv1_unified[t] + dr1[t] + unified_constant*(max(dr1[t],dr2[t])- dr1[t]) )   # update DDM decision variable    \n",
    "    dv2_unified = np.append(dv2_unified, dv2_unified[t] + dr2[t] + unified_constant*(max(dr1[t],dr2[t])- dr2[t]) )   # update DDM decision variable\n",
    "        \n",
    "    if dr1[t]>0: \n",
    "        dv_unified = np.append(dv_unified, dv_unified[t] + dr1[t])# - lateral_inhibition*dv2_unified[t])   # update DDM decision variable    \n",
    "    if dr2[t]>0: \n",
    "        dv_unified = np.append(dv_unified, dv_unified[t] + dr2[t])# - lateral_inhibition*dv1_unified[t])   # update DDM decision variable\n",
    "    \n",
    "\n",
    "    \n",
    "    \n",
    "    \n",
    "fig, ax = plt.subplots(4, 1)    \n",
    "ax[0].plot(dv,'k')\n",
    "# ax[0,0].set_ylim([-1, 1])\n",
    "\n",
    "ax[3].plot(dv_unified,'k')\n",
    "\n",
    "ax[1].plot(dv1,'g')\n",
    "ax[1].plot(dv2,'r')\n",
    "\n",
    "ax[2].plot(dv1_unified,'g--')\n",
    "ax[2].plot(dv2_unified,'r--')\n",
    "  "
   ]
  }
 ],
 "metadata": {
  "kernelspec": {
   "display_name": "Python 3 (ipykernel)",
   "language": "python",
   "name": "python3"
  },
  "language_info": {
   "codemirror_mode": {
    "name": "ipython",
    "version": 3
   },
   "file_extension": ".py",
   "mimetype": "text/x-python",
   "name": "python",
   "nbconvert_exporter": "python",
   "pygments_lexer": "ipython3",
   "version": "3.8.12"
  }
 },
 "nbformat": 4,
 "nbformat_minor": 5
}
