{
 "cells": [
  {
   "cell_type": "code",
   "execution_count": 1,
   "id": "cc0ad2af-f34a-4d38-b6e7-7dc4fbca0e45",
   "metadata": {},
   "outputs": [
    {
     "name": "stdout",
     "output_type": "stream",
     "text": [
      "Populating the interactive namespace from numpy and matplotlib\n"
     ]
    }
   ],
   "source": [
    "%pylab inline\n",
    "import numpy as np\n",
    "from matplotlib import pyplot as plt\n",
    "from IPython.display import clear_output\n",
    "\n",
    "import numba\n",
    "import cupy as cp\n",
    "from numba import cuda, prange\n",
    "from numba.cuda import random\n",
    "from numba import jit, njit, vectorize\n",
    "import GPUtil"
   ]
  },
  {
   "cell_type": "code",
   "execution_count": 2,
   "id": "ed54ca48-9193-476b-b9b4-066d3e810ceb",
   "metadata": {},
   "outputs": [],
   "source": [
    "# Functions\n",
    "def ReLU(input):\n",
    "    return input * (input > 0)\n"
   ]
  },
  {
   "cell_type": "markdown",
   "id": "67bfbeec-c386-4a30-b454-1e2efc1e1094",
   "metadata": {},
   "source": [
    "# Drift-Diffusion Model"
   ]
  },
  {
   "cell_type": "markdown",
   "id": "9e840065-26b7-4c79-9e07-0ea0eef6ddaa",
   "metadata": {},
   "source": [
    "## 1) CPU"
   ]
  },
  {
   "cell_type": "code",
   "execution_count": 7,
   "id": "721a40a8-4e1e-4a4a-92c2-68448c7633ff",
   "metadata": {},
   "outputs": [
    {
     "name": "stdout",
     "output_type": "stream",
     "text": [
      "Wall time: 6.92 s\n"
     ]
    },
    {
     "data": {
      "text/plain": [
       "<function matplotlib.pyplot.show(close=None, block=None)>"
      ]
     },
     "execution_count": 7,
     "metadata": {},
     "output_type": "execute_result"
    },
    {
     "data": {
      "image/png": "[encoded data removed]",
      "text/plain": [
       "<Figure size 432x288 with 1 Axes>"
      ]
     },
     "metadata": {
      "needs_background": "light"
     },
     "output_type": "display_data"
    }
   ],
   "source": [
    "%%time\n",
    "# DDM\n",
    "\n",
    "# Variables\n",
    "coh = 100\n",
    "rt = np.array([],dtype=float32)       # Accumulator/decision variable\n",
    "decision = np.array([],dtype=float32)       # Accumulator/decision variable\n",
    "\n",
    "sp = 0             # starting point 1\n",
    "dg = 10e-6         # drift gain\n",
    "sigma = 10e-3      # diffusion variability\n",
    "dr = coh*dg        # drift rate\n",
    "t = 0              # time -> msec\n",
    "ndt = 100          # Non-decision time (msec)\n",
    "bound = 1          # Decision-bound\n",
    "stop_time = 10000  # Maximum allowed time for simulation\n",
    "nTrials = 1000     # Number of trials to simulate\n",
    "\n",
    "diffusion_step = np.random.normal(loc=dr, scale=sigma, size=(nTrials, stop_time))    # change in accumulator 1\n",
    "for tr in range(nTrials):\n",
    "    dv = np.array([sp],dtype=float32)\n",
    "    for t in range(stop_time):\n",
    "        dv = np.append(dv, dv[t]+diffusion_step[tr,t])    # update decision variable\n",
    "        if np.abs(dv[t]) > bound:    # checking if decision bound is reached\n",
    "            decision =  np.append(decision, np.sign(dv[t]))\n",
    "            rt =  np.append(rt, t)\n",
    "            break\n",
    "            \n",
    "else:    # if decision is not reached\n",
    "    decision =  np.append(decision, np.NaN)\n",
    "    rt =  np.append(rt, np.NaN) \n",
    "\n",
    "    \n",
    "rt = rt+ndt\n",
    "    \n",
    "# plt.plot(rt)\n",
    "plt.hist(rt)\n",
    "plt.show\n"
   ]
  },
  {
   "cell_type": "markdown",
   "id": "cff240d4-99ef-46c7-9b8d-794b0162cfac",
   "metadata": {},
   "source": [
    "## 2) CPU Parallelization with Numba"
   ]
  },
  {
   "cell_type": "code",
   "execution_count": 5,
   "id": "8adb1b4a-dcd1-43ec-93f1-eeeb63199cec",
   "metadata": {},
   "outputs": [
    {
     "name": "stdout",
     "output_type": "stream",
     "text": [
      "Wall time: 276 ms\n"
     ]
    },
    {
     "data": {
      "text/plain": [
       "<function matplotlib.pyplot.show(close=None, block=None)>"
      ]
     },
     "execution_count": 5,
     "metadata": {},
     "output_type": "execute_result"
    },
    {
     "data": {
      "image/png": "[encoded data removed]",
      "text/plain": [
       "<Figure size 432x288 with 1 Axes>"
      ]
     },
     "metadata": {
      "needs_background": "light"
     },
     "output_type": "display_data"
    }
   ],
   "source": [
    "# DDM_jit\n",
    "\n",
    "@njit(parallel=True,fastmath=True)\n",
    "def DDM_cpu_parallel(coh,nTrials,pars,stop_time):\n",
    "    # To create empty array with numba => [np.int64(x) for x in range(0)]\n",
    "    rt =  np.empty(nTrials)*np.NaN        \n",
    "    decision = np.empty(nTrials)*np.NaN   \n",
    "    sp = pars[0]             # starting point 1\n",
    "    dg = pars[1]             # drift gain\n",
    "    sigma = pars[2]          # diffusion variability\n",
    "    ndt = pars[3]            # Non-decision time (msec)\n",
    "    bound = pars[4]\n",
    "    dr = coh*dg              # drift rate\n",
    "    t = 0                    # time -> msec\n",
    "    \n",
    "    diffusion_step = np.random.normal(loc=dr, scale=sigma, size=(nTrials, stop_time))    # change in accumulator 1\n",
    "    for tr in prange(nTrials):\n",
    "        dv = np.array([sp],dtype=float64)\n",
    "        for t in range(stop_time):\n",
    "            dv = np.append(dv, dv[t]+diffusion_step[tr,t])    # update decision variable\n",
    "            if np.abs(dv[t]) > bound:    # checking if decision bound is reached\n",
    "                decision[tr] =  np.sign(dv[t])\n",
    "                rt[tr] = t\n",
    "                break\n",
    "    rt = rt+ndt\n",
    "    return decision, rt\n",
    "\n",
    "# DDM_jit_parallel_numba = njit(parallel=True,fastmath=True)(DDM_numba)\n",
    "# Initializing jit compilation\n",
    "coh = 100\n",
    "sp = 0             # starting point 1\n",
    "dg = 10e-6         # drift gain\n",
    "sigma = 10e-3      # diffusion variability\n",
    "dr = coh*dg        # drift rate\n",
    "t = 0              # time -> msec\n",
    "ndt = 100          # Non-decision time (msec)\n",
    "bound = 1          # Decision-bound\n",
    "stop_time = 1000   # Maximum allowed time for simulation\n",
    "nTrials = 10       # Number of trials to simulate\n",
    "pars = np.array([sp,dg,sigma,ndt,bound])\n",
    "DDM_cpu_parallel(coh,nTrials,pars,stop_time) \n",
    "\n",
    "\n",
    "# Variables\n",
    "coh = 100\n",
    "sp = 0             # starting point 1\n",
    "dg = 10e-6         # drift gain\n",
    "sigma = 10e-3      # diffusion variability\n",
    "dr = coh*dg        # drift rate\n",
    "t = 0              # time -> msec\n",
    "ndt = 100          # Non-decision time (msec)\n",
    "bound = 1          # Decision-bound\n",
    "stop_time = 10000  # Maximum allowed time for simulation\n",
    "nTrials = 1000     # Number of trials to simulate\n",
    "pars = np.array([sp,dg,sigma,ndt,bound])\n",
    "%time decision, rt = DDM_cpu_parallel(coh,nTrials,pars,stop_time)\n",
    "\n",
    "# plt.plot(rt)\n",
    "plt.hist(rt)\n",
    "plt.show"
   ]
  },
  {
   "cell_type": "markdown",
   "id": "7a0b9f0c-ce7c-48ee-b137-b814bcd581e6",
   "metadata": {},
   "source": [
    "## 3) GPU Parallelization with Numba and CuPy"
   ]
  },
  {
   "cell_type": "markdown",
   "id": "bff071c4-cd00-49d8-9b5c-e1f5d6a1251f",
   "metadata": {},
   "source": [
    "#### DDM Kernel for Numba"
   ]
  },
  {
   "cell_type": "code",
   "execution_count": null,
   "id": "a9bb53f9-bd14-4f9c-ab49-58f4fe0147b4",
   "metadata": {},
   "outputs": [],
   "source": [
    "@jit\n",
    "def get_diffusion_matrix(coherence, drift_gain, sigma, nTrials=5000, stop_time=10000):\n",
    "    # Check if coherence value is scalar. If it is, then create matrix for diffusion step calculation\n",
    "    if np.isscalar(coherence):        \n",
    "        coherence = np.ones((nTrials, stop_time), dtype=float32)*coherence\n",
    "\n",
    "#     if 'diffusion_matrix' in globals():  # If diffusion_matrix is already defined delete it to reduce load on VRAM\n",
    "#         del diffusion_matrix\n",
    "#         cp.get_default_memory_pool().free_all_blocks()\n",
    "    diffusion_matrix = cp.asarray(coherence)\n",
    "    diffusion_matrix = cp.multiply(diffusion_matrix,cp.asarray(drift_gain))    # Mean of diffusion to be Coh x drift gain\n",
    "    diffusion_matrix = cp.random.normal(diffusion_matrix, sigma, dtype='float32')    # Generating normal random steps\n",
    "#     GPUtil.showUtilization()\n",
    "    return diffusion_matrix\n",
    "\n",
    "# For Dynamic Coherence\n",
    "@cuda.jit\n",
    "def DDM_kernel(sp, bound, ndt, diffusion_step, decision, rt): \n",
    "    tr = cuda.grid(1)\n",
    "    tr_in_bounds = (tr >= 0) and (tr <= (diffusion_step.shape[0] - 1))   \n",
    "    if tr_in_bounds:\n",
    "        dv = sp\n",
    "        for t in range(diffusion_step.shape[1]):\n",
    "            dv = dv + diffusion_step[tr,t]    # update decision variable\n",
    "            if dv > bound or dv < -bound:    # checking if decision bound is reached\n",
    "                decision[tr] =  2*(dv>0) - 1    #np.sign(dv) alternative\n",
    "                rt[tr] = t+ndt\n",
    "                break  \n",
    "# Initializing DDM_Coherence_kernel with small variables\n",
    "sp=0\n",
    "ndt=0\n",
    "bound=1\n",
    "diffusion_step = cp.array([[2,3],[3,5]])\n",
    "decision = cp.empty(2)*cp.NaN\n",
    "rt = cp.empty(2)*cp.NaN\n",
    "blockdim = (16)\n",
    "griddim = (diffusion_step.shape[0] // blockdim) + 1\n",
    "cuda.synchronize()\n",
    "%time DDM_kernel[griddim, blockdim](sp, bound, ndt, diffusion_step, decision, rt)\n",
    "cuda.synchronize()\n"
   ]
  },
  {
   "cell_type": "code",
   "execution_count": 85,
   "id": "80586d8f-c09f-41aa-8caf-df12445a7732",
   "metadata": {},
   "outputs": [],
   "source": [
    "@jit\n",
    "def get_diffusion_matrix(coherence, drift_gain, sigma, nTrials=50000, stop_time=10000):\n",
    "    # Check if coherence value is scalar. If it is, then create matrix for diffusion step calculation\n",
    "    if np.isscalar(coherence):        \n",
    "        coherence = np.ones((nTrials, stop_time), dtype=float32)*coherence\n",
    "\n",
    "#     if 'diffusion_matrix' in globals():  # If diffusion_matrix is already defined delete it to reduce load on VRAM\n",
    "#         del diffusion_matrix\n",
    "#         cp.get_default_memory_pool().free_all_blocks()\n",
    "    diffusion_matrix = cp.asarray(coherence)\n",
    "    diffusion_matrix = cp.multiply(diffusion_matrix,cp.asarray(drift_gain))    # Mean of diffusion to be Coh x drift gain\n",
    "    diffusion_matrix = cp.random.normal(diffusion_matrix, sigma, dtype='float32')    # Generating normal random steps\n",
    "#     GPUtil.showUtilization()\n",
    "    return diffusion_matrix"
   ]
  },
  {
   "cell_type": "code",
   "execution_count": 86,
   "id": "1c3fae38-48c8-41cb-bd29-5854dd214d37",
   "metadata": {},
   "outputs": [
    {
     "name": "stdout",
     "output_type": "stream",
     "text": [
      "| ID | GPU | MEM |\n",
      "------------------\n",
      "|  0 |  0% | 26% |\n"
     ]
    },
    {
     "name": "stderr",
     "output_type": "stream",
     "text": [
      "<ipython-input-85-3070a7432d1f>:1: NumbaWarning: \u001b[1m\n",
      "Compilation is falling back to object mode WITH looplifting enabled because Function \"get_diffusion_matrix\" failed type inference due to: \u001b[1m\u001b[1mCannot unify int64 and array(float32, 2d, C) for 'coherence.2', defined at <ipython-input-85-3070a7432d1f> (10)\n",
      "\u001b[1m\n",
      "File \"<ipython-input-85-3070a7432d1f>\", line 10:\u001b[0m\n",
      "\u001b[1mdef get_diffusion_matrix(coherence, drift_gain, sigma, nTrials=50000, stop_time=10000):\n",
      "    <source elided>\n",
      "#         cp.get_default_memory_pool().free_all_blocks()\n",
      "\u001b[1m    diffusion_matrix = cp.asarray(coherence)\n",
      "\u001b[0m    \u001b[1m^\u001b[0m\u001b[0m\n",
      "\u001b[0m\n",
      "\u001b[0m\u001b[1mDuring: typing of assignment at <ipython-input-85-3070a7432d1f> (10)\u001b[0m\n",
      "\u001b[1m\n",
      "File \"<ipython-input-85-3070a7432d1f>\", line 10:\u001b[0m\n",
      "\u001b[1mdef get_diffusion_matrix(coherence, drift_gain, sigma, nTrials=50000, stop_time=10000):\n",
      "    <source elided>\n",
      "#         cp.get_default_memory_pool().free_all_blocks()\n",
      "\u001b[1m    diffusion_matrix = cp.asarray(coherence)\n",
      "\u001b[0m    \u001b[1m^\u001b[0m\u001b[0m\n",
      "\u001b[0m\n",
      "  @jit\n",
      "C:\\Users\\mablab\\anaconda3\\envs\\Decision-Models\\lib\\site-packages\\numba\\core\\object_mode_passes.py:151: NumbaWarning: \u001b[1mFunction \"get_diffusion_matrix\" was compiled in object mode without forceobj=True.\n",
      "\u001b[1m\n",
      "File \"<ipython-input-85-3070a7432d1f>\", line 2:\u001b[0m\n",
      "\u001b[1m@jit\n",
      "\u001b[1mdef get_diffusion_matrix(coherence, drift_gain, sigma, nTrials=50000, stop_time=10000):\n",
      "\u001b[0m\u001b[1m^\u001b[0m\u001b[0m\n",
      "\u001b[0m\n",
      "  warnings.warn(errors.NumbaWarning(warn_msg,\n",
      "C:\\Users\\mablab\\anaconda3\\envs\\Decision-Models\\lib\\site-packages\\numba\\core\\object_mode_passes.py:161: NumbaDeprecationWarning: \u001b[1m\n",
      "Fall-back from the nopython compilation path to the object mode compilation path has been detected, this is deprecated behaviour.\n",
      "\n",
      "For more information visit https://numba.readthedocs.io/en/stable/reference/deprecation.html#deprecation-of-object-mode-fall-back-behaviour-when-using-jit\n",
      "\u001b[1m\n",
      "File \"<ipython-input-85-3070a7432d1f>\", line 2:\u001b[0m\n",
      "\u001b[1m@jit\n",
      "\u001b[1mdef get_diffusion_matrix(coherence, drift_gain, sigma, nTrials=50000, stop_time=10000):\n",
      "\u001b[0m\u001b[1m^\u001b[0m\u001b[0m\n",
      "\u001b[0m\n",
      "  warnings.warn(errors.NumbaDeprecationWarning(msg,\n"
     ]
    },
    {
     "ename": "CUDADriverError",
     "evalue": "CUDA_ERROR_LAUNCH_OUT_OF_RESOURCES: too many resources requested for launch",
     "output_type": "error",
     "traceback": [
      "\u001b[1;31m---------------------------------------------------------------------------\u001b[0m",
      "\u001b[1;31mCUDADriverError\u001b[0m                           Traceback (most recent call last)",
      "\u001b[1;32m<timed eval>\u001b[0m in \u001b[0;36m<module>\u001b[1;34m\u001b[0m\n",
      "\u001b[1;32m~\\anaconda3\\envs\\Decision-Models\\lib\\site-packages\\cupy\\_creation\\from_data.py\u001b[0m in \u001b[0;36masarray\u001b[1;34m(a, dtype, order)\u001b[0m\n\u001b[0;32m     74\u001b[0m \u001b[1;33m\u001b[0m\u001b[0m\n\u001b[0;32m     75\u001b[0m     \"\"\"\n\u001b[1;32m---> 76\u001b[1;33m     \u001b[1;32mreturn\u001b[0m \u001b[0m_core\u001b[0m\u001b[1;33m.\u001b[0m\u001b[0marray\u001b[0m\u001b[1;33m(\u001b[0m\u001b[0ma\u001b[0m\u001b[1;33m,\u001b[0m \u001b[0mdtype\u001b[0m\u001b[1;33m,\u001b[0m \u001b[1;32mFalse\u001b[0m\u001b[1;33m,\u001b[0m \u001b[0morder\u001b[0m\u001b[1;33m)\u001b[0m\u001b[1;33m\u001b[0m\u001b[1;33m\u001b[0m\u001b[0m\n\u001b[0m\u001b[0;32m     77\u001b[0m \u001b[1;33m\u001b[0m\u001b[0m\n\u001b[0;32m     78\u001b[0m \u001b[1;33m\u001b[0m\u001b[0m\n",
      "\u001b[1;32mcupy\\_core\\core.pyx\u001b[0m in \u001b[0;36mcupy._core.core.array\u001b[1;34m()\u001b[0m\n",
      "\u001b[1;32mcupy\\_core\\core.pyx\u001b[0m in \u001b[0;36mcupy._core.core.array\u001b[1;34m()\u001b[0m\n",
      "\u001b[1;32mcupy\\_core\\core.pyx\u001b[0m in \u001b[0;36mcupy._core.core._array_default\u001b[1;34m()\u001b[0m\n",
      "\u001b[1;32mcupy\\_core\\core.pyx\u001b[0m in \u001b[0;36mcupy._core.core.ndarray.fill\u001b[1;34m()\u001b[0m\n",
      "\u001b[1;32mcupy\\_core\\_kernel.pyx\u001b[0m in \u001b[0;36mcupy._core._kernel.ElementwiseKernel.__call__\u001b[1;34m()\u001b[0m\n",
      "\u001b[1;32mcupy\\cuda\\function.pyx\u001b[0m in \u001b[0;36mcupy.cuda.function.Function.linear_launch\u001b[1;34m()\u001b[0m\n",
      "\u001b[1;32mcupy\\cuda\\function.pyx\u001b[0m in \u001b[0;36mcupy.cuda.function._launch\u001b[1;34m()\u001b[0m\n",
      "\u001b[1;32mcupy_backends\\cuda\\api\\driver.pyx\u001b[0m in \u001b[0;36mcupy_backends.cuda.api.driver.launchKernel\u001b[1;34m()\u001b[0m\n",
      "\u001b[1;32mcupy_backends\\cuda\\api\\driver.pyx\u001b[0m in \u001b[0;36mcupy_backends.cuda.api.driver.check_status\u001b[1;34m()\u001b[0m\n",
      "\u001b[1;31mCUDADriverError\u001b[0m: CUDA_ERROR_LAUNCH_OUT_OF_RESOURCES: too many resources requested for launch"
     ]
    }
   ],
   "source": [
    "GPUtil.showUtilization()\n",
    "%time get_diffusion_matrix(100,10e-6,10e-3)\n",
    "# GPUtil.showUtilization()"
   ]
  },
  {
   "cell_type": "code",
   "execution_count": 81,
   "id": "cbb129d1-bf1d-4b03-b3c8-9329007a5408",
   "metadata": {},
   "outputs": [
    {
     "name": "stdout",
     "output_type": "stream",
     "text": [
      "1536\n",
      "2000000000\n",
      "0\n"
     ]
    }
   ],
   "source": [
    "# You can clear the memory block by calling `free_all_blocks`.\n",
    "\n",
    "mempool = cp.get_default_memory_pool()\n",
    "pinnedpool = cp.get_default_pinned_memory_pool()\n",
    "\n",
    "gc.collect()\n",
    "cuda.select_device(0)\n",
    "cuda.close()\n",
    "cuda.select_device(0)\n",
    "mempool.free_all_blocks()\n",
    "\n",
    "\n",
    "print(mempool.used_bytes())   # 0\n",
    "print(mempool.total_bytes())  # 0\n",
    "print(pinnedpool.n_free_blocks())   # 0"
   ]
  },
  {
   "cell_type": "code",
   "execution_count": 88,
   "id": "7c24c2da-a43e-4a6d-a9d3-5539502953eb",
   "metadata": {},
   "outputs": [
    {
     "name": "stdout",
     "output_type": "stream",
     "text": [
      "Found 1 CUDA devices\n",
      "id 0     b'GeForce GTX 1080'                              [SUPPORTED]\n",
      "                      Compute Capability: 6.1\n",
      "                           PCI Device ID: 0\n",
      "                              PCI Bus ID: 1\n",
      "                                    UUID: GPU-307fc97d-f62c-63c7-3c86-dd0fe8087877\n",
      "                                Watchdog: Enabled\n",
      "                            Compute Mode: WDDM\n",
      "             FP32/FP64 Performance Ratio: 32\n",
      "Summary:\n",
      "\t1/1 devices are supported\n"
     ]
    },
    {
     "data": {
      "text/plain": [
       "True"
      ]
     },
     "execution_count": 88,
     "metadata": {},
     "output_type": "execute_result"
    }
   ],
   "source": [
    "import gc\n",
    "\n",
    "cuda.detect()\n",
    "\n",
    "# import torch\n",
    "# from GPUtil import showUtilization as gpu_usage\n",
    "# from numba import cuda\n",
    "\n",
    "# def free_gpu_cache():\n",
    "#     print(\"Initial GPU Usage\")\n",
    "#     gpu_usage()                             \n",
    "\n",
    "#     torch.cuda.empty_cache()\n",
    "\n",
    "#     cuda.select_device(0)\n",
    "#     cuda.close()\n",
    "#     cuda.select_device(0)\n",
    "\n",
    "#     print(\"GPU Usage after emptying the cache\")\n",
    "#     gpu_usage()\n",
    "\n",
    "# free_gpu_cache() "
   ]
  },
  {
   "cell_type": "code",
   "execution_count": null,
   "id": "0f57fd61-f388-4ab9-8e1e-f427fec87ca3",
   "metadata": {
    "jupyter": {
     "source_hidden": true
    },
    "tags": []
   },
   "outputs": [],
   "source": [
    "# Random Number generator for Coherence Matrix\n",
    "cp.random.seed()\n",
    "coh = 100\n",
    "sp = 0             # starting point 1\n",
    "dg = 10e-6         # drift gain\n",
    "sigma = 10e-3      # diffusion variability\n",
    "ndt = 100          # Non-decision time (msec)\n",
    "bound = 1\n",
    "dg = np.array([dg],dtype=float32)\n",
    "\n",
    "# # Single Coherence Condition\n",
    "# # Warm up JIT\n",
    "# coh = cp.array([[100,100,50,50,50,100,100,100,50,0],[100,100,50,50,50,100,100,100,50,0]])\n",
    "# diffusion_step = cp.random.normal(loc=coh*dg, scale=sigma, dtype = float32)    # change in accumulator 1\n",
    "# decision_cp = cp.empty_like(diffusion_step[:,1])*cp.NaN\n",
    "# rt_cp = cp.empty_like(diffusion_step[:,1])*cp.NaN\n",
    "# blockdim = (16, 16)\n",
    "# griddim = (coh.shape[0] // blockdim[0]) + 1\n",
    "# DDM_kernel2[griddim, blockdim](sp, bound, ndt, diffusion_step, decision_cp, rt_cp)\n",
    "\n",
    "stop_time = 10000\n",
    "nTrials = 50000\n",
    "\n",
    "!!! Problem !!! Too big matrix \n",
    "coh = np.ones((nTrials, stop_time), dtype=float32)*100\n",
    "diffusion_step = cp.random.normal(loc=coh*dg, scale=sigma, dtype = float32)    # change in accumulator 1\n",
    "\n",
    "decision_cp = cp.empty_like(diffusion_step[:,1])*cp.NaN\n",
    "rt_cp = cp.empty_like(diffusion_step[:,1])*cp.NaN\n",
    "blockdim = (16, 16)\n",
    "griddim = (coh.shape[0] // blockdim[0]) + 1\n",
    "cuda.synchronize()\n",
    "%time DDM_kernel2[griddim, blockdim](sp, bound, ndt, diffusion_step, decision_cp, rt_cp)\n",
    "cuda.synchronize()\n",
    "\n",
    "# print(decision_cp, rt_cp)\n",
    "\n",
    "# decision = cp.asnumpy(decision_cp)\n",
    "# rt = cp.asnumpy(rt_cp)"
   ]
  },
  {
   "cell_type": "markdown",
   "id": "e0c259d2-a2ac-4577-a75e-1a518ef085a4",
   "metadata": {},
   "source": [
    "## Work on separating coh matrix provided by experiment and creating some copy in GPU for drift rate"
   ]
  },
  {
   "cell_type": "code",
   "execution_count": 35,
   "id": "6af03904-d9b9-44da-9f5b-aae3f3e4277d",
   "metadata": {},
   "outputs": [
    {
     "name": "stdout",
     "output_type": "stream",
     "text": [
      "| ID | GPU  | MEM |\n",
      "-------------------\n",
      "|  0 | 100% | 49% |\n",
      "Wall time: 2 ms\n",
      "[nan  1. nan ... nan  1. nan] [  nan 2286.   nan ...   nan 8030.   nan]\n"
     ]
    }
   ],
   "source": [
    "\n",
    "# Random Number generator for Coherence Matrix\n",
    "cp.random.seed()\n",
    "coh = 100\n",
    "sp = 0             # starting point 1\n",
    "dg = 10e-6         # drift gain\n",
    "sigma = 10e-3      # diffusion variability\n",
    "ndt = 100          # Non-decision time (msec)\n",
    "bound = 1\n",
    "dg = np.array([dg],dtype=float32)\n",
    "\n",
    "\n",
    "# # Here\n",
    "# if 'coh' in globals():\n",
    "#     del coh\n",
    "# cp.get_default_memory_pool().free_all_blocks()\n",
    "# stop_time = 10000\n",
    "# nTrials = 50000\n",
    "# coh = np.ones((nTrials, stop_time), dtype=float32)*100\n",
    "\n",
    "\n",
    "\n",
    "# if 'diffusion_matrix' in globals():\n",
    "#     del diffusion_matrix\n",
    "# diffusion_matrix = cp.asarray(coh)\n",
    "# diffusion_matrix = cp.multiply(diffusion_matrix,cp.asarray(dg))\n",
    "# diffusion_matrix = cp.random.normal(diffusion_matrix, sigma, dtype='float32')\n",
    "# cp.get_default_memory_pool().free_all_blocks()\n",
    "# GPUtil.showUtilization()\n",
    "\n",
    "\n",
    "decision = cp.empty(diffusion_matrix.shape[0])*cp.NaN\n",
    "rt = cp.empty(diffusion_matrix.shape[0])*cp.NaN\n",
    "blockdim = (16)\n",
    "griddim = (diffusion_matrix.shape[0] // blockdim) + 1\n",
    "cuda.synchronize()\n",
    "%time DDM_kernel[griddim, blockdim](sp, bound, ndt, diffusion_matrix, decision, rt)\n",
    "# %time ddm_kernel2[griddim, blockdim](coh, nTrials, pars, stop_time, decision_cp, rt_cp, diffusion_step_cp)\n",
    "cuda.synchronize()\n",
    "\n",
    "decision = cp.asnumpy(decision_cp)\n",
    "rt = cp.asnumpy(rt_cp)\n",
    "plt.hist(rt)"
   ]
  },
  {
   "cell_type": "markdown",
   "id": "26779a21-4a6f-4754-a87d-4fd48fe92732",
   "metadata": {},
   "source": [
    "# Leaky-Competing Accumulator Model"
   ]
  },
  {
   "cell_type": "code",
   "execution_count": null,
   "id": "b46c27ba-91b2-408d-8ee5-153b9b71e400",
   "metadata": {
    "jupyter": {
     "source_hidden": true
    },
    "tags": []
   },
   "outputs": [],
   "source": [
    "## LCA\n",
    "\n",
    "# Variables\n",
    "coh = 51\n",
    "\n",
    "sp1 = 0             # starting point 1\n",
    "sp2 = 0             # starting point 2\n",
    "dg1 = 10e-6       # drift gain 1\n",
    "dg2 = 2*10e-6       # drift gain 2\n",
    "sigma = 10e-3         # diffusion variability\n",
    "I0 = 0.001         # baseline input\n",
    "dr1 = ReLU(coh)*dg1       # first variable (input)\n",
    "dr2 = ReLU(-coh)*dg2       # second variable (input)\n",
    "leak = 0               # leak\n",
    "lateral_inhibition = 0               # lateral inhibition\n",
    "t = 0               # time -> msec\n",
    "ndt = 100           # Non-decision time (msec)\n",
    "stop_time = 10000\n",
    "\n",
    "nTrials = 1000\n",
    "diffusion_step1 = np.random.normal(loc=dr1, scale=sigma, size=(nTrials, stop_time))\n",
    "diffusion_step2 = np.random.normal(loc=dr2, scale=sigma, size=(nTrials, stop_time))\n",
    "for tr in range(nTrials):\n",
    "    dv1 = np.array([sp1],dtype=float32)       # Accumulator 1\n",
    "    dv2 = np.array([sp2],dtype=float32)       # Accumulator 2\n",
    "    for t in range(stop_time):\n",
    "        del_dv1 = diffusion_step1[tr,t] - leak*dv1[t] - lateral_inhibition*dv2[t] + I0    # change in accumulator 1\n",
    "        del_dv2 = diffusion_step2[tr,t] - leak*dv2[t] - lateral_inhibition*dv1[t] + I0    # change in accumulator 2\n",
    "        dv1 = np.append(dv1, ReLU(dv1[t]+del_dv1))    # update decision variable 1\n",
    "        dv2 = np.append(dv2, ReLU(dv2[t]+del_dv2))    # update decision variable 2\n",
    "        if np.abs(dv1[t]) > bound:\n",
    "            decision =  np.append(decision, 1)\n",
    "            rt =  np.append(rt, t)\n",
    "            break\n",
    "        elif np.abs(dv2[t]) > bound:    # checking if decision bound is reached\n",
    "            decision =  np.append(decision, -1)\n",
    "            rt =  np.append(rt, t)\n",
    "            break\n",
    "            \n",
    "else:    # if decision is not reached\n",
    "    decision =  np.append(decision, np.NaN)\n",
    "    rt =  np.append(rt, np.NaN) \n",
    "rt =  rt+ndt\n",
    "\n",
    "# plt.plot(dv1,'b')\n",
    "# plt.plot(dv2,'g')\n",
    "plt.hist(rt)\n",
    "plt.show\n"
   ]
  },
  {
   "cell_type": "markdown",
   "id": "ab3118f9-7c8c-48bf-81da-2e7ffb9b4a28",
   "metadata": {
    "tags": []
   },
   "source": [
    "# Race Model"
   ]
  },
  {
   "cell_type": "code",
   "execution_count": null,
   "id": "ae0e2e16-d6ee-4f1d-80d8-0bbb53b80d53",
   "metadata": {
    "jupyter": {
     "source_hidden": true
    },
    "tags": []
   },
   "outputs": [],
   "source": [
    "# Race Model\n",
    "''' \n",
    "Considering latent observation of the stimulus.\n",
    "Mainly driven by diffusion variability (if considering 0 input in opposite direction)\n",
    "Good estimate in case of motion energy in random dots also have some opposite direction motion.\n",
    "'''\n",
    "\n",
    "# Variables\n",
    "coh = 52\n",
    "\n",
    "sp1 = 0                   # starting point 1\n",
    "sp2 = 0                   # starting point 2\n",
    "dg1 = 10e-6               # drift gain 1\n",
    "dg2 = 2*10e-6             # drift gain 2\n",
    "sigma = 10e-3             # diffusion variability\n",
    "I0 = 0.0002               # baseline input\n",
    "dr1 = ReLU(coh)*dg1       # drift rate 1\n",
    "dr2 = ReLU(-coh)*dg2      # drift rate 2\n",
    "t = 0                     # time -> msec\n",
    "ndt = 100                 # Non-decision time (msec)\n",
    "stop_time = 10000\n",
    "\n",
    "nTrials = 1000\n",
    "diffusion_step1 = np.random.normal(loc=dr1, scale=sigma, size=(nTrials, stop_time))    # change in accumulator 1\n",
    "diffusion_step2 = np.random.normal(loc=dr2, scale=sigma, size=(nTrials, stop_time))    # change in accumulator 2\n",
    "for tr in range(nTrials):\n",
    "    dv1 = np.array([sp1],dtype=float32)       # Accumulator 1\n",
    "    dv2 = np.array([sp2],dtype=float32)       # Accumulator 2\n",
    "    for t in range(stop_time):\n",
    "        dv1 = np.append(dv1, ReLU(dv1[t]+diffusion_step1[tr,t]))    # update decision variable 1\n",
    "        dv2 = np.append(dv2, ReLU(dv2[t]+diffusion_step2[tr,t]))    # update decision variable 2\n",
    "        if np.abs(dv1[t]) > bound:\n",
    "            decision =  np.append(decision, 1)\n",
    "            rt =  np.append(rt, t)\n",
    "            break\n",
    "        elif np.abs(dv2[t]) > bound:    # checking if decision bound is reached\n",
    "            decision =  np.append(decision, -1)\n",
    "            rt =  np.append(rt, t)\n",
    "            break\n",
    "            \n",
    "else:    # if decision is not reached\n",
    "    decision =  np.append(decision, np.NaN)\n",
    "    rt =  np.append(rt, np.NaN) \n",
    "rt =  rt+ndt\n",
    "\n",
    "# plt.plot(dv1)\n",
    "# plt.plot(dv2)\n",
    "plt.hist(rt)\n",
    "plt.show"
   ]
  },
  {
   "cell_type": "markdown",
   "id": "b262f05e-6de6-4db3-8ae7-aa4f8d81d5cf",
   "metadata": {},
   "source": [
    "# Latent Drift-Diffusion Model"
   ]
  },
  {
   "cell_type": "code",
   "execution_count": null,
   "id": "848418fc-66b4-4b3b-9a9a-001f2a949b54",
   "metadata": {
    "jupyter": {
     "source_hidden": true
    },
    "tags": []
   },
   "outputs": [],
   "source": [
    "# Latent DDM\n",
    "''' \n",
    "Considering latent observation of the stimulus.\n",
    "Mainly driven by diffusion variability (if considering 0 input in opposite direction)\n",
    "Good estimate in case of motion energy in random dots also have some opposite direction motion.\n",
    "\n",
    "Mathematically equivalent to running DDM with diffusion of sqrt(2)*sigma instead of sigma\n",
    "\n",
    "'''\n",
    "\n",
    "# Variables\n",
    "coh = 52\n",
    "\n",
    "sp1 = 0                   # starting point 1\n",
    "sp2 = 0                   # starting point 2\n",
    "dg1 = 10e-6               # drift gain 1\n",
    "dg2 = 2*10e-6             # drift gain 2\n",
    "sigma = 10e-3             # diffusion variability\n",
    "I0 = 0.0002               # baseline input\n",
    "dr1 = ReLU(coh)*dg1       # drift rate 1\n",
    "dr2 = ReLU(-coh)*dg2      # drift rate 2\n",
    "t = 0                     # time -> msec\n",
    "ndt = 100                 # Non-decision time (msec)\n",
    "stop_time = 10000\n",
    "\n",
    "nTrials = 1000\n",
    "diffusion_step1 = np.random.normal(loc=dr1, scale=sigma, size=(nTrials, stop_time))    # change in accumulator 1\n",
    "diffusion_step2 = np.random.normal(loc=dr2, scale=sigma, size=(nTrials, stop_time))    # change in accumulator 2\n",
    "for tr in range(nTrials):\n",
    "    x1 = np.array([sp1],dtype=float32)       # Accumulator 1\n",
    "    x2 = np.array([sp2],dtype=float32)       # Accumulator 2\n",
    "    for t in range(stop_time):\n",
    "        x1 = np.append(x1, x1[t]+diffusion_step1[tr,t])    # update decision variable 1\n",
    "        x2 = np.append(x2, x2[t]+diffusion_step2[tr,t])    # update decision variable 2\n",
    "        if np.abs(x1[t]-x2[t]) > bound:    # checking if decision bound is reached\n",
    "            decision =  np.append(decision, np.sign(x1[t]-x2[t]))\n",
    "            rt =  np.append(rt, t)\n",
    "            break\n",
    "\n",
    "else:    # if decision is not reached\n",
    "    decision =  np.append(decision, np.NaN)\n",
    "    rt =  np.append(rt, np.NaN) \n",
    "rt =  rt+ndt\n",
    "\n",
    "# plt.plot(x1,'b')\n",
    "# plt.plot(x2,'g')\n",
    "# plt.plot(dv,'r')\n",
    "plt.hist(rt)\n",
    "plt.show"
   ]
  },
  {
   "cell_type": "markdown",
   "id": "8851e161-98dd-4ae6-8f85-3c80af53df18",
   "metadata": {},
   "source": [
    "# Working unused functinos"
   ]
  },
  {
   "cell_type": "code",
   "execution_count": null,
   "id": "200bb364-6ac4-44f4-89c8-ccf218bbb559",
   "metadata": {},
   "outputs": [],
   "source": [
    "                \n",
    "# Matrix multiplication with LARGE matric and a scale or vector on GPU \n",
    "@cuda.jit\n",
    "def matmult_cuda(matrix, scalar):\n",
    "    row,col = cuda.grid(2)\n",
    "    row_in_bounds = (row >= 0) and (row <= (matrix.shape[0] - 1))\n",
    "    col_in_bounds = (col >= 0) and (col <= (matrix.shape[1] - 1))\n",
    "    if row_in_bounds and col_in_bounds:\n",
    "        matrix[row,col] = scalar*matrix[row,col]\n",
    "# Initializing matmult_cuda function\n",
    "test_mat = cp.array([[2,3,5],[4,5,5]],dtype=float32)\n",
    "test_scalar = np.float32(3)\n",
    "blockdim = (16, 16)\n",
    "griddim = (test_mat.shape[0] // blockdim[0]) + 1, (test_mat.shape[1] // blockdim[1]) + 1\n",
    "%time matmult_cuda[griddim, blockdim](test_mat, test_scalar)\n",
    "        \n",
    "                \n",
    "        \n",
    "# Memory allotment trick\n",
    "def ddm_kernel(coh,nTrials,pars,stop_time,decision, rt):\n",
    "    tx = cuda.threadIdx.x # this is the unique thread ID within a 1D block\n",
    "    ty = cuda.blockIdx.x  # Similarly, this is the unique block ID within the 1D grid\n",
    "\n",
    "    block_size = cuda.blockDim.x  # number of threads per block\n",
    "    grid_size = cuda.gridDim.x    # number of blocks in the grid\n",
    "    \n",
    "    start = tx + ty * block_size\n",
    "    stride = block_size * grid_size\n",
    "\n",
    "    # assuming x and y inputs are same length\n",
    "    for i in range(start, x.shape[0], stride):\n",
    "        out[i] = x[i] + y[i]\n",
    "\n",
    "\n",
    "# For single Coherence\n",
    "@cuda.jit\n",
    "def DDM_kernel(nTrials,pars,stop_time, diffusion_step, decision, rt): \n",
    "\n",
    "    sp = pars[0]             # starting point 1\n",
    "    dg = pars[1]             # drift gain\n",
    "    sigma = pars[2]          # diffusion variability\n",
    "    ndt = pars[3]            # Non-decision time (msec)\n",
    "    bound = pars[4]          # drift rate\n",
    "    t = 0                    # time -> msec\n",
    "\n",
    "    tr = cuda.grid(1)\n",
    "    tr_in_bounds = (tr >= 0) and (tr <= (nTrials - 1))\n",
    "    \n",
    "    if tr_in_bounds:\n",
    "        dv = sp\n",
    "        for t in range(stop_time):\n",
    "            dv = dv + diffusion_step[tr,t]      # update decision variable\n",
    "            if dv > bound or dv < -bound:       # checking if decision bound is reached\n",
    "                decision[tr] =  2*(dv>0) - 1    # np.sign(dv) alternative for making decision based on where evidence is maximum\n",
    "                rt[tr] = t+ndt\n",
    "                break  "
   ]
  }
 ],
 "metadata": {
  "kernelspec": {
   "display_name": "Python 3 (ipykernel)",
   "language": "python",
   "name": "python3"
  },
  "language_info": {
   "codemirror_mode": {
    "name": "ipython",
    "version": 3
   },
   "file_extension": ".py",
   "mimetype": "text/x-python",
   "name": "python",
   "nbconvert_exporter": "python",
   "pygments_lexer": "ipython3",
   "version": "3.8.12"
  }
 },
 "nbformat": 4,
 "nbformat_minor": 5
}
