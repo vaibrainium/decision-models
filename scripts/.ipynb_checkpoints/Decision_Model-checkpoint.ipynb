{
 "cells": [
  {
   "cell_type": "code",
   "execution_count": 2,
   "id": "cc0ad2af-f34a-4d38-b6e7-7dc4fbca0e45",
   "metadata": {},
   "outputs": [
    {
     "name": "stdout",
     "output_type": "stream",
     "text": [
      "Populating the interactive namespace from numpy and matplotlib\n"
     ]
    },
    {
     "name": "stderr",
     "output_type": "stream",
     "text": [
      "C:\\Users\\mablab\\AppData\\Roaming\\Python\\Python38\\site-packages\\IPython\\core\\magics\\pylab.py:159: UserWarning: pylab import has clobbered these variables: ['random', 'vectorize']\n",
      "`%matplotlib` prevents importing * from pylab and numpy\n",
      "  warn(\"pylab import has clobbered these variables: %s\"  % clobbered +\n"
     ]
    }
   ],
   "source": [
    "%pylab inline\n",
    "import numpy as np\n",
    "from matplotlib import pyplot as plt\n",
    "from IPython.display import clear_output\n",
    "\n",
    "import numba\n",
    "import cupy as cp\n",
    "from numba import cuda, prange\n",
    "from numba.cuda import random\n",
    "from numba import jit, njit, vectorize\n",
    "import GPUtil"
   ]
  },
  {
   "cell_type": "code",
   "execution_count": 34,
   "id": "ed54ca48-9193-476b-b9b4-066d3e810ceb",
   "metadata": {},
   "outputs": [],
   "source": [
    "# Functions\n",
    "def ReLU(input):\n",
    "    return input * (input > 0)\n"
   ]
  },
  {
   "cell_type": "markdown",
   "id": "67bfbeec-c386-4a30-b454-1e2efc1e1094",
   "metadata": {},
   "source": [
    "# Drift-Diffusion Model"
   ]
  },
  {
   "cell_type": "markdown",
   "id": "9e840065-26b7-4c79-9e07-0ea0eef6ddaa",
   "metadata": {},
   "source": [
    "## 1) CPU"
   ]
  },
  {
   "cell_type": "code",
   "execution_count": 7,
   "id": "721a40a8-4e1e-4a4a-92c2-68448c7633ff",
   "metadata": {},
   "outputs": [
    {
     "name": "stdout",
     "output_type": "stream",
     "text": [
      "Wall time: 6.92 s\n"
     ]
    },
    {
     "data": {
      "text/plain": [
       "<function matplotlib.pyplot.show(close=None, block=None)>"
      ]
     },
     "execution_count": 7,
     "metadata": {},
     "output_type": "execute_result"
    },
    {
     "data": {
      "image/png": "[encoded data removed]",
      "text/plain": [
       "<Figure size 432x288 with 1 Axes>"
      ]
     },
     "metadata": {
      "needs_background": "light"
     },
     "output_type": "display_data"
    }
   ],
   "source": [
    "%%time\n",
    "# DDM\n",
    "\n",
    "# Variables\n",
    "coh = 100\n",
    "rt = np.array([],dtype=float32)       # Accumulator/decision variable\n",
    "decision = np.array([],dtype=float32)       # Accumulator/decision variable\n",
    "\n",
    "sp = 0             # starting point 1\n",
    "dg = 10e-6         # drift gain\n",
    "sigma = 10e-3      # diffusion variability\n",
    "dr = coh*dg        # drift rate\n",
    "t = 0              # time -> msec\n",
    "ndt = 100          # Non-decision time (msec)\n",
    "bound = 1          # Decision-bound\n",
    "stop_time = 10000  # Maximum allowed time for simulation\n",
    "nTrials = 1000     # Number of trials to simulate\n",
    "\n",
    "diffusion_step = np.random.normal(loc=dr, scale=sigma, size=(nTrials, stop_time))    # change in accumulator 1\n",
    "for tr in range(nTrials):\n",
    "    dv = np.array([sp],dtype=float32)\n",
    "    for t in range(stop_time):\n",
    "        dv = np.append(dv, dv[t]+diffusion_step[tr,t])    # update decision variable\n",
    "        if np.abs(dv[t]) > bound:    # checking if decision bound is reached\n",
    "            decision =  np.append(decision, np.sign(dv[t]))\n",
    "            rt =  np.append(rt, t)\n",
    "            break\n",
    "            \n",
    "else:    # if decision is not reached\n",
    "    decision =  np.append(decision, np.NaN)\n",
    "    rt =  np.append(rt, np.NaN) \n",
    "\n",
    "    \n",
    "rt = rt+ndt\n",
    "    \n",
    "# plt.plot(rt)\n",
    "plt.hist(rt)\n",
    "plt.show\n"
   ]
  },
  {
   "cell_type": "markdown",
   "id": "cff240d4-99ef-46c7-9b8d-794b0162cfac",
   "metadata": {},
   "source": [
    "## 2) CPU Parallelization with Numba"
   ]
  },
  {
   "cell_type": "markdown",
   "id": "4252ee2e-a3b2-4456-adbe-85ed36acbdff",
   "metadata": {},
   "source": [
    "Function for CPU parellelization"
   ]
  },
  {
   "cell_type": "code",
   "execution_count": null,
   "id": "4a359c5a-eb64-48de-ba77-44e52e1ab360",
   "metadata": {},
   "outputs": [],
   "source": [
    "@njit(parallel=True,fastmath=True)\n",
    "def DDM_cpu_parallel(coh,nTrials,pars,stop_time):\n",
    "    # To create empty array with numba => [np.int64(x) for x in range(0)]\n",
    "    rt =  np.empty(nTrials)*np.NaN        \n",
    "    decision = np.empty(nTrials)*np.NaN   \n",
    "    sp = pars[0]             # starting point 1\n",
    "    dg = pars[1]             # drift gain\n",
    "    sigma = pars[2]          # diffusion variability\n",
    "    ndt = pars[3]            # Non-decision time (msec)\n",
    "    bound = pars[4]\n",
    "    dr = coh*dg              # drift rate\n",
    "    t = 0                    # time -> msec\n",
    "    \n",
    "    diffusion_step = np.random.normal(loc=dr, scale=sigma, size=(nTrials, stop_time))    # change in accumulator 1\n",
    "    for tr in prange(nTrials):\n",
    "        dv = np.array([sp],dtype=float64)\n",
    "        for t in range(stop_time):\n",
    "            dv = np.append(dv, dv[t]+diffusion_step[tr,t])    # update decision variable\n",
    "            if np.abs(dv[t]) > bound:    # checking if decision bound is reached\n",
    "                decision[tr] =  np.sign(dv[t])\n",
    "                rt[tr] = t\n",
    "                break\n",
    "    rt = rt+ndt\n",
    "    return decision, rt\n",
    "\n",
    "# Initializing jit compilation\n",
    "coh = 100\n",
    "sp = 0             # starting point 1\n",
    "dg = 10e-6         # drift gain\n",
    "sigma = 10e-3      # diffusion variability\n",
    "dr = coh*dg        # drift rate\n",
    "t = 0              # time -> msec\n",
    "ndt = 100          # Non-decision time (msec)\n",
    "bound = 1          # Decision-bound\n",
    "stop_time = 1000   # Maximum allowed time for simulation\n",
    "nTrials = 10       # Number of trials to simulate\n",
    "pars = np.array([sp,dg,sigma,ndt,bound])\n",
    "DDM_cpu_parallel(coh,nTrials,pars,stop_time) "
   ]
  },
  {
   "cell_type": "markdown",
   "id": "60c8234e-e10a-4ecd-8b90-bf348133d31f",
   "metadata": {},
   "source": [
    "Running above model with random parameters and stimulus input"
   ]
  },
  {
   "cell_type": "code",
   "execution_count": 5,
   "id": "8adb1b4a-dcd1-43ec-93f1-eeeb63199cec",
   "metadata": {},
   "outputs": [
    {
     "name": "stdout",
     "output_type": "stream",
     "text": [
      "Wall time: 276 ms\n"
     ]
    },
    {
     "data": {
      "text/plain": [
       "<function matplotlib.pyplot.show(close=None, block=None)>"
      ]
     },
     "execution_count": 5,
     "metadata": {},
     "output_type": "execute_result"
    },
    {
     "data": {
      "image/png": "[encoded data removed]",
      "text/plain": [
       "<Figure size 432x288 with 1 Axes>"
      ]
     },
     "metadata": {
      "needs_background": "light"
     },
     "output_type": "display_data"
    }
   ],
   "source": [
    "# Variables\n",
    "coh = 100\n",
    "sp = 0             # starting point 1\n",
    "dg = 10e-6         # drift gain\n",
    "sigma = 10e-3      # diffusion variability\n",
    "dr = coh*dg        # drift rate\n",
    "t = 0              # time -> msec\n",
    "ndt = 100          # Non-decision time (msec)\n",
    "bound = 1          # Decision-bound\n",
    "stop_time = 10000  # Maximum allowed time for simulation\n",
    "nTrials = 1000     # Number of trials to simulate\n",
    "pars = np.array([sp,dg,sigma,ndt,bound])\n",
    "%time decision, rt = DDM_cpu_parallel(coh,nTrials,pars,stop_time)\n",
    "\n",
    "# plt.plot(rt)\n",
    "plt.hist(rt)\n",
    "plt.show"
   ]
  },
  {
   "cell_type": "markdown",
   "id": "7a0b9f0c-ce7c-48ee-b137-b814bcd581e6",
   "metadata": {},
   "source": [
    "## 3) GPU Parallelization with Numba and CuPy"
   ]
  },
  {
   "cell_type": "markdown",
   "id": "bff071c4-cd00-49d8-9b5c-e1f5d6a1251f",
   "metadata": {},
   "source": [
    "#### DDM Kernel for Numba"
   ]
  },
  {
   "cell_type": "code",
   "execution_count": 3,
   "id": "a9bb53f9-bd14-4f9c-ab49-58f4fe0147b4",
   "metadata": {},
   "outputs": [
    {
     "name": "stderr",
     "output_type": "stream",
     "text": [
      "C:\\Users\\mablab\\anaconda3\\envs\\Decision-Models\\lib\\site-packages\\numba\\cuda\\compiler.py:726: NumbaPerformanceWarning: \u001b[1mGrid size (1) < 2 * SM count (40) will likely result in GPU under utilization due to low occupancy.\u001b[0m\n",
      "  warn(NumbaPerformanceWarning(msg))\n"
     ]
    },
    {
     "name": "stdout",
     "output_type": "stream",
     "text": [
      "Wall time: 329 ms\n"
     ]
    }
   ],
   "source": [
    "# @jit\n",
    "def get_diffusion_matrix(coherence, drift_gain, sigma, nTrials=50000, stop_time=10000):\n",
    "    # Check if coherence value is scalar. If it is, then create matrix for diffusion step calculation\n",
    "    if np.isscalar(coherence):        \n",
    "        coherence = np.ones((nTrials, stop_time), dtype=float32)*coherence\n",
    "    if 'diffusion_matrix' in globals():  # If diffusion_matrix is already defined delete it to reduce load on VRAM\n",
    "        del diffusion_matrix\n",
    "        cp.get_default_memory_pool().free_all_blocks()\n",
    "    diffusion_matrix = cp.asarray(coherence)\n",
    "    diffusion_matrix = cp.multiply(diffusion_matrix,cp.asarray(drift_gain))    # Mean of diffusion to be Coh x drift gain\n",
    "    diffusion_matrix = cp.random.normal(diffusion_matrix, sigma, dtype='float32')    # Generating normal random steps\n",
    "    return diffusion_matrix\n",
    "\n",
    "# For Dynamic Coherence\n",
    "@cuda.jit\n",
    "def DDM_kernel(sp, bound, ndt, diffusion_step, decision, rt): \n",
    "    tr = cuda.grid(1)\n",
    "    tr_in_bounds = (tr >= 0) and (tr <= (diffusion_step.shape[0] - 1))   \n",
    "    if tr_in_bounds:\n",
    "        dv = sp\n",
    "        for t in range(diffusion_step.shape[1]):\n",
    "            dv = dv + diffusion_step[tr,t]      # update decision variable\n",
    "            if dv > bound or dv < -bound:       # checking if decision bound is reached\n",
    "                decision[tr] =  2*(dv>0) - 1    # np.sign(dv) alternative\n",
    "                rt[tr] = t+ndt\n",
    "                break  \n",
    "# Initializing DDM_Coherence_kernel with small variables\n",
    "sp=0\n",
    "ndt=0\n",
    "bound=1\n",
    "diffusion_step = cp.array([[2,3],[3,5]])\n",
    "decision = cp.empty(2)*cp.NaN\n",
    "rt = cp.empty(2)*cp.NaN\n",
    "blockdim = (16)\n",
    "griddim = (diffusion_step.shape[0] // blockdim) + 1\n",
    "cuda.synchronize()\n",
    "%time DDM_kernel[griddim, blockdim](sp, bound, ndt, diffusion_step, decision, rt)\n",
    "cuda.synchronize()\n"
   ]
  },
  {
   "cell_type": "code",
   "execution_count": 4,
   "id": "93b9fffd-ac76-467e-a0dc-e7b9e137290b",
   "metadata": {},
   "outputs": [
    {
     "name": "stdout",
     "output_type": "stream",
     "text": [
      "Wall time: 1.85 s\n",
      "Wall time: 128 ms\n"
     ]
    },
    {
     "data": {
      "text/plain": [
       "(array([3.2910e+03, 1.9392e+04, 1.7199e+04, 7.2750e+03, 2.1450e+03,\n",
       "        5.4400e+02, 1.1900e+02, 2.3000e+01, 8.0000e+00, 4.0000e+00]),\n",
       " array([ 384. ,  703.5, 1023. , 1342.5, 1662. , 1981.5, 2301. , 2620.5,\n",
       "        2940. , 3259.5, 3579. ]),\n",
       " <BarContainer object of 10 artists>)"
      ]
     },
     "execution_count": 4,
     "metadata": {},
     "output_type": "execute_result"
    },
    {
     "data": {
      "image/png": "[encoded data removed]",
      "text/plain": [
       "<Figure size 432x288 with 1 Axes>"
      ]
     },
     "metadata": {
      "needs_background": "light"
     },
     "output_type": "display_data"
    }
   ],
   "source": [
    "# %%time\n",
    "cp.random.seed()\n",
    "coh = 100\n",
    "sp = 0             # starting point 1\n",
    "dg = 10e-6         # drift gain\n",
    "sigma = 10e-3      # diffusion variability\n",
    "ndt = 100          # Non-decision time (msec)\n",
    "bound = 1\n",
    "dg = np.array([dg],dtype=float32)\n",
    "\n",
    "coherence = np.ones((50000, 10000), dtype=float32)*coh\n",
    "%time diffusion_matrix = get_diffusion_matrix(coh, dg, sigma)\n",
    "decision = cp.empty(diffusion_matrix.shape[0])*cp.NaN\n",
    "rt = cp.empty(diffusion_matrix.shape[0])*cp.NaN\n",
    "blockdim = (16)\n",
    "griddim = (diffusion_matrix.shape[0] // blockdim) + 1\n",
    "cuda.synchronize()\n",
    "%time DDM_kernel[griddim, blockdim](sp, bound, ndt, diffusion_matrix, decision, rt)\n",
    "cuda.synchronize()\n",
    "\n",
    "decision = cp.asnumpy(decision)\n",
    "rt = cp.asnumpy(rt)\n",
    "plt.hist(rt)\n"
   ]
  },
  {
   "cell_type": "markdown",
   "id": "69c89b05-848a-494c-936a-9bc4a9c7ea6c",
   "metadata": {},
   "source": [
    "### DDM Cuda kernel with inbuilt diffusion step"
   ]
  },
  {
   "cell_type": "markdown",
   "id": "32d90431-c6f4-44ff-b8cf-88610c8d2ced",
   "metadata": {},
   "source": [
    "1. Defining Kernels for parallelization and initializing with small variables for compilation"
   ]
  },
  {
   "cell_type": "code",
   "execution_count": 4,
   "id": "e2af462f-ecfa-4574-a578-f89bdaae208f",
   "metadata": {},
   "outputs": [
    {
     "name": "stderr",
     "output_type": "stream",
     "text": [
      "C:\\Users\\mablab\\anaconda3\\envs\\Decision-Models\\lib\\site-packages\\numba\\cuda\\compiler.py:726: NumbaPerformanceWarning: \u001b[1mGrid size (1) < 2 * SM count (40) will likely result in GPU under utilization due to low occupancy.\u001b[0m\n",
      "  warn(NumbaPerformanceWarning(msg))\n"
     ]
    },
    {
     "name": "stdout",
     "output_type": "stream",
     "text": [
      "Wall time: 345 ms\n"
     ]
    }
   ],
   "source": [
    "\n",
    "# For Dynamic Coherence\n",
    "@cuda.jit\n",
    "def DDM_kernel_for_delay(coherence, sp, dg, sigma, bound, ndt, decision, rt, rng_states): \n",
    "    tr = cuda.grid(1)\n",
    "    tr_in_bounds = (tr >= 0) and (tr <= (coherence.shape[0] - 1))   \n",
    "    if tr_in_bounds:\n",
    "        dv = sp                \n",
    "        for t in range(coherence.shape[1]):\n",
    "            diffusion_step = (coherence[tr,t]*dg)+ (random.xoroshiro128p_normal_float32(rng_states, tr)*sigma)   \n",
    "            dv = dv + diffusion_step      # update decision variable\n",
    "            if dv > bound or dv < -bound:       # checking if decision bound is reached\n",
    "                decision[tr] =  2*(dv>0) - 1    # np.sign(dv) alternative\n",
    "                rt[tr] = t+ndt\n",
    "                break  \n",
    "                \n",
    "# Initializing DDM_Coherence_kernel with small variables\n",
    "sp=0\n",
    "dg = 10e-6\n",
    "sigma = 10e-3\n",
    "ndt=0\n",
    "bound=1\n",
    "coherence = cp.array([[100,100],[100,100]])\n",
    "decision = cp.empty(coherence.shape[0])*cp.NaN\n",
    "rt = cp.empty(coherence.shape[0])*cp.NaN\n",
    "blockdim = (16)\n",
    "griddim = (coherence.shape[0] // blockdim) + 1\n",
    "rng_states = random.create_xoroshiro128p_states(griddim * blockdim, seed=1)\n",
    "cuda.synchronize()\n",
    "%time DDM_kernel_for_delay[griddim, blockdim](coherence, sp, dg, sigma, bound, ndt, decision, rt, rng_states)\n",
    "cuda.synchronize()"
   ]
  },
  {
   "cell_type": "markdown",
   "id": "f98b6a67-290f-47e9-8d91-815d7c549948",
   "metadata": {},
   "source": [
    "2. Defining model parameters and experimental condition (in this case coherence)"
   ]
  },
  {
   "cell_type": "code",
   "execution_count": 68,
   "id": "5734022e-6052-4e68-bf6d-cf493d407d7d",
   "metadata": {},
   "outputs": [],
   "source": [
    "cp.random.seed()\n",
    "coh = 100\n",
    "sp = 0             # starting point 1\n",
    "dg = 10e-6         # drift gain\n",
    "sigma = 10e-3      # diffusion variability\n",
    "ndt = 100          # Non-decision time (msec)\n",
    "bound = 1\n",
    "# dg = np.array([dg],dtype=float32)\n",
    "\n",
    "if 'coherence' in globals():\n",
    "    del coherence\n",
    "coherence = cp.ones((50000, 10000), dtype=float32)*coh\n"
   ]
  },
  {
   "cell_type": "markdown",
   "id": "a7b28b2b-3d25-413c-8e72-1c4a85d7149f",
   "metadata": {},
   "source": [
    "3. Running the code with GPU parallelization"
   ]
  },
  {
   "cell_type": "code",
   "execution_count": 296,
   "id": "a30b7473-a8a1-4b50-b1b2-a411c34a43ca",
   "metadata": {},
   "outputs": [
    {
     "name": "stdout",
     "output_type": "stream",
     "text": [
      "48.6 ms ± 168 µs per loop (mean ± std. dev. of 7 runs, 10 loops each)\n"
     ]
    },
    {
     "data": {
      "image/png": "[encoded data removed]",
      "text/plain": [
       "<Figure size 432x288 with 1 Axes>"
      ]
     },
     "metadata": {
      "needs_background": "light"
     },
     "output_type": "display_data"
    }
   ],
   "source": [
    "%%timeit \n",
    "\n",
    "decision = cp.empty(coherence.shape[0])*cp.NaN\n",
    "rt = cp.empty(coherence.shape[0])*cp.NaN\n",
    "blockdim = int(128)\n",
    "griddim = (coherence.shape[0] // blockdim) + 1\n",
    "seed = np.random.randint(0, np.iinfo(np.int32).max)\n",
    "rng_states = random.create_xoroshiro128p_states(griddim * blockdim, seed=seed)\n",
    "cuda.synchronize()\n",
    "DDM_kernel_for_delay[griddim, blockdim](coherence, sp, dg, sigma, bound, ndt, decision, rt, rng_states);\n",
    "cuda.synchronize()\n",
    "\n",
    "decision_cpu = cp.asnumpy(decision)\n",
    "rt_cpu = cp.asnumpy(rt)\n",
    "plt.hist(rt_cpu)\n",
    "# GPUtil.showUtilization()"
   ]
  },
  {
   "cell_type": "markdown",
   "id": "51d05c71-2367-42b3-b48a-e109e8331ff0",
   "metadata": {},
   "source": [
    "4. Batch Processing: GPU parallelization overloading memory for larger dataset hence performing batch operation"
   ]
  },
  {
   "cell_type": "code",
   "execution_count": 299,
   "id": "dc0845f8-6fc1-4838-a656-d6a56de2c789",
   "metadata": {},
   "outputs": [
    {
     "name": "stdout",
     "output_type": "stream",
     "text": [
      "28.9 ms ± 121 µs per loop (mean ± std. dev. of 7 runs, 10 loops each)\n"
     ]
    },
    {
     "data": {
      "image/png": "[encoded data removed]",
      "text/plain": [
       "<Figure size 432x288 with 1 Axes>"
      ]
     },
     "metadata": {
      "needs_background": "light"
     },
     "output_type": "display_data"
    }
   ],
   "source": [
    "\n",
    "def batch_simulation(model, coherence, sp, dg, sigma, bound, ndt, seed=None):\n",
    "    batch_size = 10000;\n",
    "    rt_np = []\n",
    "    decision_np = []\n",
    "    blockdim = int(128)\n",
    "    griddim = (batch_size // blockdim) + 1\n",
    "    if seed is None:\n",
    "        seed = np.random.randint(0, np.iinfo(np.int32).max)\n",
    "    rng_states = random.create_xoroshiro128p_states(griddim * blockdim, seed=seed)\n",
    "\n",
    "    for i in range((coherence.shape[0]//batch_size)+1):\n",
    "        coherence_batch = coherence[batch_size*i:batch_size*(i+1)]\n",
    "        decision_cp = cp.empty(coherence_batch.shape[0])*cp.NaN\n",
    "        rt_cp = cp.empty(coherence_batch.shape[0])*cp.NaN\n",
    "        cuda.synchronize()\n",
    "        model[griddim, blockdim](coherence_batch, sp, dg, sigma, bound, ndt, decision_cp, rt_cp, rng_states);\n",
    "        cuda.synchronize()\n",
    "        decision_np = np.append(decision_np, cp.asnumpy(decision_cp))\n",
    "        rt_np = np.append(rt_np, cp.asnumpy(rt_cp))\n",
    "    plt.hist(rt_np)\n",
    "    return decision_np, rt_np\n",
    "\n",
    "%timeit decision, rt =  batch_simulation(DDM_kernel_for_delay, coherence, sp, dg, sigma, bound, ndt)\n",
    "# plt.hist(rt)"
   ]
  },
  {
   "cell_type": "code",
   "execution_count": 307,
   "id": "ce44f1c7-90df-4dfb-8a48-66c230adca14",
   "metadata": {},
   "outputs": [
    {
     "data": {
      "text/plain": [
       "(2, 2)"
      ]
     },
     "execution_count": 307,
     "metadata": {},
     "output_type": "execute_result"
    }
   ],
   "source": [
    "coherence.shape"
   ]
  },
  {
   "cell_type": "markdown",
   "id": "c33c6fd6-dec2-43cf-982c-85645c4b3242",
   "metadata": {},
   "source": [
    "<center><h1>Drift Diffusion Model - Simulation Results <h1><center>\n",
    "\n",
    "| Model | Number of trials | Simulation time |\n",
    "| --- | --- | --- |\n",
    "|CPU Simulation | 10K | 6 secs | \n",
    "| CPU Simulation with Parallelization | 10K | 250 msec|\n",
    "\n",
    "<br><h5><center>Further improvement in the model to accomodate dynamic input<center><h4><br>\n",
    "\n",
    "| Model | Number of trials | Simulation time |\n",
    "| --- | --- | --- |\n",
    "| GPU Simulation with external diffusion process | 50K | 200 mses |\n",
    "| GPU Simulation with internal diffusion process | 50K | 48.6 ms ± 168 µs |\n",
    "| GPU Simulation with internal diffusion process with batch processing | 50K | 28.9 ms ± 121 µs |"
   ]
  },
  {
   "cell_type": "markdown",
   "id": "26779a21-4a6f-4754-a87d-4fd48fe92732",
   "metadata": {},
   "source": [
    "# Leaky-Competing Accumulator Model"
   ]
  },
  {
   "cell_type": "markdown",
   "id": "0fff15ec-2682-478d-9e80-92665edc10fd",
   "metadata": {},
   "source": [
    "<h3>1. CPU implementation of LCA <h3>"
   ]
  },
  {
   "cell_type": "code",
   "execution_count": 38,
   "id": "b46c27ba-91b2-408d-8ee5-153b9b71e400",
   "metadata": {
    "tags": []
   },
   "outputs": [
    {
     "name": "stdout",
     "output_type": "stream",
     "text": [
      "Wall time: 0 ns\n"
     ]
    },
    {
     "data": {
      "text/plain": [
       "<function matplotlib.pyplot.show(close=None, block=None)>"
      ]
     },
     "execution_count": 38,
     "metadata": {},
     "output_type": "execute_result"
    }
   ],
   "source": [
    "## LCA\n",
    "%time\n",
    "\n",
    "# Variables\n",
    "coh = 51\n",
    "\n",
    "sp1 = 0             # starting point 1\n",
    "sp2 = 0             # starting point 2\n",
    "dg1 = 10e-6       # drift gain 1\n",
    "dg2 = 2*10e-6       # drift gain 2\n",
    "sigma = 10e-3         # diffusion variability\n",
    "I0 = 0.001         # baseline input\n",
    "dr1 = ReLU(coh)*dg1       # first variable (input)\n",
    "dr2 = ReLU(-coh)*dg2       # second variable (input)\n",
    "leak = 0               # leak\n",
    "lateral_inhibition = 0               # lateral inhibition\n",
    "t = 0               # time -> msec\n",
    "ndt = 100           # Non-decision time (msec)\n",
    "stop_time = 10000\n",
    "\n",
    "nTrials = 10000\n",
    "diffusion_step1 = np.random.normal(loc=dr1, scale=sigma, size=(nTrials, stop_time))\n",
    "diffusion_step2 = np.random.normal(loc=dr2, scale=sigma, size=(nTrials, stop_time))\n",
    "for tr in range(nTrials):\n",
    "    dv1 = np.array([sp1],dtype=float32)       # Accumulator 1\n",
    "    dv2 = np.array([sp2],dtype=float32)       # Accumulator 2\n",
    "    for t in range(stop_time):\n",
    "        del_dv1 = diffusion_step1[tr,t] - leak*dv1[t] - lateral_inhibition*dv2[t] + I0    # change in accumulator 1\n",
    "        del_dv2 = diffusion_step2[tr,t] - leak*dv2[t] - lateral_inhibition*dv1[t] + I0    # change in accumulator 2\n",
    "        dv1 = np.append(dv1, ReLU(dv1[t]+del_dv1))    # update decision variable 1\n",
    "        dv2 = np.append(dv2, ReLU(dv2[t]+del_dv2))    # update decision variable 2\n",
    "        if np.abs(dv1[t]) > bound:\n",
    "            decision =  np.append(decision, 1)\n",
    "            rt =  np.append(rt, t)\n",
    "            break\n",
    "        elif np.abs(dv2[t]) > bound:    # checking if decision bound is reached\n",
    "            decision =  np.append(decision, -1)\n",
    "            rt =  np.append(rt, t)\n",
    "            break\n",
    "            \n",
    "else:    # if decision is not reached\n",
    "    decision =  np.append(decision, np.NaN)\n",
    "    rt =  np.append(rt, np.NaN) \n",
    "rt =  rt+ndt\n",
    "\n",
    "# plt.plot(dv1,'b')\n",
    "# plt.plot(dv2,'g')\n",
    "# plt.hist(rt)\n",
    "plt.show\n"
   ]
  },
  {
   "cell_type": "markdown",
   "id": "9cf8e020-f1f8-45c1-8daf-df1c732d8c77",
   "metadata": {},
   "source": [
    "<h3>2. GPU Implementation of LCA<h3>"
   ]
  },
  {
   "cell_type": "markdown",
   "id": "2f1d78cc-5ad1-4a0b-9de2-b678456699b8",
   "metadata": {},
   "source": [
    "LCA kernels and initialization"
   ]
  },
  {
   "cell_type": "code",
   "execution_count": 33,
   "id": "79a0d3cf-ef14-4a37-b729-8dc67a90aeac",
   "metadata": {},
   "outputs": [
    {
     "name": "stderr",
     "output_type": "stream",
     "text": [
      "C:\\Users\\mablab\\anaconda3\\envs\\Decision-Models\\lib\\site-packages\\numba\\cuda\\compiler.py:726: NumbaPerformanceWarning: \u001b[1mGrid size (1) < 2 * SM count (40) will likely result in GPU under utilization due to low occupancy.\u001b[0m\n",
      "  warn(NumbaPerformanceWarning(msg))\n"
     ]
    },
    {
     "name": "stdout",
     "output_type": "stream",
     "text": [
      "Wall time: 228 ms\n"
     ]
    }
   ],
   "source": [
    "\n",
    "@cuda.jit\n",
    "def ReLU_cuda(input):\n",
    "    return input * (input > 0)\n",
    "\n",
    "# For Dynamic Coherence\n",
    "@cuda.jit\n",
    "def LCA_kernel_for_delay(coherence, sp1, sp2, dg1, dg2, sigma, bound, ndt, leak, lateral_inhibition, decision, rt, rng_states): \n",
    "    tr = cuda.grid(1)\n",
    "    tr_in_bounds = (tr >= 0) and (tr <= (coherence.shape[0] - 1))   \n",
    "    if tr_in_bounds:\n",
    "        dv1 = sp1   # First accumulator                \n",
    "        dv2 = sp2   # Second accumulator\n",
    "        for t in range(coherence.shape[1]):\n",
    "            diffusion_step1 = ReLU(coherence[tr,t]*dg1)  + (random.xoroshiro128p_normal_float32(rng_states, tr)*sigma)   \n",
    "            diffusion_step2 = ReLU(-coherence[tr,t]*dg2) + (random.xoroshiro128p_normal_float32(rng_states, tr)*sigma)               \n",
    "            del_dv1 = diffusion_step1 - leak*dv1 - lateral_inhibition*dv2    # change in accumulator 1\n",
    "            del_dv2 = diffusion_step2 - leak*dv2 - lateral_inhibition*dv1    # change in accumulator 1\n",
    "        \n",
    "            dv1 = ReLU(dv1 + del_dv1)           # update decision variable\n",
    "            dv2 = ReLU(dv2 + del_dv2)           # update decision variable\n",
    "            \n",
    "            if dv1 > bound:\n",
    "                decision[tr] =  1\n",
    "                rt[tr] = t+ndt\n",
    "                break\n",
    "            if dv2 > bound:\n",
    "                decision[tr] =  -1\n",
    "                rt[tr] = t+ndt\n",
    "                break\n",
    "                                \n",
    "# Initializing DDM_Coherence_kernel with small variables\n",
    "sp1=0\n",
    "sp2=0\n",
    "dg1 = 10e-6\n",
    "dg2 = 10e-6\n",
    "sigma = 10e-3         # diffusion variability\n",
    "I0 = 0.001            # baseline input\n",
    "leak = 0              # leak\n",
    "lateral_inhibition = 0     # lateral inhibition\n",
    "ndt=0\n",
    "bound=1\n",
    "coherence = cp.array([[100,100],[100,100]])\n",
    "decision = cp.empty(coherence.shape[0])*cp.NaN\n",
    "rt = cp.empty(coherence.shape[0])*cp.NaN\n",
    "blockdim = (16)\n",
    "griddim = (coherence.shape[0] // blockdim) + 1\n",
    "rng_states = random.create_xoroshiro128p_states(griddim * blockdim, seed=1)\n",
    "cuda.synchronize()\n",
    "%time LCA_kernel_for_delay[griddim, blockdim](coherence, sp1, sp2, dg1, dg2, sigma, bound, ndt, leak, lateral_inhibition, decision, rt, rng_states)\n",
    "cuda.synchronize()"
   ]
  },
  {
   "cell_type": "markdown",
   "id": "d99cb968-64f4-4c2a-b013-390d5e5329db",
   "metadata": {},
   "source": [
    "Model Parameters and input"
   ]
  },
  {
   "cell_type": "code",
   "execution_count": 25,
   "id": "9ab8386c-a830-4c1d-b243-f29bf6572d44",
   "metadata": {},
   "outputs": [],
   "source": [
    "# Initializing DDM_Coherence_kernel with small variables\n",
    "coh = 100\n",
    "sp1=0\n",
    "sp2=0\n",
    "dg1 = 10e-6\n",
    "dg2 = 10e-6\n",
    "sigma = 10e-3         # diffusion variability\n",
    "I0 = 0.001            # baseline input\n",
    "leak = 0              # leak\n",
    "lateral_inhibition = 0     # lateral inhibition\n",
    "ndt=0\n",
    "bound=1\n",
    "\n",
    "if 'coherence' in globals():\n",
    "    del coherence\n",
    "coherence = cp.ones((50000, 10000), dtype=float32)*coh"
   ]
  },
  {
   "cell_type": "markdown",
   "id": "151f4818-308d-45a6-b554-07f670dc4864",
   "metadata": {},
   "source": [
    "Full Execution"
   ]
  },
  {
   "cell_type": "code",
   "execution_count": 325,
   "id": "5f31888e-16de-400f-8cfd-c3646184f982",
   "metadata": {},
   "outputs": [
    {
     "name": "stdout",
     "output_type": "stream",
     "text": [
      "35.9 ms ± 104 µs per loop (mean ± std. dev. of 7 runs, 10 loops each)\n"
     ]
    }
   ],
   "source": [
    "%%timeit\n",
    "\n",
    "decision = cp.empty(coherence.shape[0])*cp.NaN\n",
    "rt = cp.empty(coherence.shape[0])*cp.NaN\n",
    "blockdim = (16)\n",
    "griddim = (coherence.shape[0] // blockdim) + 1\n",
    "rng_states = random.create_xoroshiro128p_states(griddim * blockdim, seed=1)\n",
    "\n",
    "cuda.synchronize()\n",
    "LCA_kernel_for_delay[griddim, blockdim](coherence, sp1, sp2, dg1, dg2, sigma, bound, ndt, leak, lateral_inhibition, decision, rt, rng_states)\n",
    "cuda.synchronize()"
   ]
  },
  {
   "cell_type": "markdown",
   "id": "95cc194e-b8a2-461b-ae09-9445a6f04526",
   "metadata": {},
   "source": [
    "Batch Execution"
   ]
  },
  {
   "cell_type": "code",
   "execution_count": 30,
   "id": "472c99f5-e2f0-48b4-a739-c2ff1f16605b",
   "metadata": {},
   "outputs": [
    {
     "name": "stdout",
     "output_type": "stream",
     "text": [
      "36.5 ms ± 414 µs per loop (mean ± std. dev. of 7 runs, 10 loops each)\n"
     ]
    }
   ],
   "source": [
    "def batch_simulation(model, coherence, sp1, sp2, dg1, dg2, sigma, bound, ndt, leak, lateral_inhibition, seed=None):\n",
    "    batch_size = 10000;\n",
    "    rt_np = []\n",
    "    decision_np = []\n",
    "    blockdim = int(128)\n",
    "    griddim = (batch_size // blockdim) + 1\n",
    "    if seed is None:\n",
    "        seed = np.random.randint(0, np.iinfo(np.int32).max)\n",
    "    rng_states = random.create_xoroshiro128p_states(griddim * blockdim, seed=seed)\n",
    "\n",
    "    for i in range((coherence.shape[0]//batch_size)+1):\n",
    "        coherence_batch = coherence[batch_size*i:batch_size*(i+1)]\n",
    "        decision_cp = cp.empty(coherence_batch.shape[0])*cp.NaN\n",
    "        rt_cp = cp.empty(coherence_batch.shape[0])*cp.NaN\n",
    "        cuda.synchronize()\n",
    "        model[griddim, blockdim](coherence_batch, sp1, sp2, dg1, dg2, sigma, bound, ndt, leak, lateral_inhibition, decision_cp, rt_cp, rng_states);\n",
    "        cuda.synchronize()\n",
    "        decision_np = np.append(decision_np, cp.asnumpy(decision_cp))\n",
    "        rt_np = np.append(rt_np, cp.asnumpy(rt_cp))\n",
    "#     plt.hist(rt_np)\n",
    "    return decision_np, rt_np\n",
    "\n",
    "%timeit decision, rt =  batch_simulation(LCA_kernel_for_delay, coherence, sp1, sp2, dg1, dg2, sigma, bound, ndt, leak, lateral_inhibition)\n",
    "    "
   ]
  },
  {
   "cell_type": "markdown",
   "id": "11137302-24ed-4296-8f97-14c15216b119",
   "metadata": {},
   "source": [
    "<center><h3>Leaky-Competing Accumulator Model - Simulation Results<h3><centert>\n",
    "\n",
    "| Model | Number of trials | Simulation time |\n",
    "| --- | --- | --- |\n",
    "| GPU Simulation with internal diffusion process | 50K | 35.9 ms ± 104 µs |\n",
    "| GPU Simulation with internal diffusion process with batch processing | 50K | 36.5 ms ± 414 µs |"
   ]
  },
  {
   "cell_type": "markdown",
   "id": "ab3118f9-7c8c-48bf-81da-2e7ffb9b4a28",
   "metadata": {
    "tags": []
   },
   "source": [
    "# Race Model"
   ]
  },
  {
   "cell_type": "code",
   "execution_count": null,
   "id": "ae0e2e16-d6ee-4f1d-80d8-0bbb53b80d53",
   "metadata": {
    "jupyter": {
     "source_hidden": true
    },
    "tags": []
   },
   "outputs": [],
   "source": [
    "# Race Model\n",
    "''' \n",
    "Considering latent observation of the stimulus.\n",
    "Mainly driven by diffusion variability (if considering 0 input in opposite direction)\n",
    "Good estimate in case of motion energy in random dots which also have some opposite direction component.\n",
    "'''\n",
    "\n",
    "# Variables\n",
    "coh = 52\n",
    "\n",
    "sp1 = 0                   # starting point 1\n",
    "sp2 = 0                   # starting point 2\n",
    "dg1 = 10e-6               # drift gain 1\n",
    "dg2 = 2*10e-6             # drift gain 2\n",
    "sigma = 10e-3             # diffusion variability\n",
    "I0 = 0.0002               # baseline input\n",
    "dr1 = ReLU(coh)*dg1       # drift rate 1\n",
    "dr2 = ReLU(-coh)*dg2      # drift rate 2\n",
    "t = 0                     # time -> msec\n",
    "ndt = 100                 # Non-decision time (msec)\n",
    "stop_time = 10000\n",
    "\n",
    "nTrials = 1000\n",
    "diffusion_step1 = np.random.normal(loc=dr1, scale=sigma, size=(nTrials, stop_time))    # change in accumulator 1\n",
    "diffusion_step2 = np.random.normal(loc=dr2, scale=sigma, size=(nTrials, stop_time))    # change in accumulator 2\n",
    "for tr in range(nTrials):\n",
    "    dv1 = np.array([sp1],dtype=float32)       # Accumulator 1\n",
    "    dv2 = np.array([sp2],dtype=float32)       # Accumulator 2\n",
    "    for t in range(stop_time):\n",
    "        dv1 = np.append(dv1, ReLU(dv1[t]+diffusion_step1[tr,t]))    # update decision variable 1\n",
    "        dv2 = np.append(dv2, ReLU(dv2[t]+diffusion_step2[tr,t]))    # update decision variable 2\n",
    "        if np.abs(dv1[t]) > bound:\n",
    "            decision =  np.append(decision, 1)\n",
    "            rt =  np.append(rt, t)\n",
    "            break\n",
    "        elif np.abs(dv2[t]) > bound:    # checking if decision bound is reached\n",
    "            decision =  np.append(decision, -1)\n",
    "            rt =  np.append(rt, t)\n",
    "            break\n",
    "            \n",
    "else:    # if decision is not reached\n",
    "    decision =  np.append(decision, np.NaN)\n",
    "    rt =  np.append(rt, np.NaN) \n",
    "rt =  rt+ndt\n",
    "\n",
    "# plt.plot(dv1)\n",
    "# plt.plot(dv2)\n",
    "plt.hist(rt)\n",
    "plt.show"
   ]
  },
  {
   "cell_type": "markdown",
   "id": "b262f05e-6de6-4db3-8ae7-aa4f8d81d5cf",
   "metadata": {},
   "source": [
    "# Latent Drift-Diffusion Model"
   ]
  },
  {
   "cell_type": "code",
   "execution_count": null,
   "id": "848418fc-66b4-4b3b-9a9a-001f2a949b54",
   "metadata": {
    "jupyter": {
     "source_hidden": true
    },
    "tags": []
   },
   "outputs": [],
   "source": [
    "# Latent DDM\n",
    "''' \n",
    "Considering latent observation of the stimulus.\n",
    "Mainly driven by diffusion variability (if considering 0 input in opposite direction)\n",
    "Good estimate in case of motion energy in random dots also have some opposite direction motion.\n",
    "\n",
    "Mathematically equivalent to running DDM with diffusion of sqrt(2)*sigma instead of sigma\n",
    "\n",
    "'''\n",
    "\n",
    "# Variables\n",
    "coh = 52\n",
    "\n",
    "sp1 = 0                   # starting point 1\n",
    "sp2 = 0                   # starting point 2\n",
    "dg1 = 10e-6               # drift gain 1\n",
    "dg2 = 2*10e-6             # drift gain 2\n",
    "sigma = 10e-3             # diffusion variability\n",
    "I0 = 0.0002               # baseline input\n",
    "dr1 = ReLU(coh)*dg1       # drift rate 1\n",
    "dr2 = ReLU(-coh)*dg2      # drift rate 2\n",
    "t = 0                     # time -> msec\n",
    "ndt = 100                 # Non-decision time (msec)\n",
    "stop_time = 10000\n",
    "\n",
    "nTrials = 1000\n",
    "diffusion_step1 = np.random.normal(loc=dr1, scale=sigma, size=(nTrials, stop_time))    # change in accumulator 1\n",
    "diffusion_step2 = np.random.normal(loc=dr2, scale=sigma, size=(nTrials, stop_time))    # change in accumulator 2\n",
    "for tr in range(nTrials):\n",
    "    x1 = np.array([sp1],dtype=float32)       # Accumulator 1\n",
    "    x2 = np.array([sp2],dtype=float32)       # Accumulator 2\n",
    "    for t in range(stop_time):\n",
    "        x1 = np.append(x1, x1[t]+diffusion_step1[tr,t])    # update decision variable 1\n",
    "        x2 = np.append(x2, x2[t]+diffusion_step2[tr,t])    # update decision variable 2\n",
    "        if np.abs(x1[t]-x2[t]) > bound:    # checking if decision bound is reached\n",
    "            decision =  np.append(decision, np.sign(x1[t]-x2[t]))\n",
    "            rt =  np.append(rt, t)\n",
    "            break\n",
    "\n",
    "else:    # if decision is not reached\n",
    "    decision =  np.append(decision, np.NaN)\n",
    "    rt =  np.append(rt, np.NaN) \n",
    "rt =  rt+ndt\n",
    "\n",
    "# plt.plot(x1,'b')\n",
    "# plt.plot(x2,'g')\n",
    "# plt.plot(dv,'r')\n",
    "plt.hist(rt)\n",
    "plt.show"
   ]
  },
  {
   "cell_type": "markdown",
   "id": "8851e161-98dd-4ae6-8f85-3c80af53df18",
   "metadata": {},
   "source": [
    "# Working unused functinos"
   ]
  },
  {
   "cell_type": "code",
   "execution_count": null,
   "id": "200bb364-6ac4-44f4-89c8-ccf218bbb559",
   "metadata": {
    "jupyter": {
     "source_hidden": true
    },
    "tags": []
   },
   "outputs": [],
   "source": [
    "                \n",
    "# Matrix multiplication with LARGE matric and a scale or vector on GPU \n",
    "@cuda.jit\n",
    "def matmult_cuda(matrix, scalar):\n",
    "    row,col = cuda.grid(2)\n",
    "    row_in_bounds = (row >= 0) and (row <= (matrix.shape[0] - 1))\n",
    "    col_in_bounds = (col >= 0) and (col <= (matrix.shape[1] - 1))\n",
    "    if row_in_bounds and col_in_bounds:\n",
    "        matrix[row,col] = scalar*matrix[row,col]\n",
    "# Initializing matmult_cuda function\n",
    "test_mat = cp.array([[2,3,5],[4,5,5]],dtype=float32)\n",
    "test_scalar = np.float32(3)\n",
    "blockdim = (16, 16)\n",
    "griddim = (test_mat.shape[0] // blockdim[0]) + 1, (test_mat.shape[1] // blockdim[1]) + 1\n",
    "%time matmult_cuda[griddim, blockdim](test_mat, test_scalar)\n",
    "        \n",
    "                \n",
    "        \n",
    "# Memory allotment trick\n",
    "def ddm_kernel(coh,nTrials,pars,stop_time,decision, rt):\n",
    "    tx = cuda.threadIdx.x # this is the unique thread ID within a 1D block\n",
    "    ty = cuda.blockIdx.x  # Similarly, this is the unique block ID within the 1D grid\n",
    "\n",
    "    block_size = cuda.blockDim.x  # number of threads per block\n",
    "    grid_size = cuda.gridDim.x    # number of blocks in the grid\n",
    "    \n",
    "    start = tx + ty * block_size\n",
    "    stride = block_size * grid_size\n",
    "\n",
    "    # assuming x and y inputs are same length\n",
    "    for i in range(start, x.shape[0], stride):\n",
    "        out[i] = x[i] + y[i]\n",
    "\n",
    "\n",
    "# For single Coherence\n",
    "@cuda.jit\n",
    "def DDM_kernel(nTrials,pars,stop_time, diffusion_step, decision, rt): \n",
    "\n",
    "    sp = pars[0]             # starting point 1\n",
    "    dg = pars[1]             # drift gain\n",
    "    sigma = pars[2]          # diffusion variability\n",
    "    ndt = pars[3]            # Non-decision time (msec)\n",
    "    bound = pars[4]          # drift rate\n",
    "    t = 0                    # time -> msec\n",
    "\n",
    "    tr = cuda.grid(1)\n",
    "    tr_in_bounds = (tr >= 0) and (tr <= (nTrials - 1))\n",
    "    \n",
    "    if tr_in_bounds:\n",
    "        dv = sp\n",
    "        for t in range(stop_time):\n",
    "            dv = dv + diffusion_step[tr,t]      # update decision variable\n",
    "            if dv > bound or dv < -bound:       # checking if decision bound is reached\n",
    "                decision[tr] =  2*(dv>0) - 1    # np.sign(dv) alternative for making decision based on where evidence is maximum\n",
    "                rt[tr] = t+ndt\n",
    "                break  "
   ]
  }
 ],
 "metadata": {
  "kernelspec": {
   "display_name": "Python 3 (ipykernel)",
   "language": "python",
   "name": "python3"
  },
  "language_info": {
   "codemirror_mode": {
    "name": "ipython",
    "version": 3
   },
   "file_extension": ".py",
   "mimetype": "text/x-python",
   "name": "python",
   "nbconvert_exporter": "python",
   "pygments_lexer": "ipython3",
   "version": "3.8.12"
  }
 },
 "nbformat": 4,
 "nbformat_minor": 5
}
