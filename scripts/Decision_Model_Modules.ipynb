{
 "cells": [
  {
   "cell_type": "markdown",
   "id": "89f4b2b8-f316-4d40-8575-8492ffe183ab",
   "metadata": {},
   "source": [
    "**<h1><center>Computational Models for Decision Making<center><h1>**"
   ]
  },
  {
   "cell_type": "markdown",
   "id": "c7fe0dbc-f3e7-4bd7-80b0-a6bf2a2b1c2c",
   "metadata": {},
   "source": [
    "<a id=\"Introduction\"></a>\n",
    "<h2> Introduction</h2>\n",
    "    Decision-making is a critical cognitive process that underlies many other executive functions performed by animals, including humans, yet how the brain makes these decisions is not well known. The cognitive psychologists/neuroscientists have been proposing different computational models which can describe these processes as much as possible. One of the major milestone in the field was when Shadlen and Newsome, 2001 found the neural activity in LIP area which showed properties predicted by one of the evidence based accumulation model.\n",
    "    Through this project I have tried building few of these stochastic evidence accumulation models, namely:\n",
    "    \n",
    "1. [__Drift-Diffusion Model (DDM)__](#DDM)\n",
    "    1. [Basic Implentation](#Basic_Implementation_DDM)\n",
    "    2. [Parallel Implementation](#Parallel_Implementation_DDM) \n",
    "        1. [CPU Implementation](#CPU_Implementation_DDM)\n",
    "        2. [GPU Implementation](#GPU_Implementation_DDM)\n",
    "            1. [Extrinsic Diffusion Process](#Extrinsic_Diffusion_Process_DDM)\n",
    "            2. [Intrinsic Diffusion Process](#Intrinsic_Diffusion_Process_DDM)\n",
    "            3. [Intrinsic Diffusion Process with Batch Processing](#Intrinsic_Diffusion_Process_with_Batch_Processing_DDM)\n",
    "    3. [Model Performance](#Model_Performance_DDM)\n",
    "2. [__Race Model__](#Race)\n",
    "    1. [Basic Implentation](#Basic_Implementation_Race)\n",
    "<!--     2. [GPU Implementation](#GPU_Implementation_Race)\n",
    "        1. [Intrinsic Diffusion Process](#Intrinsic_Diffusion_Process_Race)\n",
    "        2. [Intrinsic Diffusion Process with Batch Processing](#Intrinsic_Diffusion_Process_with_Batch_Processing_Race) -->\n",
    "3. [__Leaky-Competing Accimulator Model (LCA)__](#LCA)\n",
    "    1. [Basic Implentation](#Basic_Implementation_LCA)\n",
    "    2. [GPU Implementation](#GPU_Implementation_LCA)\n",
    "        1. [Intrinsic Diffusion Process](#Intrinsic_Diffusion_Process_LCA)\n",
    "        2. [Intrinsic Diffusion Process with Batch Processing](#Intrinsic_Diffusion_Process_with_Batch_Processing_LCA)\n",
    "\n",
    "<br>\n",
    "<br>\n",
    "<br>"
   ]
  },
  {
   "cell_type": "markdown",
   "id": "ca974358-9b69-45bc-9d1a-767d12dd16fc",
   "metadata": {},
   "source": [
    "`Basic Imports`"
   ]
  },
  {
   "cell_type": "code",
   "execution_count": 2,
   "id": "cc0ad2af-f34a-4d38-b6e7-7dc4fbca0e45",
   "metadata": {
    "tags": [
     "hide-cell"
    ]
   },
   "outputs": [],
   "source": [
    "%%capture --no-display\n",
    "%pylab inline\n",
    "import numpy as np\n",
    "from matplotlib import pyplot as plt\n",
    "from IPython.display import clear_output\n",
    "\n",
    "import numba\n",
    "import cupy as cp\n",
    "from numba import cuda, prange\n",
    "from numba.cuda import random\n",
    "from numba import jit, njit, vectorize\n",
    "from numba.core.errors import NumbaPerformanceWarning\n",
    "import warnings\n",
    "warnings.simplefilter('ignore', category=NumbaPerformanceWarning)\n",
    "import GPUtil\n"
   ]
  },
  {
   "cell_type": "code",
   "execution_count": 3,
   "id": "ed54ca48-9193-476b-b9b4-066d3e810ceb",
   "metadata": {
    "tags": []
   },
   "outputs": [],
   "source": [
    "# Functions\n",
    "def ReLU(input):\n",
    "    '''Takes an input value and performs rectified linear unit operation i.e., \n",
    "    A = A   if A >= 0\n",
    "    A = 0   if A <  0\n",
    "    '''\n",
    "    return input * (input >= 0)\n"
   ]
  },
  {
   "cell_type": "markdown",
   "id": "67bfbeec-c386-4a30-b454-1e2efc1e1094",
   "metadata": {},
   "source": [
    "<a id=\"DDM\"></a>\n",
    "## 1. Drift-Diffusion Model"
   ]
  },
  {
   "cell_type": "markdown",
   "id": "b54f4793-1187-4ab7-935f-a05cc45b66f8",
   "metadata": {},
   "source": [
    "The Drift-Diffusion Model (DDM) has been around for a couple of decades before the neural correlats of accumulation based decision making was discovered. The model is an extension of stochastic diffusion process often known as Brownian motion or Random walk process and adds drifting component to such process. \n",
    "\n",
    "Let’s assume we are performing a decision between two different choices. The model predicts that you start at neutral position and accumulate net evidence for choosing one of the choices. This process has stochastic drift with diffusion component. Once you accumulate evidence equivalent to specific threshold you make that choice. The advancement of this model over models from signal detection theory was that it is dynamic model and doesn’t account only for the choices but also the reaction time of the decision making process. \n",
    "    \n",
    "<h4> The model illustration is shown below:</h4>\n",
    "\n",
    "<center><img src=media/DDM1.png  width=\"500\"/></center>\n",
    "    \n",
    "The idea behind this model is that you start at the center point and based on the evidence in you start accumulating the decision variable towards one of the choice depending on the stimulus input. Once the decision variable crosses choice threshold, subject makes that choice.\n",
    "<br></br>\n",
    "<br></br>\n",
    "<h4> Neural representation of the model:</h4>\n",
    "   \n",
    "<center><img src=media/DDM2.png  width=\"250\"/></center>\n",
    "\n",
    "Another way of thinking about these model is that we could have two neurons which integrate the stimulus for one of the two choices. However, these neurons have perfect \n",
    "inhibition  to its counterpart. \n",
    "\n",
    "<br></br>\n",
    "<br></br>\n",
    "\n",
    "This drift-diffusion process can be mathematically formulated as: \n",
    "\n",
    "### <center>$ DV (t+1) = DV (t) + \\mathcal{N}(r, \\sigma) $<center>\n",
    "Where, <center>DV – Stimulus dependent decision variable  \n",
    "       t – Time  \n",
    "       r – Drift factor  \n",
    "       $\\sigma$ – Drift variability<center>\n",
    "    \n",
    "<br><br>\n",
    "<br><br>\n",
    "\n"
   ]
  },
  {
   "cell_type": "code",
   "execution_count": 13,
   "id": "f7904759-383e-41fa-b0b7-37fb362ef09e",
   "metadata": {},
   "outputs": [],
   "source": [
    "def get_unsigned_coherence_matrix(normalized_signed_stimulus, num_choices = 2):\n",
    "    '''\n",
    "    Most of the decision-making studies use 2AFC task where usually choices are signed as positive for one choice and negative for another choice.\n",
    "    Through this function we seperate this nomenclature by oupting two unsigned inputs rather than one signed input.\n",
    "    \n",
    "    Args: \n",
    "        normalized_signed_stimulus: signed stimulus difficulty e.g., coherence with num_trials x stop_time dimensions\n",
    "    \n",
    "    return:\n",
    "        normalized_unsigned_stimulus: For 2-AFC task, returns stimulus matrix with dimensions num_trials x num_choices x stop_time\n",
    "    '''\n",
    "    \n",
    "    # Input validation\n",
    "    if not isinstance(normalized_signed_stimulus, numpy.ndarray):\n",
    "        raise TypeError('Input must be a 1D or 2D numpy array with num_trials x stop_time dimensions')\n",
    "        \n",
    "    if normalized_signed_stimulus.ndim > 2:\n",
    "        raise TypeError('Input must be a 1D or 2D numpy array with num_trials x stop_time dimensions')\n",
    "                \n",
    "    if normalized_signed_stimulus.ndim == 1:\n",
    "        if len(normalized_signed_stimulus)<2:\n",
    "            raise TypeError('Input must be a 1D or 2D numpy array with num_trials x stop_time dimensions with minumum 2 time points')\n",
    "        else:\n",
    "            normalized_unsigned_stimulus = np.zeros((num_choices, normalized_signed_stimulus.shape[0]), dtype=float32)\n",
    "            normalized_unsigned_stimulus[0,:] = normalized_signed_stimulus * (normalized_signed_stimulus>0)   # If stimulus was positive keep it same for first cell else zero\n",
    "            normalized_unsigned_stimulus[1,:] = -normalized_signed_stimulus * (normalized_signed_stimulus<0)   # If stimulus was negative take it's negative for second cell else zero\n",
    "    \n",
    "    if normalized_signed_stimulus.ndim == 2:\n",
    "        normalized_unsigned_stimulus = np.zeros((normalized_signed_stimulus.shape[0], num_choices, normalized_signed_stimulus.shape[1]), dtype=float32)\n",
    "        normalized_unsigned_stimulus[:,0,:] = normalized_signed_stimulus * (normalized_signed_stimulus>0)   # If stimulus was positive keep it same for first cell else zero\n",
    "        normalized_unsigned_stimulus[:,1,:] = -normalized_signed_stimulus * (normalized_signed_stimulus<0)   # If stimulus was negative take it's negative for second cell else zero\n",
    " \n",
    "\n",
    "    return normalized_unsigned_stimulus\n",
    "\n",
    "\n",
    "@cuda.jit\n",
    "def ReLU_cuda(input):\n",
    "    return input * (input > 0)\n",
    "\n",
    "# @jit\n",
    "def get_time_dependent_bound(initial_bound, rate, delay, stop_time=10000):\n",
    "    '''\n",
    "    Generates time-dependent bound such as collapsing bound array\n",
    "    args:\n",
    "        initial_bound: Initial height of bounds\n",
    "        rate: Rate of exponential decay. Negative means decreasing bound and +ve means increasings bounds\n",
    "        delay: What point should decay start\n",
    "        stop_time: To determine length of array\n",
    "        \n",
    "    returns:\n",
    "        time_dependent_bound: 1D array with either exponential decay or rise\n",
    "    '''\n",
    "    \n",
    "    time_dependent_bound = cp.ones(stop_time)*initial_bound\n",
    "    \n",
    "    return time_dependent_bound\n",
    "    \n",
    "# @jit\n",
    "def get_time_dependent_variability(initial_variability, time_coefficient=0, stop_time=10000):\n",
    "    '''\n",
    "    Generates linear time-dependent sigma either increasing, decreasing or constant\n",
    "    args:\n",
    "        initial_variability: Initial value of diffusion variability (sigma)\n",
    "        time_coefficient: Rate of linear time-dependency. Negative means decreasing bound and +ve means increasings diffusion variability. Default value 0 i.e., constant variability\n",
    "        stop_time: To determine length of array (Default value 10000 or 10 seconds)\n",
    "        \n",
    "    returns:\n",
    "        time_dependent_variability: 1D array with either constant or linearly time-dependent diffusion variability\n",
    "    '''\n",
    "    \n",
    "    time_dependent_variability = (cp.ones(stop_time)*initial_variability) + (time_coefficient*cp.arange(stop_time))\n",
    "    \n",
    "    return time_dependent_variability\n"
   ]
  },
  {
   "cell_type": "markdown",
   "id": "e2e2ced9-4a97-4997-ba9c-9ea15fb0c26f",
   "metadata": {},
   "source": [
    "##### `Stimulus input and model parameters`"
   ]
  },
  {
   "cell_type": "code",
   "execution_count": 15,
   "id": "769f1351-f185-48b0-89a8-6513a5f1194a",
   "metadata": {},
   "outputs": [],
   "source": [
    "# cp.random.seed()\n",
    "\n",
    "# For Dynamic Coherence\n",
    "@cuda.jit\n",
    "def DDM_kernel_for_delay(stimulus, starting_point, drift_gain, drift_variability, drift_offset, decision_bound, nondecision_time, decision, reaction_time, rng_states): \n",
    "    tr = cuda.grid(1)\n",
    "    tr_in_bounds = (tr >= 0) and (tr <= (stimulus.shape[0] - 1))   \n",
    "    if tr_in_bounds:\n",
    "        decision_variable = starting_point                \n",
    "        for t in range(stimulus.shape[2]):\n",
    "            diffusion_step = ((stimulus[tr,0,t]-stimulus[tr,1,t]) * drift_gain)+ (random.xoroshiro128p_normal_float32(rng_states, tr)*drift_variability[t])   \n",
    "            decision_variable += diffusion_step + drift_offset      # update decision variable\n",
    "            if decision_variable > decision_bound[t] or decision_variable < -decision_bound[t]:       # checking if decision bound is reached\n",
    "                decision[tr] =  2*(decision_variable>0) - 1    # np.sign(dv) alternative\n",
    "                reaction_time[tr] = t+nondecision_time\n",
    "                break  \n",
    "                \n",
    "#for vectors arranged column-wise\n",
    "@cuda.jit\n",
    "def vec_sum_cuda(vec, output):\n",
    "    output = 0\n",
    "    for i in range(vec.size):\n",
    "        output += vec[i]\n",
    "        \n",
    "@cuda.jit\n",
    "def vec_multiplication_cuda(vector, scaler, output):\n",
    "    ouput = 0\n",
    "    for i in range(len(vector)):\n",
    "        output[i] = vector[i]*scaler\n",
    "    \n",
    "# @vectorize(['int64(int64, int64)'], target='cuda')\n",
    "# def vec_sum_ufunc(vector):\n",
    "#     vec_sum = 0\n",
    "#     vec_sum = [vec_sum + value for value in vector]\n",
    "#     return x + y\n",
    "      \n",
    "# For Dynamic Coherence\n",
    "@cuda.jit\n",
    "def LCA_kernel_for_delay(stimulus, starting_point, drift_gain, drift_variability, drift_offset, decision_bound, nondecision_time, lateral_inhibition, leak, neural_ddm, decision, reaction_time, rng_states): \n",
    "    tr = cuda.grid(1)\n",
    "    tr_in_bounds = (tr >= 0) and (tr <= (coherence.shape[0] - 1))  \n",
    "         \n",
    "    \n",
    "    decision_variable = cuda.local.array(num_choices, dtype=numba.float32)\n",
    "    drift_rate = cuda.local.array(num_choices, dtype=numba.float32)\n",
    "\n",
    "    sum_decision_variable = numba.float32(0.0)\n",
    "    decision_variable = starting_point\n",
    "    \n",
    "    if tr_in_bounds: \n",
    "        decision_variable = starting_point\n",
    "        sum_decision_variable = math.fsum([1,2])\n",
    "        vec_sum_cuda(decision_variable, sum_decision_variable)\n",
    "        \n",
    "            \n",
    "#         for t in range(stimulus.shape[2]):\n",
    "#             vec_multiplication_cuda(stimulus[tr,:,t], drift_gain, drift_rate)\n",
    "#             for accumulator in range(stimulus.shape[1]):   \n",
    "                \n",
    "#                 diffusion_step = drift_rate[accumulator] + drift_offset[accumulator]  #+ (random.xoroshiro128p_normal_float32(rng_states, tr)*drift_variability)   \n",
    "#                 lateral_inhibition_step = lateral_inhibition * (sum_decision_variable - decision_variable[accumulator])                \n",
    "#                 leak_step = leak * decision_variable[accumulator]\n",
    "                \n",
    "#                 decision_variable[accumulator] = ReLU_cuda(decision_variable[accumulator] + diffusion_step - leak_step - (neural_ddm-1)*lateral_inhibition_step - \n",
    "#                                                            neural_ddm*(cp.sum(drift_rate + drift_offset) - drift_rate[accumulator] - drift_offset[accumulator]))      # update decision variable\n",
    "\n",
    "#             if (decision_variable > decision_bound[t]).any():\n",
    "#                 decision[tr] =  decision_variable.argmax(0)\n",
    "#                 reaction_time[tr] = t + nondecision_time\n",
    "#                 break\n",
    "                \n",
    "                \n",
    "\n"
   ]
  },
  {
   "cell_type": "code",
   "execution_count": 22,
   "id": "c178682d-1562-404a-8677-15a4b8e4c4d8",
   "metadata": {},
   "outputs": [
    {
     "ename": "TypingError",
     "evalue": "Failed in cuda mode pipeline (step: nopython frontend)\n\u001b[1m\u001b[1m\u001b[1mNo implementation of function Function(<class 'enumerate'>) found for signature:\n \n >>> enumerate(float32)\n \nThere are 2 candidate implementations:\n\u001b[1m    - Of which 2 did not match due to:\n    Overload of function 'enumerate': File: numba\\core\\typing\\builtins.py: Line 1017.\n      With argument(s): '(float32)':\u001b[0m\n\u001b[1m     No match.\u001b[0m\n\u001b[0m\n\u001b[0m\u001b[1mDuring: resolving callee type: Function(<class 'enumerate'>)\u001b[0m\n\u001b[0m\u001b[1mDuring: typing of call at <ipython-input-23-264c9bc9704c> (3)\n\u001b[0m\n\u001b[1m\nFile \"<ipython-input-23-264c9bc9704c>\", line 3:\u001b[0m\n\u001b[1mdef vec_multiply_ufunc(vector, scaler):\n\u001b[1m    for i, num in enumerate(vector):\n\u001b[0m    \u001b[1m^\u001b[0m\u001b[0m\n",
     "output_type": "error",
     "traceback": [
      "\u001b[1;31m---------------------------------------------------------------------------\u001b[0m",
      "\u001b[1;31mTypingError\u001b[0m                               Traceback (most recent call last)",
      "\u001b[1;32m<ipython-input-23-264c9bc9704c>\u001b[0m in \u001b[0;36m<module>\u001b[1;34m\u001b[0m\n\u001b[0;32m      1\u001b[0m \u001b[1;33m@\u001b[0m\u001b[0mvectorize\u001b[0m\u001b[1;33m(\u001b[0m\u001b[1;33m[\u001b[0m\u001b[1;34m'(float32, float32)'\u001b[0m\u001b[1;33m]\u001b[0m\u001b[1;33m,\u001b[0m \u001b[0mtarget\u001b[0m\u001b[1;33m=\u001b[0m\u001b[1;34m'cuda'\u001b[0m\u001b[1;33m)\u001b[0m\u001b[1;33m\u001b[0m\u001b[1;33m\u001b[0m\u001b[0m\n\u001b[1;32m----> 2\u001b[1;33m \u001b[1;32mdef\u001b[0m \u001b[0mvec_multiply_ufunc\u001b[0m\u001b[1;33m(\u001b[0m\u001b[0mvector\u001b[0m\u001b[1;33m,\u001b[0m \u001b[0mscaler\u001b[0m\u001b[1;33m)\u001b[0m\u001b[1;33m:\u001b[0m\u001b[1;33m\u001b[0m\u001b[1;33m\u001b[0m\u001b[0m\n\u001b[0m\u001b[0;32m      3\u001b[0m     \u001b[1;32mfor\u001b[0m \u001b[0mi\u001b[0m\u001b[1;33m,\u001b[0m \u001b[0mnum\u001b[0m \u001b[1;32min\u001b[0m \u001b[0menumerate\u001b[0m\u001b[1;33m(\u001b[0m\u001b[0mvector\u001b[0m\u001b[1;33m)\u001b[0m\u001b[1;33m:\u001b[0m\u001b[1;33m\u001b[0m\u001b[1;33m\u001b[0m\u001b[0m\n\u001b[0;32m      4\u001b[0m         \u001b[0mvector\u001b[0m\u001b[1;33m[\u001b[0m\u001b[0mi\u001b[0m\u001b[1;33m]\u001b[0m \u001b[1;33m=\u001b[0m \u001b[0mvector\u001b[0m\u001b[1;33m[\u001b[0m\u001b[0mi\u001b[0m\u001b[1;33m]\u001b[0m\u001b[1;33m*\u001b[0m\u001b[0mscaler\u001b[0m\u001b[1;33m\u001b[0m\u001b[1;33m\u001b[0m\u001b[0m\n\u001b[0;32m      5\u001b[0m \u001b[1;31m#     return [num * scaler for num in vector]\u001b[0m\u001b[1;33m\u001b[0m\u001b[1;33m\u001b[0m\u001b[1;33m\u001b[0m\u001b[0m\n",
      "\u001b[1;32m~\\anaconda3\\envs\\Decision-Models\\lib\\site-packages\\numba\\np\\ufunc\\decorators.py\u001b[0m in \u001b[0;36mwrap\u001b[1;34m(func)\u001b[0m\n\u001b[0;32m    123\u001b[0m         \u001b[0mvec\u001b[0m \u001b[1;33m=\u001b[0m \u001b[0mVectorize\u001b[0m\u001b[1;33m(\u001b[0m\u001b[0mfunc\u001b[0m\u001b[1;33m,\u001b[0m \u001b[1;33m**\u001b[0m\u001b[0mkws\u001b[0m\u001b[1;33m)\u001b[0m\u001b[1;33m\u001b[0m\u001b[1;33m\u001b[0m\u001b[0m\n\u001b[0;32m    124\u001b[0m         \u001b[1;32mfor\u001b[0m \u001b[0msig\u001b[0m \u001b[1;32min\u001b[0m \u001b[0mftylist\u001b[0m\u001b[1;33m:\u001b[0m\u001b[1;33m\u001b[0m\u001b[1;33m\u001b[0m\u001b[0m\n\u001b[1;32m--> 125\u001b[1;33m             \u001b[0mvec\u001b[0m\u001b[1;33m.\u001b[0m\u001b[0madd\u001b[0m\u001b[1;33m(\u001b[0m\u001b[0msig\u001b[0m\u001b[1;33m)\u001b[0m\u001b[1;33m\u001b[0m\u001b[1;33m\u001b[0m\u001b[0m\n\u001b[0m\u001b[0;32m    126\u001b[0m         \u001b[1;32mif\u001b[0m \u001b[0mlen\u001b[0m\u001b[1;33m(\u001b[0m\u001b[0mftylist\u001b[0m\u001b[1;33m)\u001b[0m \u001b[1;33m>\u001b[0m \u001b[1;36m0\u001b[0m\u001b[1;33m:\u001b[0m\u001b[1;33m\u001b[0m\u001b[1;33m\u001b[0m\u001b[0m\n\u001b[0;32m    127\u001b[0m             \u001b[0mvec\u001b[0m\u001b[1;33m.\u001b[0m\u001b[0mdisable_compile\u001b[0m\u001b[1;33m(\u001b[0m\u001b[1;33m)\u001b[0m\u001b[1;33m\u001b[0m\u001b[1;33m\u001b[0m\u001b[0m\n",
      "\u001b[1;32m~\\anaconda3\\envs\\Decision-Models\\lib\\site-packages\\numba\\np\\ufunc\\deviceufunc.py\u001b[0m in \u001b[0;36madd\u001b[1;34m(***failed resolving arguments***)\u001b[0m\n\u001b[0;32m    395\u001b[0m         kernelsource = self._get_kernel_source(self._kernel_template,\n\u001b[0;32m    396\u001b[0m                                                devfnsig, funcname)\n\u001b[1;32m--> 397\u001b[1;33m         \u001b[0mcorefn\u001b[0m\u001b[1;33m,\u001b[0m \u001b[0mreturn_type\u001b[0m \u001b[1;33m=\u001b[0m \u001b[0mself\u001b[0m\u001b[1;33m.\u001b[0m\u001b[0m_compile_core\u001b[0m\u001b[1;33m(\u001b[0m\u001b[0mdevfnsig\u001b[0m\u001b[1;33m)\u001b[0m\u001b[1;33m\u001b[0m\u001b[1;33m\u001b[0m\u001b[0m\n\u001b[0m\u001b[0;32m    398\u001b[0m         \u001b[0mglbl\u001b[0m \u001b[1;33m=\u001b[0m \u001b[0mself\u001b[0m\u001b[1;33m.\u001b[0m\u001b[0m_get_globals\u001b[0m\u001b[1;33m(\u001b[0m\u001b[0mcorefn\u001b[0m\u001b[1;33m)\u001b[0m\u001b[1;33m\u001b[0m\u001b[1;33m\u001b[0m\u001b[0m\n\u001b[0;32m    399\u001b[0m         \u001b[0msig\u001b[0m \u001b[1;33m=\u001b[0m \u001b[0msignature\u001b[0m\u001b[1;33m(\u001b[0m\u001b[0mtypes\u001b[0m\u001b[1;33m.\u001b[0m\u001b[0mvoid\u001b[0m\u001b[1;33m,\u001b[0m \u001b[1;33m*\u001b[0m\u001b[1;33m(\u001b[0m\u001b[1;33m[\u001b[0m\u001b[0ma\u001b[0m\u001b[1;33m[\u001b[0m\u001b[1;33m:\u001b[0m\u001b[1;33m]\u001b[0m \u001b[1;32mfor\u001b[0m \u001b[0ma\u001b[0m \u001b[1;32min\u001b[0m \u001b[0margs\u001b[0m\u001b[1;33m]\u001b[0m \u001b[1;33m+\u001b[0m \u001b[1;33m[\u001b[0m\u001b[0mreturn_type\u001b[0m\u001b[1;33m[\u001b[0m\u001b[1;33m:\u001b[0m\u001b[1;33m]\u001b[0m\u001b[1;33m]\u001b[0m\u001b[1;33m)\u001b[0m\u001b[1;33m)\u001b[0m\u001b[1;33m\u001b[0m\u001b[1;33m\u001b[0m\u001b[0m\n",
      "\u001b[1;32m~\\anaconda3\\envs\\Decision-Models\\lib\\site-packages\\numba\\cuda\\vectorizers.py\u001b[0m in \u001b[0;36m_compile_core\u001b[1;34m(self, sig)\u001b[0m\n\u001b[0;32m     13\u001b[0m \u001b[1;32mclass\u001b[0m \u001b[0mCUDAVectorize\u001b[0m\u001b[1;33m(\u001b[0m\u001b[0mdeviceufunc\u001b[0m\u001b[1;33m.\u001b[0m\u001b[0mDeviceVectorize\u001b[0m\u001b[1;33m)\u001b[0m\u001b[1;33m:\u001b[0m\u001b[1;33m\u001b[0m\u001b[1;33m\u001b[0m\u001b[0m\n\u001b[0;32m     14\u001b[0m     \u001b[1;32mdef\u001b[0m \u001b[0m_compile_core\u001b[0m\u001b[1;33m(\u001b[0m\u001b[0mself\u001b[0m\u001b[1;33m,\u001b[0m \u001b[0msig\u001b[0m\u001b[1;33m)\u001b[0m\u001b[1;33m:\u001b[0m\u001b[1;33m\u001b[0m\u001b[1;33m\u001b[0m\u001b[0m\n\u001b[1;32m---> 15\u001b[1;33m         \u001b[0mcudevfn\u001b[0m \u001b[1;33m=\u001b[0m \u001b[0mcuda\u001b[0m\u001b[1;33m.\u001b[0m\u001b[0mjit\u001b[0m\u001b[1;33m(\u001b[0m\u001b[0msig\u001b[0m\u001b[1;33m,\u001b[0m \u001b[0mdevice\u001b[0m\u001b[1;33m=\u001b[0m\u001b[1;32mTrue\u001b[0m\u001b[1;33m,\u001b[0m \u001b[0minline\u001b[0m\u001b[1;33m=\u001b[0m\u001b[1;32mTrue\u001b[0m\u001b[1;33m)\u001b[0m\u001b[1;33m(\u001b[0m\u001b[0mself\u001b[0m\u001b[1;33m.\u001b[0m\u001b[0mpyfunc\u001b[0m\u001b[1;33m)\u001b[0m\u001b[1;33m\u001b[0m\u001b[1;33m\u001b[0m\u001b[0m\n\u001b[0m\u001b[0;32m     16\u001b[0m         \u001b[1;32mreturn\u001b[0m \u001b[0mcudevfn\u001b[0m\u001b[1;33m,\u001b[0m \u001b[0mcudevfn\u001b[0m\u001b[1;33m.\u001b[0m\u001b[0moverloads\u001b[0m\u001b[1;33m[\u001b[0m\u001b[0msig\u001b[0m\u001b[1;33m.\u001b[0m\u001b[0margs\u001b[0m\u001b[1;33m]\u001b[0m\u001b[1;33m.\u001b[0m\u001b[0msignature\u001b[0m\u001b[1;33m.\u001b[0m\u001b[0mreturn_type\u001b[0m\u001b[1;33m\u001b[0m\u001b[1;33m\u001b[0m\u001b[0m\n\u001b[0;32m     17\u001b[0m \u001b[1;33m\u001b[0m\u001b[0m\n",
      "\u001b[1;32m~\\anaconda3\\envs\\Decision-Models\\lib\\site-packages\\numba\\cuda\\decorators.py\u001b[0m in \u001b[0;36m_jit\u001b[1;34m(func)\u001b[0m\n\u001b[0;32m     97\u001b[0m             \u001b[0mtargetoptions\u001b[0m\u001b[1;33m[\u001b[0m\u001b[1;34m'fastmath'\u001b[0m\u001b[1;33m]\u001b[0m \u001b[1;33m=\u001b[0m \u001b[0mfastmath\u001b[0m\u001b[1;33m\u001b[0m\u001b[1;33m\u001b[0m\u001b[0m\n\u001b[0;32m     98\u001b[0m             \u001b[0mtargetoptions\u001b[0m\u001b[1;33m[\u001b[0m\u001b[1;34m'device'\u001b[0m\u001b[1;33m]\u001b[0m \u001b[1;33m=\u001b[0m \u001b[0mdevice\u001b[0m\u001b[1;33m\u001b[0m\u001b[1;33m\u001b[0m\u001b[0m\n\u001b[1;32m---> 99\u001b[1;33m             \u001b[1;32mreturn\u001b[0m \u001b[0mDispatcher\u001b[0m\u001b[1;33m(\u001b[0m\u001b[0mfunc\u001b[0m\u001b[1;33m,\u001b[0m \u001b[1;33m[\u001b[0m\u001b[0mfunc_or_sig\u001b[0m\u001b[1;33m]\u001b[0m\u001b[1;33m,\u001b[0m \u001b[0mtargetoptions\u001b[0m\u001b[1;33m=\u001b[0m\u001b[0mtargetoptions\u001b[0m\u001b[1;33m)\u001b[0m\u001b[1;33m\u001b[0m\u001b[1;33m\u001b[0m\u001b[0m\n\u001b[0m\u001b[0;32m    100\u001b[0m \u001b[1;33m\u001b[0m\u001b[0m\n\u001b[0;32m    101\u001b[0m         \u001b[1;32mreturn\u001b[0m \u001b[0m_jit\u001b[0m\u001b[1;33m\u001b[0m\u001b[1;33m\u001b[0m\u001b[0m\n",
      "\u001b[1;32m~\\anaconda3\\envs\\Decision-Models\\lib\\site-packages\\numba\\cuda\\compiler.py\u001b[0m in \u001b[0;36m__init__\u001b[1;34m(self, py_func, sigs, targetoptions)\u001b[0m\n\u001b[0;32m    803\u001b[0m             \u001b[1;32mif\u001b[0m \u001b[0mtargetoptions\u001b[0m\u001b[1;33m.\u001b[0m\u001b[0mget\u001b[0m\u001b[1;33m(\u001b[0m\u001b[1;34m'device'\u001b[0m\u001b[1;33m)\u001b[0m\u001b[1;33m:\u001b[0m\u001b[1;33m\u001b[0m\u001b[1;33m\u001b[0m\u001b[0m\n\u001b[0;32m    804\u001b[0m                 \u001b[0margtypes\u001b[0m\u001b[1;33m,\u001b[0m \u001b[0mrestype\u001b[0m \u001b[1;33m=\u001b[0m \u001b[0msigutils\u001b[0m\u001b[1;33m.\u001b[0m\u001b[0mnormalize_signature\u001b[0m\u001b[1;33m(\u001b[0m\u001b[0msigs\u001b[0m\u001b[1;33m[\u001b[0m\u001b[1;36m0\u001b[0m\u001b[1;33m]\u001b[0m\u001b[1;33m)\u001b[0m\u001b[1;33m\u001b[0m\u001b[1;33m\u001b[0m\u001b[0m\n\u001b[1;32m--> 805\u001b[1;33m                 \u001b[0mself\u001b[0m\u001b[1;33m.\u001b[0m\u001b[0mcompile_device\u001b[0m\u001b[1;33m(\u001b[0m\u001b[0margtypes\u001b[0m\u001b[1;33m)\u001b[0m\u001b[1;33m\u001b[0m\u001b[1;33m\u001b[0m\u001b[0m\n\u001b[0m\u001b[0;32m    806\u001b[0m             \u001b[1;32melse\u001b[0m\u001b[1;33m:\u001b[0m\u001b[1;33m\u001b[0m\u001b[1;33m\u001b[0m\u001b[0m\n\u001b[0;32m    807\u001b[0m                 \u001b[0mself\u001b[0m\u001b[1;33m.\u001b[0m\u001b[0mcompile\u001b[0m\u001b[1;33m(\u001b[0m\u001b[0msigs\u001b[0m\u001b[1;33m[\u001b[0m\u001b[1;36m0\u001b[0m\u001b[1;33m]\u001b[0m\u001b[1;33m)\u001b[0m\u001b[1;33m\u001b[0m\u001b[1;33m\u001b[0m\u001b[0m\n",
      "\u001b[1;32m~\\anaconda3\\envs\\Decision-Models\\lib\\site-packages\\numba\\cuda\\compiler.py\u001b[0m in \u001b[0;36mcompile_device\u001b[1;34m(self, args)\u001b[0m\n\u001b[0;32m   1057\u001b[0m             }\n\u001b[0;32m   1058\u001b[0m \u001b[1;33m\u001b[0m\u001b[0m\n\u001b[1;32m-> 1059\u001b[1;33m             cres = compile_cuda(self.py_func, None, args, debug=debug,\n\u001b[0m\u001b[0;32m   1060\u001b[0m                                 inline=inline, nvvm_options=nvvm_options)\n\u001b[0;32m   1061\u001b[0m             \u001b[0mself\u001b[0m\u001b[1;33m.\u001b[0m\u001b[0moverloads\u001b[0m\u001b[1;33m[\u001b[0m\u001b[0margs\u001b[0m\u001b[1;33m]\u001b[0m \u001b[1;33m=\u001b[0m \u001b[0mcres\u001b[0m\u001b[1;33m\u001b[0m\u001b[1;33m\u001b[0m\u001b[0m\n",
      "\u001b[1;32m~\\anaconda3\\envs\\Decision-Models\\lib\\site-packages\\numba\\core\\compiler_lock.py\u001b[0m in \u001b[0;36m_acquire_compile_lock\u001b[1;34m(*args, **kwargs)\u001b[0m\n\u001b[0;32m     33\u001b[0m         \u001b[1;32mdef\u001b[0m \u001b[0m_acquire_compile_lock\u001b[0m\u001b[1;33m(\u001b[0m\u001b[1;33m*\u001b[0m\u001b[0margs\u001b[0m\u001b[1;33m,\u001b[0m \u001b[1;33m**\u001b[0m\u001b[0mkwargs\u001b[0m\u001b[1;33m)\u001b[0m\u001b[1;33m:\u001b[0m\u001b[1;33m\u001b[0m\u001b[1;33m\u001b[0m\u001b[0m\n\u001b[0;32m     34\u001b[0m             \u001b[1;32mwith\u001b[0m \u001b[0mself\u001b[0m\u001b[1;33m:\u001b[0m\u001b[1;33m\u001b[0m\u001b[1;33m\u001b[0m\u001b[0m\n\u001b[1;32m---> 35\u001b[1;33m                 \u001b[1;32mreturn\u001b[0m \u001b[0mfunc\u001b[0m\u001b[1;33m(\u001b[0m\u001b[1;33m*\u001b[0m\u001b[0margs\u001b[0m\u001b[1;33m,\u001b[0m \u001b[1;33m**\u001b[0m\u001b[0mkwargs\u001b[0m\u001b[1;33m)\u001b[0m\u001b[1;33m\u001b[0m\u001b[1;33m\u001b[0m\u001b[0m\n\u001b[0m\u001b[0;32m     36\u001b[0m         \u001b[1;32mreturn\u001b[0m \u001b[0m_acquire_compile_lock\u001b[0m\u001b[1;33m\u001b[0m\u001b[1;33m\u001b[0m\u001b[0m\n\u001b[0;32m     37\u001b[0m \u001b[1;33m\u001b[0m\u001b[0m\n",
      "\u001b[1;32m~\\anaconda3\\envs\\Decision-Models\\lib\\site-packages\\numba\\cuda\\compiler.py\u001b[0m in \u001b[0;36mcompile_cuda\u001b[1;34m(pyfunc, return_type, args, debug, lineinfo, inline, fastmath, nvvm_options)\u001b[0m\n\u001b[0;32m    200\u001b[0m \u001b[1;33m\u001b[0m\u001b[0m\n\u001b[0;32m    201\u001b[0m     \u001b[1;31m# Run compilation pipeline\u001b[0m\u001b[1;33m\u001b[0m\u001b[1;33m\u001b[0m\u001b[1;33m\u001b[0m\u001b[0m\n\u001b[1;32m--> 202\u001b[1;33m     cres = compiler.compile_extra(typingctx=typingctx,\n\u001b[0m\u001b[0;32m    203\u001b[0m                                   \u001b[0mtargetctx\u001b[0m\u001b[1;33m=\u001b[0m\u001b[0mtargetctx\u001b[0m\u001b[1;33m,\u001b[0m\u001b[1;33m\u001b[0m\u001b[1;33m\u001b[0m\u001b[0m\n\u001b[0;32m    204\u001b[0m                                   \u001b[0mfunc\u001b[0m\u001b[1;33m=\u001b[0m\u001b[0mpyfunc\u001b[0m\u001b[1;33m,\u001b[0m\u001b[1;33m\u001b[0m\u001b[1;33m\u001b[0m\u001b[0m\n",
      "\u001b[1;32m~\\anaconda3\\envs\\Decision-Models\\lib\\site-packages\\numba\\core\\compiler.py\u001b[0m in \u001b[0;36mcompile_extra\u001b[1;34m(typingctx, targetctx, func, args, return_type, flags, locals, library, pipeline_class)\u001b[0m\n\u001b[0;32m    691\u001b[0m     pipeline = pipeline_class(typingctx, targetctx, library,\n\u001b[0;32m    692\u001b[0m                               args, return_type, flags, locals)\n\u001b[1;32m--> 693\u001b[1;33m     \u001b[1;32mreturn\u001b[0m \u001b[0mpipeline\u001b[0m\u001b[1;33m.\u001b[0m\u001b[0mcompile_extra\u001b[0m\u001b[1;33m(\u001b[0m\u001b[0mfunc\u001b[0m\u001b[1;33m)\u001b[0m\u001b[1;33m\u001b[0m\u001b[1;33m\u001b[0m\u001b[0m\n\u001b[0m\u001b[0;32m    694\u001b[0m \u001b[1;33m\u001b[0m\u001b[0m\n\u001b[0;32m    695\u001b[0m \u001b[1;33m\u001b[0m\u001b[0m\n",
      "\u001b[1;32m~\\anaconda3\\envs\\Decision-Models\\lib\\site-packages\\numba\\core\\compiler.py\u001b[0m in \u001b[0;36mcompile_extra\u001b[1;34m(self, func)\u001b[0m\n\u001b[0;32m    427\u001b[0m         \u001b[0mself\u001b[0m\u001b[1;33m.\u001b[0m\u001b[0mstate\u001b[0m\u001b[1;33m.\u001b[0m\u001b[0mlifted\u001b[0m \u001b[1;33m=\u001b[0m \u001b[1;33m(\u001b[0m\u001b[1;33m)\u001b[0m\u001b[1;33m\u001b[0m\u001b[1;33m\u001b[0m\u001b[0m\n\u001b[0;32m    428\u001b[0m         \u001b[0mself\u001b[0m\u001b[1;33m.\u001b[0m\u001b[0mstate\u001b[0m\u001b[1;33m.\u001b[0m\u001b[0mlifted_from\u001b[0m \u001b[1;33m=\u001b[0m \u001b[1;32mNone\u001b[0m\u001b[1;33m\u001b[0m\u001b[1;33m\u001b[0m\u001b[0m\n\u001b[1;32m--> 429\u001b[1;33m         \u001b[1;32mreturn\u001b[0m \u001b[0mself\u001b[0m\u001b[1;33m.\u001b[0m\u001b[0m_compile_bytecode\u001b[0m\u001b[1;33m(\u001b[0m\u001b[1;33m)\u001b[0m\u001b[1;33m\u001b[0m\u001b[1;33m\u001b[0m\u001b[0m\n\u001b[0m\u001b[0;32m    430\u001b[0m \u001b[1;33m\u001b[0m\u001b[0m\n\u001b[0;32m    431\u001b[0m     \u001b[1;32mdef\u001b[0m \u001b[0mcompile_ir\u001b[0m\u001b[1;33m(\u001b[0m\u001b[0mself\u001b[0m\u001b[1;33m,\u001b[0m \u001b[0mfunc_ir\u001b[0m\u001b[1;33m,\u001b[0m \u001b[0mlifted\u001b[0m\u001b[1;33m=\u001b[0m\u001b[1;33m(\u001b[0m\u001b[1;33m)\u001b[0m\u001b[1;33m,\u001b[0m \u001b[0mlifted_from\u001b[0m\u001b[1;33m=\u001b[0m\u001b[1;32mNone\u001b[0m\u001b[1;33m)\u001b[0m\u001b[1;33m:\u001b[0m\u001b[1;33m\u001b[0m\u001b[1;33m\u001b[0m\u001b[0m\n",
      "\u001b[1;32m~\\anaconda3\\envs\\Decision-Models\\lib\\site-packages\\numba\\core\\compiler.py\u001b[0m in \u001b[0;36m_compile_bytecode\u001b[1;34m(self)\u001b[0m\n\u001b[0;32m    495\u001b[0m         \"\"\"\n\u001b[0;32m    496\u001b[0m         \u001b[1;32massert\u001b[0m \u001b[0mself\u001b[0m\u001b[1;33m.\u001b[0m\u001b[0mstate\u001b[0m\u001b[1;33m.\u001b[0m\u001b[0mfunc_ir\u001b[0m \u001b[1;32mis\u001b[0m \u001b[1;32mNone\u001b[0m\u001b[1;33m\u001b[0m\u001b[1;33m\u001b[0m\u001b[0m\n\u001b[1;32m--> 497\u001b[1;33m         \u001b[1;32mreturn\u001b[0m \u001b[0mself\u001b[0m\u001b[1;33m.\u001b[0m\u001b[0m_compile_core\u001b[0m\u001b[1;33m(\u001b[0m\u001b[1;33m)\u001b[0m\u001b[1;33m\u001b[0m\u001b[1;33m\u001b[0m\u001b[0m\n\u001b[0m\u001b[0;32m    498\u001b[0m \u001b[1;33m\u001b[0m\u001b[0m\n\u001b[0;32m    499\u001b[0m     \u001b[1;32mdef\u001b[0m \u001b[0m_compile_ir\u001b[0m\u001b[1;33m(\u001b[0m\u001b[0mself\u001b[0m\u001b[1;33m)\u001b[0m\u001b[1;33m:\u001b[0m\u001b[1;33m\u001b[0m\u001b[1;33m\u001b[0m\u001b[0m\n",
      "\u001b[1;32m~\\anaconda3\\envs\\Decision-Models\\lib\\site-packages\\numba\\core\\compiler.py\u001b[0m in \u001b[0;36m_compile_core\u001b[1;34m(self)\u001b[0m\n\u001b[0;32m    474\u001b[0m                     \u001b[0mself\u001b[0m\u001b[1;33m.\u001b[0m\u001b[0mstate\u001b[0m\u001b[1;33m.\u001b[0m\u001b[0mstatus\u001b[0m\u001b[1;33m.\u001b[0m\u001b[0mfail_reason\u001b[0m \u001b[1;33m=\u001b[0m \u001b[0me\u001b[0m\u001b[1;33m\u001b[0m\u001b[1;33m\u001b[0m\u001b[0m\n\u001b[0;32m    475\u001b[0m                     \u001b[1;32mif\u001b[0m \u001b[0mis_final_pipeline\u001b[0m\u001b[1;33m:\u001b[0m\u001b[1;33m\u001b[0m\u001b[1;33m\u001b[0m\u001b[0m\n\u001b[1;32m--> 476\u001b[1;33m                         \u001b[1;32mraise\u001b[0m \u001b[0me\u001b[0m\u001b[1;33m\u001b[0m\u001b[1;33m\u001b[0m\u001b[0m\n\u001b[0m\u001b[0;32m    477\u001b[0m             \u001b[1;32melse\u001b[0m\u001b[1;33m:\u001b[0m\u001b[1;33m\u001b[0m\u001b[1;33m\u001b[0m\u001b[0m\n\u001b[0;32m    478\u001b[0m                 \u001b[1;32mraise\u001b[0m \u001b[0mCompilerError\u001b[0m\u001b[1;33m(\u001b[0m\u001b[1;34m\"All available pipelines exhausted\"\u001b[0m\u001b[1;33m)\u001b[0m\u001b[1;33m\u001b[0m\u001b[1;33m\u001b[0m\u001b[0m\n",
      "\u001b[1;32m~\\anaconda3\\envs\\Decision-Models\\lib\\site-packages\\numba\\core\\compiler.py\u001b[0m in \u001b[0;36m_compile_core\u001b[1;34m(self)\u001b[0m\n\u001b[0;32m    461\u001b[0m                 \u001b[0mres\u001b[0m \u001b[1;33m=\u001b[0m \u001b[1;32mNone\u001b[0m\u001b[1;33m\u001b[0m\u001b[1;33m\u001b[0m\u001b[0m\n\u001b[0;32m    462\u001b[0m                 \u001b[1;32mtry\u001b[0m\u001b[1;33m:\u001b[0m\u001b[1;33m\u001b[0m\u001b[1;33m\u001b[0m\u001b[0m\n\u001b[1;32m--> 463\u001b[1;33m                     \u001b[0mpm\u001b[0m\u001b[1;33m.\u001b[0m\u001b[0mrun\u001b[0m\u001b[1;33m(\u001b[0m\u001b[0mself\u001b[0m\u001b[1;33m.\u001b[0m\u001b[0mstate\u001b[0m\u001b[1;33m)\u001b[0m\u001b[1;33m\u001b[0m\u001b[1;33m\u001b[0m\u001b[0m\n\u001b[0m\u001b[0;32m    464\u001b[0m                     \u001b[1;32mif\u001b[0m \u001b[0mself\u001b[0m\u001b[1;33m.\u001b[0m\u001b[0mstate\u001b[0m\u001b[1;33m.\u001b[0m\u001b[0mcr\u001b[0m \u001b[1;32mis\u001b[0m \u001b[1;32mnot\u001b[0m \u001b[1;32mNone\u001b[0m\u001b[1;33m:\u001b[0m\u001b[1;33m\u001b[0m\u001b[1;33m\u001b[0m\u001b[0m\n\u001b[0;32m    465\u001b[0m                         \u001b[1;32mbreak\u001b[0m\u001b[1;33m\u001b[0m\u001b[1;33m\u001b[0m\u001b[0m\n",
      "\u001b[1;32m~\\anaconda3\\envs\\Decision-Models\\lib\\site-packages\\numba\\core\\compiler_machinery.py\u001b[0m in \u001b[0;36mrun\u001b[1;34m(self, state)\u001b[0m\n\u001b[0;32m    351\u001b[0m                     \u001b[1;33m(\u001b[0m\u001b[0mself\u001b[0m\u001b[1;33m.\u001b[0m\u001b[0mpipeline_name\u001b[0m\u001b[1;33m,\u001b[0m \u001b[0mpass_desc\u001b[0m\u001b[1;33m)\u001b[0m\u001b[1;33m\u001b[0m\u001b[1;33m\u001b[0m\u001b[0m\n\u001b[0;32m    352\u001b[0m                 \u001b[0mpatched_exception\u001b[0m \u001b[1;33m=\u001b[0m \u001b[0mself\u001b[0m\u001b[1;33m.\u001b[0m\u001b[0m_patch_error\u001b[0m\u001b[1;33m(\u001b[0m\u001b[0mmsg\u001b[0m\u001b[1;33m,\u001b[0m \u001b[0me\u001b[0m\u001b[1;33m)\u001b[0m\u001b[1;33m\u001b[0m\u001b[1;33m\u001b[0m\u001b[0m\n\u001b[1;32m--> 353\u001b[1;33m                 \u001b[1;32mraise\u001b[0m \u001b[0mpatched_exception\u001b[0m\u001b[1;33m\u001b[0m\u001b[1;33m\u001b[0m\u001b[0m\n\u001b[0m\u001b[0;32m    354\u001b[0m \u001b[1;33m\u001b[0m\u001b[0m\n\u001b[0;32m    355\u001b[0m     \u001b[1;32mdef\u001b[0m \u001b[0mdependency_analysis\u001b[0m\u001b[1;33m(\u001b[0m\u001b[0mself\u001b[0m\u001b[1;33m)\u001b[0m\u001b[1;33m:\u001b[0m\u001b[1;33m\u001b[0m\u001b[1;33m\u001b[0m\u001b[0m\n",
      "\u001b[1;32m~\\anaconda3\\envs\\Decision-Models\\lib\\site-packages\\numba\\core\\compiler_machinery.py\u001b[0m in \u001b[0;36mrun\u001b[1;34m(self, state)\u001b[0m\n\u001b[0;32m    339\u001b[0m                 \u001b[0mpass_inst\u001b[0m \u001b[1;33m=\u001b[0m \u001b[0m_pass_registry\u001b[0m\u001b[1;33m.\u001b[0m\u001b[0mget\u001b[0m\u001b[1;33m(\u001b[0m\u001b[0mpss\u001b[0m\u001b[1;33m)\u001b[0m\u001b[1;33m.\u001b[0m\u001b[0mpass_inst\u001b[0m\u001b[1;33m\u001b[0m\u001b[1;33m\u001b[0m\u001b[0m\n\u001b[0;32m    340\u001b[0m                 \u001b[1;32mif\u001b[0m \u001b[0misinstance\u001b[0m\u001b[1;33m(\u001b[0m\u001b[0mpass_inst\u001b[0m\u001b[1;33m,\u001b[0m \u001b[0mCompilerPass\u001b[0m\u001b[1;33m)\u001b[0m\u001b[1;33m:\u001b[0m\u001b[1;33m\u001b[0m\u001b[1;33m\u001b[0m\u001b[0m\n\u001b[1;32m--> 341\u001b[1;33m                     \u001b[0mself\u001b[0m\u001b[1;33m.\u001b[0m\u001b[0m_runPass\u001b[0m\u001b[1;33m(\u001b[0m\u001b[0midx\u001b[0m\u001b[1;33m,\u001b[0m \u001b[0mpass_inst\u001b[0m\u001b[1;33m,\u001b[0m \u001b[0mstate\u001b[0m\u001b[1;33m)\u001b[0m\u001b[1;33m\u001b[0m\u001b[1;33m\u001b[0m\u001b[0m\n\u001b[0m\u001b[0;32m    342\u001b[0m                 \u001b[1;32melse\u001b[0m\u001b[1;33m:\u001b[0m\u001b[1;33m\u001b[0m\u001b[1;33m\u001b[0m\u001b[0m\n\u001b[0;32m    343\u001b[0m                     \u001b[1;32mraise\u001b[0m \u001b[0mBaseException\u001b[0m\u001b[1;33m(\u001b[0m\u001b[1;34m\"Legacy pass in use\"\u001b[0m\u001b[1;33m)\u001b[0m\u001b[1;33m\u001b[0m\u001b[1;33m\u001b[0m\u001b[0m\n",
      "\u001b[1;32m~\\anaconda3\\envs\\Decision-Models\\lib\\site-packages\\numba\\core\\compiler_lock.py\u001b[0m in \u001b[0;36m_acquire_compile_lock\u001b[1;34m(*args, **kwargs)\u001b[0m\n\u001b[0;32m     33\u001b[0m         \u001b[1;32mdef\u001b[0m \u001b[0m_acquire_compile_lock\u001b[0m\u001b[1;33m(\u001b[0m\u001b[1;33m*\u001b[0m\u001b[0margs\u001b[0m\u001b[1;33m,\u001b[0m \u001b[1;33m**\u001b[0m\u001b[0mkwargs\u001b[0m\u001b[1;33m)\u001b[0m\u001b[1;33m:\u001b[0m\u001b[1;33m\u001b[0m\u001b[1;33m\u001b[0m\u001b[0m\n\u001b[0;32m     34\u001b[0m             \u001b[1;32mwith\u001b[0m \u001b[0mself\u001b[0m\u001b[1;33m:\u001b[0m\u001b[1;33m\u001b[0m\u001b[1;33m\u001b[0m\u001b[0m\n\u001b[1;32m---> 35\u001b[1;33m                 \u001b[1;32mreturn\u001b[0m \u001b[0mfunc\u001b[0m\u001b[1;33m(\u001b[0m\u001b[1;33m*\u001b[0m\u001b[0margs\u001b[0m\u001b[1;33m,\u001b[0m \u001b[1;33m**\u001b[0m\u001b[0mkwargs\u001b[0m\u001b[1;33m)\u001b[0m\u001b[1;33m\u001b[0m\u001b[1;33m\u001b[0m\u001b[0m\n\u001b[0m\u001b[0;32m     36\u001b[0m         \u001b[1;32mreturn\u001b[0m \u001b[0m_acquire_compile_lock\u001b[0m\u001b[1;33m\u001b[0m\u001b[1;33m\u001b[0m\u001b[0m\n\u001b[0;32m     37\u001b[0m \u001b[1;33m\u001b[0m\u001b[0m\n",
      "\u001b[1;32m~\\anaconda3\\envs\\Decision-Models\\lib\\site-packages\\numba\\core\\compiler_machinery.py\u001b[0m in \u001b[0;36m_runPass\u001b[1;34m(self, index, pss, internal_state)\u001b[0m\n\u001b[0;32m    294\u001b[0m             \u001b[0mmutated\u001b[0m \u001b[1;33m|=\u001b[0m \u001b[0mcheck\u001b[0m\u001b[1;33m(\u001b[0m\u001b[0mpss\u001b[0m\u001b[1;33m.\u001b[0m\u001b[0mrun_initialization\u001b[0m\u001b[1;33m,\u001b[0m \u001b[0minternal_state\u001b[0m\u001b[1;33m)\u001b[0m\u001b[1;33m\u001b[0m\u001b[1;33m\u001b[0m\u001b[0m\n\u001b[0;32m    295\u001b[0m         \u001b[1;32mwith\u001b[0m \u001b[0mSimpleTimer\u001b[0m\u001b[1;33m(\u001b[0m\u001b[1;33m)\u001b[0m \u001b[1;32mas\u001b[0m \u001b[0mpass_time\u001b[0m\u001b[1;33m:\u001b[0m\u001b[1;33m\u001b[0m\u001b[1;33m\u001b[0m\u001b[0m\n\u001b[1;32m--> 296\u001b[1;33m             \u001b[0mmutated\u001b[0m \u001b[1;33m|=\u001b[0m \u001b[0mcheck\u001b[0m\u001b[1;33m(\u001b[0m\u001b[0mpss\u001b[0m\u001b[1;33m.\u001b[0m\u001b[0mrun_pass\u001b[0m\u001b[1;33m,\u001b[0m \u001b[0minternal_state\u001b[0m\u001b[1;33m)\u001b[0m\u001b[1;33m\u001b[0m\u001b[1;33m\u001b[0m\u001b[0m\n\u001b[0m\u001b[0;32m    297\u001b[0m         \u001b[1;32mwith\u001b[0m \u001b[0mSimpleTimer\u001b[0m\u001b[1;33m(\u001b[0m\u001b[1;33m)\u001b[0m \u001b[1;32mas\u001b[0m \u001b[0mfinalize_time\u001b[0m\u001b[1;33m:\u001b[0m\u001b[1;33m\u001b[0m\u001b[1;33m\u001b[0m\u001b[0m\n\u001b[0;32m    298\u001b[0m             \u001b[0mmutated\u001b[0m \u001b[1;33m|=\u001b[0m \u001b[0mcheck\u001b[0m\u001b[1;33m(\u001b[0m\u001b[0mpss\u001b[0m\u001b[1;33m.\u001b[0m\u001b[0mrun_finalizer\u001b[0m\u001b[1;33m,\u001b[0m \u001b[0minternal_state\u001b[0m\u001b[1;33m)\u001b[0m\u001b[1;33m\u001b[0m\u001b[1;33m\u001b[0m\u001b[0m\n",
      "\u001b[1;32m~\\anaconda3\\envs\\Decision-Models\\lib\\site-packages\\numba\\core\\compiler_machinery.py\u001b[0m in \u001b[0;36mcheck\u001b[1;34m(func, compiler_state)\u001b[0m\n\u001b[0;32m    267\u001b[0m \u001b[1;33m\u001b[0m\u001b[0m\n\u001b[0;32m    268\u001b[0m         \u001b[1;32mdef\u001b[0m \u001b[0mcheck\u001b[0m\u001b[1;33m(\u001b[0m\u001b[0mfunc\u001b[0m\u001b[1;33m,\u001b[0m \u001b[0mcompiler_state\u001b[0m\u001b[1;33m)\u001b[0m\u001b[1;33m:\u001b[0m\u001b[1;33m\u001b[0m\u001b[1;33m\u001b[0m\u001b[0m\n\u001b[1;32m--> 269\u001b[1;33m             \u001b[0mmangled\u001b[0m \u001b[1;33m=\u001b[0m \u001b[0mfunc\u001b[0m\u001b[1;33m(\u001b[0m\u001b[0mcompiler_state\u001b[0m\u001b[1;33m)\u001b[0m\u001b[1;33m\u001b[0m\u001b[1;33m\u001b[0m\u001b[0m\n\u001b[0m\u001b[0;32m    270\u001b[0m             \u001b[1;32mif\u001b[0m \u001b[0mmangled\u001b[0m \u001b[1;32mnot\u001b[0m \u001b[1;32min\u001b[0m \u001b[1;33m(\u001b[0m\u001b[1;32mTrue\u001b[0m\u001b[1;33m,\u001b[0m \u001b[1;32mFalse\u001b[0m\u001b[1;33m)\u001b[0m\u001b[1;33m:\u001b[0m\u001b[1;33m\u001b[0m\u001b[1;33m\u001b[0m\u001b[0m\n\u001b[0;32m    271\u001b[0m                 msg = (\"CompilerPass implementations should return True/False. \"\n",
      "\u001b[1;32m~\\anaconda3\\envs\\Decision-Models\\lib\\site-packages\\numba\\core\\typed_passes.py\u001b[0m in \u001b[0;36mrun_pass\u001b[1;34m(self, state)\u001b[0m\n\u001b[0;32m    103\u001b[0m                               % (state.func_id.func_name,)):\n\u001b[0;32m    104\u001b[0m             \u001b[1;31m# Type inference\u001b[0m\u001b[1;33m\u001b[0m\u001b[1;33m\u001b[0m\u001b[1;33m\u001b[0m\u001b[0m\n\u001b[1;32m--> 105\u001b[1;33m             typemap, return_type, calltypes, errs = type_inference_stage(\n\u001b[0m\u001b[0;32m    106\u001b[0m                 \u001b[0mstate\u001b[0m\u001b[1;33m.\u001b[0m\u001b[0mtypingctx\u001b[0m\u001b[1;33m,\u001b[0m\u001b[1;33m\u001b[0m\u001b[1;33m\u001b[0m\u001b[0m\n\u001b[0;32m    107\u001b[0m                 \u001b[0mstate\u001b[0m\u001b[1;33m.\u001b[0m\u001b[0mtargetctx\u001b[0m\u001b[1;33m,\u001b[0m\u001b[1;33m\u001b[0m\u001b[1;33m\u001b[0m\u001b[0m\n",
      "\u001b[1;32m~\\anaconda3\\envs\\Decision-Models\\lib\\site-packages\\numba\\core\\typed_passes.py\u001b[0m in \u001b[0;36mtype_inference_stage\u001b[1;34m(typingctx, targetctx, interp, args, return_type, locals, raise_errors)\u001b[0m\n\u001b[0;32m     81\u001b[0m         \u001b[0minfer\u001b[0m\u001b[1;33m.\u001b[0m\u001b[0mbuild_constraint\u001b[0m\u001b[1;33m(\u001b[0m\u001b[1;33m)\u001b[0m\u001b[1;33m\u001b[0m\u001b[1;33m\u001b[0m\u001b[0m\n\u001b[0;32m     82\u001b[0m         \u001b[1;31m# return errors in case of partial typing\u001b[0m\u001b[1;33m\u001b[0m\u001b[1;33m\u001b[0m\u001b[1;33m\u001b[0m\u001b[0m\n\u001b[1;32m---> 83\u001b[1;33m         \u001b[0merrs\u001b[0m \u001b[1;33m=\u001b[0m \u001b[0minfer\u001b[0m\u001b[1;33m.\u001b[0m\u001b[0mpropagate\u001b[0m\u001b[1;33m(\u001b[0m\u001b[0mraise_errors\u001b[0m\u001b[1;33m=\u001b[0m\u001b[0mraise_errors\u001b[0m\u001b[1;33m)\u001b[0m\u001b[1;33m\u001b[0m\u001b[1;33m\u001b[0m\u001b[0m\n\u001b[0m\u001b[0;32m     84\u001b[0m         \u001b[0mtypemap\u001b[0m\u001b[1;33m,\u001b[0m \u001b[0mrestype\u001b[0m\u001b[1;33m,\u001b[0m \u001b[0mcalltypes\u001b[0m \u001b[1;33m=\u001b[0m \u001b[0minfer\u001b[0m\u001b[1;33m.\u001b[0m\u001b[0munify\u001b[0m\u001b[1;33m(\u001b[0m\u001b[0mraise_errors\u001b[0m\u001b[1;33m=\u001b[0m\u001b[0mraise_errors\u001b[0m\u001b[1;33m)\u001b[0m\u001b[1;33m\u001b[0m\u001b[1;33m\u001b[0m\u001b[0m\n\u001b[0;32m     85\u001b[0m \u001b[1;33m\u001b[0m\u001b[0m\n",
      "\u001b[1;32m~\\anaconda3\\envs\\Decision-Models\\lib\\site-packages\\numba\\core\\typeinfer.py\u001b[0m in \u001b[0;36mpropagate\u001b[1;34m(self, raise_errors)\u001b[0m\n\u001b[0;32m   1084\u001b[0m                                   if isinstance(e, ForceLiteralArg)]\n\u001b[0;32m   1085\u001b[0m                 \u001b[1;32mif\u001b[0m \u001b[1;32mnot\u001b[0m \u001b[0mforce_lit_args\u001b[0m\u001b[1;33m:\u001b[0m\u001b[1;33m\u001b[0m\u001b[1;33m\u001b[0m\u001b[0m\n\u001b[1;32m-> 1086\u001b[1;33m                     \u001b[1;32mraise\u001b[0m \u001b[0merrors\u001b[0m\u001b[1;33m[\u001b[0m\u001b[1;36m0\u001b[0m\u001b[1;33m]\u001b[0m\u001b[1;33m\u001b[0m\u001b[1;33m\u001b[0m\u001b[0m\n\u001b[0m\u001b[0;32m   1087\u001b[0m                 \u001b[1;32melse\u001b[0m\u001b[1;33m:\u001b[0m\u001b[1;33m\u001b[0m\u001b[1;33m\u001b[0m\u001b[0m\n\u001b[0;32m   1088\u001b[0m                     \u001b[1;32mraise\u001b[0m \u001b[0mreduce\u001b[0m\u001b[1;33m(\u001b[0m\u001b[0moperator\u001b[0m\u001b[1;33m.\u001b[0m\u001b[0mor_\u001b[0m\u001b[1;33m,\u001b[0m \u001b[0mforce_lit_args\u001b[0m\u001b[1;33m)\u001b[0m\u001b[1;33m\u001b[0m\u001b[1;33m\u001b[0m\u001b[0m\n",
      "\u001b[1;31mTypingError\u001b[0m: Failed in cuda mode pipeline (step: nopython frontend)\n\u001b[1m\u001b[1m\u001b[1mNo implementation of function Function(<class 'enumerate'>) found for signature:\n \n >>> enumerate(float32)\n \nThere are 2 candidate implementations:\n\u001b[1m    - Of which 2 did not match due to:\n    Overload of function 'enumerate': File: numba\\core\\typing\\builtins.py: Line 1017.\n      With argument(s): '(float32)':\u001b[0m\n\u001b[1m     No match.\u001b[0m\n\u001b[0m\n\u001b[0m\u001b[1mDuring: resolving callee type: Function(<class 'enumerate'>)\u001b[0m\n\u001b[0m\u001b[1mDuring: typing of call at <ipython-input-23-264c9bc9704c> (3)\n\u001b[0m\n\u001b[1m\nFile \"<ipython-input-23-264c9bc9704c>\", line 3:\u001b[0m\n\u001b[1mdef vec_multiply_ufunc(vector, scaler):\n\u001b[1m    for i, num in enumerate(vector):\n\u001b[0m    \u001b[1m^\u001b[0m\u001b[0m\n"
     ]
    }
   ],
   "source": [
    "    \n",
    "@vectorize(['float32(float32, float32)'], target='cuda')\n",
    "def vec_multiply_ufunc(vector, scaler):\n",
    "    for i, num in enumerate(vector):\n",
    "        vector[i] = vector[i]*scaler\n",
    "#     return [num * scaler for num in vector]\n",
    "#     return product\n",
    "\n",
    "# math.fsum([1,2])"
   ]
  },
  {
   "cell_type": "code",
   "execution_count": 16,
   "id": "a5423aa3-b281-447c-a73a-0f6d05f346ee",
   "metadata": {},
   "outputs": [
    {
     "ename": "TypingError",
     "evalue": "Failed in cuda mode pipeline (step: nopython frontend)\n\u001b[1m\u001b[1mUnknown attribute 'fsum' of type Module(<module 'math' (built-in)>)\n\u001b[1m\nFile \"<ipython-input-15-bcf77aed487d>\", line 52:\u001b[0m\n\u001b[1mdef LCA_kernel_for_delay(stimulus, starting_point, drift_gain, drift_variability, drift_offset, decision_bound, nondecision_time, lateral_inhibition, leak, neural_ddm, decision, reaction_time, rng_states): \n    <source elided>\n        decision_variable = starting_point\n\u001b[1m        sum_decision_variable = math.fsum([1,2])\n\u001b[0m        \u001b[1m^\u001b[0m\u001b[0m\n\u001b[0m\n\u001b[0m\u001b[1mDuring: typing of get attribute at <ipython-input-15-bcf77aed487d> (52)\u001b[0m\n\u001b[1m\nFile \"<ipython-input-15-bcf77aed487d>\", line 52:\u001b[0m\n\u001b[1mdef LCA_kernel_for_delay(stimulus, starting_point, drift_gain, drift_variability, drift_offset, decision_bound, nondecision_time, lateral_inhibition, leak, neural_ddm, decision, reaction_time, rng_states): \n    <source elided>\n        decision_variable = starting_point\n\u001b[1m        sum_decision_variable = math.fsum([1,2])\n\u001b[0m        \u001b[1m^\u001b[0m\u001b[0m\n",
     "output_type": "error",
     "traceback": [
      "\u001b[1;31m---------------------------------------------------------------------------\u001b[0m",
      "\u001b[1;31mTypingError\u001b[0m                               Traceback (most recent call last)",
      "\u001b[1;32m<timed eval>\u001b[0m in \u001b[0;36m<module>\u001b[1;34m\u001b[0m\n",
      "\u001b[1;32m~\\anaconda3\\envs\\Decision-Models\\lib\\site-packages\\numba\\cuda\\compiler.py\u001b[0m in \u001b[0;36m__call__\u001b[1;34m(self, *args)\u001b[0m\n\u001b[0;32m    727\u001b[0m \u001b[1;33m\u001b[0m\u001b[0m\n\u001b[0;32m    728\u001b[0m     \u001b[1;32mdef\u001b[0m \u001b[0m__call__\u001b[0m\u001b[1;33m(\u001b[0m\u001b[0mself\u001b[0m\u001b[1;33m,\u001b[0m \u001b[1;33m*\u001b[0m\u001b[0margs\u001b[0m\u001b[1;33m)\u001b[0m\u001b[1;33m:\u001b[0m\u001b[1;33m\u001b[0m\u001b[1;33m\u001b[0m\u001b[0m\n\u001b[1;32m--> 729\u001b[1;33m         return self.dispatcher.call(args, self.griddim, self.blockdim,\n\u001b[0m\u001b[0;32m    730\u001b[0m                                     self.stream, self.sharedmem)\n\u001b[0;32m    731\u001b[0m \u001b[1;33m\u001b[0m\u001b[0m\n",
      "\u001b[1;32m~\\anaconda3\\envs\\Decision-Models\\lib\\site-packages\\numba\\cuda\\compiler.py\u001b[0m in \u001b[0;36mcall\u001b[1;34m(self, args, griddim, blockdim, stream, sharedmem)\u001b[0m\n\u001b[0;32m    915\u001b[0m             \u001b[0mkernel\u001b[0m \u001b[1;33m=\u001b[0m \u001b[0mnext\u001b[0m\u001b[1;33m(\u001b[0m\u001b[0miter\u001b[0m\u001b[1;33m(\u001b[0m\u001b[0mself\u001b[0m\u001b[1;33m.\u001b[0m\u001b[0moverloads\u001b[0m\u001b[1;33m.\u001b[0m\u001b[0mvalues\u001b[0m\u001b[1;33m(\u001b[0m\u001b[1;33m)\u001b[0m\u001b[1;33m)\u001b[0m\u001b[1;33m)\u001b[0m\u001b[1;33m\u001b[0m\u001b[1;33m\u001b[0m\u001b[0m\n\u001b[0;32m    916\u001b[0m         \u001b[1;32melse\u001b[0m\u001b[1;33m:\u001b[0m\u001b[1;33m\u001b[0m\u001b[1;33m\u001b[0m\u001b[0m\n\u001b[1;32m--> 917\u001b[1;33m             \u001b[0mkernel\u001b[0m \u001b[1;33m=\u001b[0m \u001b[0m_dispatcher\u001b[0m\u001b[1;33m.\u001b[0m\u001b[0mDispatcher\u001b[0m\u001b[1;33m.\u001b[0m\u001b[0m_cuda_call\u001b[0m\u001b[1;33m(\u001b[0m\u001b[0mself\u001b[0m\u001b[1;33m,\u001b[0m \u001b[1;33m*\u001b[0m\u001b[0margs\u001b[0m\u001b[1;33m)\u001b[0m\u001b[1;33m\u001b[0m\u001b[1;33m\u001b[0m\u001b[0m\n\u001b[0m\u001b[0;32m    918\u001b[0m \u001b[1;33m\u001b[0m\u001b[0m\n\u001b[0;32m    919\u001b[0m         \u001b[0mkernel\u001b[0m\u001b[1;33m.\u001b[0m\u001b[0mlaunch\u001b[0m\u001b[1;33m(\u001b[0m\u001b[0margs\u001b[0m\u001b[1;33m,\u001b[0m \u001b[0mgriddim\u001b[0m\u001b[1;33m,\u001b[0m \u001b[0mblockdim\u001b[0m\u001b[1;33m,\u001b[0m \u001b[0mstream\u001b[0m\u001b[1;33m,\u001b[0m \u001b[0msharedmem\u001b[0m\u001b[1;33m)\u001b[0m\u001b[1;33m\u001b[0m\u001b[1;33m\u001b[0m\u001b[0m\n",
      "\u001b[1;32m~\\anaconda3\\envs\\Decision-Models\\lib\\site-packages\\numba\\cuda\\compiler.py\u001b[0m in \u001b[0;36m_compile_for_args\u001b[1;34m(self, *args, **kws)\u001b[0m\n\u001b[0;32m    923\u001b[0m         \u001b[1;32massert\u001b[0m \u001b[1;32mnot\u001b[0m \u001b[0mkws\u001b[0m\u001b[1;33m\u001b[0m\u001b[1;33m\u001b[0m\u001b[0m\n\u001b[0;32m    924\u001b[0m         \u001b[0margtypes\u001b[0m \u001b[1;33m=\u001b[0m \u001b[1;33m[\u001b[0m\u001b[0mself\u001b[0m\u001b[1;33m.\u001b[0m\u001b[0mtypeof_pyval\u001b[0m\u001b[1;33m(\u001b[0m\u001b[0ma\u001b[0m\u001b[1;33m)\u001b[0m \u001b[1;32mfor\u001b[0m \u001b[0ma\u001b[0m \u001b[1;32min\u001b[0m \u001b[0margs\u001b[0m\u001b[1;33m]\u001b[0m\u001b[1;33m\u001b[0m\u001b[1;33m\u001b[0m\u001b[0m\n\u001b[1;32m--> 925\u001b[1;33m         \u001b[1;32mreturn\u001b[0m \u001b[0mself\u001b[0m\u001b[1;33m.\u001b[0m\u001b[0mcompile\u001b[0m\u001b[1;33m(\u001b[0m\u001b[0mtuple\u001b[0m\u001b[1;33m(\u001b[0m\u001b[0margtypes\u001b[0m\u001b[1;33m)\u001b[0m\u001b[1;33m)\u001b[0m\u001b[1;33m\u001b[0m\u001b[1;33m\u001b[0m\u001b[0m\n\u001b[0m\u001b[0;32m    926\u001b[0m \u001b[1;33m\u001b[0m\u001b[0m\n\u001b[0;32m    927\u001b[0m     \u001b[1;32mdef\u001b[0m \u001b[0m_search_new_conversions\u001b[0m\u001b[1;33m(\u001b[0m\u001b[0mself\u001b[0m\u001b[1;33m,\u001b[0m \u001b[1;33m*\u001b[0m\u001b[0margs\u001b[0m\u001b[1;33m,\u001b[0m \u001b[1;33m**\u001b[0m\u001b[0mkws\u001b[0m\u001b[1;33m)\u001b[0m\u001b[1;33m:\u001b[0m\u001b[1;33m\u001b[0m\u001b[1;33m\u001b[0m\u001b[0m\n",
      "\u001b[1;32m~\\anaconda3\\envs\\Decision-Models\\lib\\site-packages\\numba\\cuda\\compiler.py\u001b[0m in \u001b[0;36mcompile\u001b[1;34m(self, sig)\u001b[0m\n\u001b[0;32m   1084\u001b[0m             \u001b[1;32mif\u001b[0m \u001b[1;32mnot\u001b[0m \u001b[0mself\u001b[0m\u001b[1;33m.\u001b[0m\u001b[0m_can_compile\u001b[0m\u001b[1;33m:\u001b[0m\u001b[1;33m\u001b[0m\u001b[1;33m\u001b[0m\u001b[0m\n\u001b[0;32m   1085\u001b[0m                 \u001b[1;32mraise\u001b[0m \u001b[0mRuntimeError\u001b[0m\u001b[1;33m(\u001b[0m\u001b[1;34m\"Compilation disabled\"\u001b[0m\u001b[1;33m)\u001b[0m\u001b[1;33m\u001b[0m\u001b[1;33m\u001b[0m\u001b[0m\n\u001b[1;32m-> 1086\u001b[1;33m             kernel = _Kernel(self.py_func, argtypes, link=self.link,\n\u001b[0m\u001b[0;32m   1087\u001b[0m                              **self.targetoptions)\n\u001b[0;32m   1088\u001b[0m             \u001b[1;31m# Inspired by _DispatcherBase.add_overload, but differs slightly\u001b[0m\u001b[1;33m\u001b[0m\u001b[1;33m\u001b[0m\u001b[1;33m\u001b[0m\u001b[0m\n",
      "\u001b[1;32m~\\anaconda3\\envs\\Decision-Models\\lib\\site-packages\\numba\\core\\compiler_lock.py\u001b[0m in \u001b[0;36m_acquire_compile_lock\u001b[1;34m(*args, **kwargs)\u001b[0m\n\u001b[0;32m     33\u001b[0m         \u001b[1;32mdef\u001b[0m \u001b[0m_acquire_compile_lock\u001b[0m\u001b[1;33m(\u001b[0m\u001b[1;33m*\u001b[0m\u001b[0margs\u001b[0m\u001b[1;33m,\u001b[0m \u001b[1;33m**\u001b[0m\u001b[0mkwargs\u001b[0m\u001b[1;33m)\u001b[0m\u001b[1;33m:\u001b[0m\u001b[1;33m\u001b[0m\u001b[1;33m\u001b[0m\u001b[0m\n\u001b[0;32m     34\u001b[0m             \u001b[1;32mwith\u001b[0m \u001b[0mself\u001b[0m\u001b[1;33m:\u001b[0m\u001b[1;33m\u001b[0m\u001b[1;33m\u001b[0m\u001b[0m\n\u001b[1;32m---> 35\u001b[1;33m                 \u001b[1;32mreturn\u001b[0m \u001b[0mfunc\u001b[0m\u001b[1;33m(\u001b[0m\u001b[1;33m*\u001b[0m\u001b[0margs\u001b[0m\u001b[1;33m,\u001b[0m \u001b[1;33m**\u001b[0m\u001b[0mkwargs\u001b[0m\u001b[1;33m)\u001b[0m\u001b[1;33m\u001b[0m\u001b[1;33m\u001b[0m\u001b[0m\n\u001b[0m\u001b[0;32m     36\u001b[0m         \u001b[1;32mreturn\u001b[0m \u001b[0m_acquire_compile_lock\u001b[0m\u001b[1;33m\u001b[0m\u001b[1;33m\u001b[0m\u001b[0m\n\u001b[0;32m     37\u001b[0m \u001b[1;33m\u001b[0m\u001b[0m\n",
      "\u001b[1;32m~\\anaconda3\\envs\\Decision-Models\\lib\\site-packages\\numba\\cuda\\compiler.py\u001b[0m in \u001b[0;36m__init__\u001b[1;34m(self, py_func, argtypes, link, debug, lineinfo, inline, fastmath, extensions, max_registers, opt, device)\u001b[0m\n\u001b[0;32m    390\u001b[0m         }\n\u001b[0;32m    391\u001b[0m \u001b[1;33m\u001b[0m\u001b[0m\n\u001b[1;32m--> 392\u001b[1;33m         cres = compile_cuda(self.py_func, types.void, self.argtypes,\n\u001b[0m\u001b[0;32m    393\u001b[0m                             \u001b[0mdebug\u001b[0m\u001b[1;33m=\u001b[0m\u001b[0mself\u001b[0m\u001b[1;33m.\u001b[0m\u001b[0mdebug\u001b[0m\u001b[1;33m,\u001b[0m\u001b[1;33m\u001b[0m\u001b[1;33m\u001b[0m\u001b[0m\n\u001b[0;32m    394\u001b[0m                             \u001b[0mlineinfo\u001b[0m\u001b[1;33m=\u001b[0m\u001b[0mself\u001b[0m\u001b[1;33m.\u001b[0m\u001b[0mlineinfo\u001b[0m\u001b[1;33m,\u001b[0m\u001b[1;33m\u001b[0m\u001b[1;33m\u001b[0m\u001b[0m\n",
      "\u001b[1;32m~\\anaconda3\\envs\\Decision-Models\\lib\\site-packages\\numba\\core\\compiler_lock.py\u001b[0m in \u001b[0;36m_acquire_compile_lock\u001b[1;34m(*args, **kwargs)\u001b[0m\n\u001b[0;32m     33\u001b[0m         \u001b[1;32mdef\u001b[0m \u001b[0m_acquire_compile_lock\u001b[0m\u001b[1;33m(\u001b[0m\u001b[1;33m*\u001b[0m\u001b[0margs\u001b[0m\u001b[1;33m,\u001b[0m \u001b[1;33m**\u001b[0m\u001b[0mkwargs\u001b[0m\u001b[1;33m)\u001b[0m\u001b[1;33m:\u001b[0m\u001b[1;33m\u001b[0m\u001b[1;33m\u001b[0m\u001b[0m\n\u001b[0;32m     34\u001b[0m             \u001b[1;32mwith\u001b[0m \u001b[0mself\u001b[0m\u001b[1;33m:\u001b[0m\u001b[1;33m\u001b[0m\u001b[1;33m\u001b[0m\u001b[0m\n\u001b[1;32m---> 35\u001b[1;33m                 \u001b[1;32mreturn\u001b[0m \u001b[0mfunc\u001b[0m\u001b[1;33m(\u001b[0m\u001b[1;33m*\u001b[0m\u001b[0margs\u001b[0m\u001b[1;33m,\u001b[0m \u001b[1;33m**\u001b[0m\u001b[0mkwargs\u001b[0m\u001b[1;33m)\u001b[0m\u001b[1;33m\u001b[0m\u001b[1;33m\u001b[0m\u001b[0m\n\u001b[0m\u001b[0;32m     36\u001b[0m         \u001b[1;32mreturn\u001b[0m \u001b[0m_acquire_compile_lock\u001b[0m\u001b[1;33m\u001b[0m\u001b[1;33m\u001b[0m\u001b[0m\n\u001b[0;32m     37\u001b[0m \u001b[1;33m\u001b[0m\u001b[0m\n",
      "\u001b[1;32m~\\anaconda3\\envs\\Decision-Models\\lib\\site-packages\\numba\\cuda\\compiler.py\u001b[0m in \u001b[0;36mcompile_cuda\u001b[1;34m(pyfunc, return_type, args, debug, lineinfo, inline, fastmath, nvvm_options)\u001b[0m\n\u001b[0;32m    200\u001b[0m \u001b[1;33m\u001b[0m\u001b[0m\n\u001b[0;32m    201\u001b[0m     \u001b[1;31m# Run compilation pipeline\u001b[0m\u001b[1;33m\u001b[0m\u001b[1;33m\u001b[0m\u001b[1;33m\u001b[0m\u001b[0m\n\u001b[1;32m--> 202\u001b[1;33m     cres = compiler.compile_extra(typingctx=typingctx,\n\u001b[0m\u001b[0;32m    203\u001b[0m                                   \u001b[0mtargetctx\u001b[0m\u001b[1;33m=\u001b[0m\u001b[0mtargetctx\u001b[0m\u001b[1;33m,\u001b[0m\u001b[1;33m\u001b[0m\u001b[1;33m\u001b[0m\u001b[0m\n\u001b[0;32m    204\u001b[0m                                   \u001b[0mfunc\u001b[0m\u001b[1;33m=\u001b[0m\u001b[0mpyfunc\u001b[0m\u001b[1;33m,\u001b[0m\u001b[1;33m\u001b[0m\u001b[1;33m\u001b[0m\u001b[0m\n",
      "\u001b[1;32m~\\anaconda3\\envs\\Decision-Models\\lib\\site-packages\\numba\\core\\compiler.py\u001b[0m in \u001b[0;36mcompile_extra\u001b[1;34m(typingctx, targetctx, func, args, return_type, flags, locals, library, pipeline_class)\u001b[0m\n\u001b[0;32m    691\u001b[0m     pipeline = pipeline_class(typingctx, targetctx, library,\n\u001b[0;32m    692\u001b[0m                               args, return_type, flags, locals)\n\u001b[1;32m--> 693\u001b[1;33m     \u001b[1;32mreturn\u001b[0m \u001b[0mpipeline\u001b[0m\u001b[1;33m.\u001b[0m\u001b[0mcompile_extra\u001b[0m\u001b[1;33m(\u001b[0m\u001b[0mfunc\u001b[0m\u001b[1;33m)\u001b[0m\u001b[1;33m\u001b[0m\u001b[1;33m\u001b[0m\u001b[0m\n\u001b[0m\u001b[0;32m    694\u001b[0m \u001b[1;33m\u001b[0m\u001b[0m\n\u001b[0;32m    695\u001b[0m \u001b[1;33m\u001b[0m\u001b[0m\n",
      "\u001b[1;32m~\\anaconda3\\envs\\Decision-Models\\lib\\site-packages\\numba\\core\\compiler.py\u001b[0m in \u001b[0;36mcompile_extra\u001b[1;34m(self, func)\u001b[0m\n\u001b[0;32m    427\u001b[0m         \u001b[0mself\u001b[0m\u001b[1;33m.\u001b[0m\u001b[0mstate\u001b[0m\u001b[1;33m.\u001b[0m\u001b[0mlifted\u001b[0m \u001b[1;33m=\u001b[0m \u001b[1;33m(\u001b[0m\u001b[1;33m)\u001b[0m\u001b[1;33m\u001b[0m\u001b[1;33m\u001b[0m\u001b[0m\n\u001b[0;32m    428\u001b[0m         \u001b[0mself\u001b[0m\u001b[1;33m.\u001b[0m\u001b[0mstate\u001b[0m\u001b[1;33m.\u001b[0m\u001b[0mlifted_from\u001b[0m \u001b[1;33m=\u001b[0m \u001b[1;32mNone\u001b[0m\u001b[1;33m\u001b[0m\u001b[1;33m\u001b[0m\u001b[0m\n\u001b[1;32m--> 429\u001b[1;33m         \u001b[1;32mreturn\u001b[0m \u001b[0mself\u001b[0m\u001b[1;33m.\u001b[0m\u001b[0m_compile_bytecode\u001b[0m\u001b[1;33m(\u001b[0m\u001b[1;33m)\u001b[0m\u001b[1;33m\u001b[0m\u001b[1;33m\u001b[0m\u001b[0m\n\u001b[0m\u001b[0;32m    430\u001b[0m \u001b[1;33m\u001b[0m\u001b[0m\n\u001b[0;32m    431\u001b[0m     \u001b[1;32mdef\u001b[0m \u001b[0mcompile_ir\u001b[0m\u001b[1;33m(\u001b[0m\u001b[0mself\u001b[0m\u001b[1;33m,\u001b[0m \u001b[0mfunc_ir\u001b[0m\u001b[1;33m,\u001b[0m \u001b[0mlifted\u001b[0m\u001b[1;33m=\u001b[0m\u001b[1;33m(\u001b[0m\u001b[1;33m)\u001b[0m\u001b[1;33m,\u001b[0m \u001b[0mlifted_from\u001b[0m\u001b[1;33m=\u001b[0m\u001b[1;32mNone\u001b[0m\u001b[1;33m)\u001b[0m\u001b[1;33m:\u001b[0m\u001b[1;33m\u001b[0m\u001b[1;33m\u001b[0m\u001b[0m\n",
      "\u001b[1;32m~\\anaconda3\\envs\\Decision-Models\\lib\\site-packages\\numba\\core\\compiler.py\u001b[0m in \u001b[0;36m_compile_bytecode\u001b[1;34m(self)\u001b[0m\n\u001b[0;32m    495\u001b[0m         \"\"\"\n\u001b[0;32m    496\u001b[0m         \u001b[1;32massert\u001b[0m \u001b[0mself\u001b[0m\u001b[1;33m.\u001b[0m\u001b[0mstate\u001b[0m\u001b[1;33m.\u001b[0m\u001b[0mfunc_ir\u001b[0m \u001b[1;32mis\u001b[0m \u001b[1;32mNone\u001b[0m\u001b[1;33m\u001b[0m\u001b[1;33m\u001b[0m\u001b[0m\n\u001b[1;32m--> 497\u001b[1;33m         \u001b[1;32mreturn\u001b[0m \u001b[0mself\u001b[0m\u001b[1;33m.\u001b[0m\u001b[0m_compile_core\u001b[0m\u001b[1;33m(\u001b[0m\u001b[1;33m)\u001b[0m\u001b[1;33m\u001b[0m\u001b[1;33m\u001b[0m\u001b[0m\n\u001b[0m\u001b[0;32m    498\u001b[0m \u001b[1;33m\u001b[0m\u001b[0m\n\u001b[0;32m    499\u001b[0m     \u001b[1;32mdef\u001b[0m \u001b[0m_compile_ir\u001b[0m\u001b[1;33m(\u001b[0m\u001b[0mself\u001b[0m\u001b[1;33m)\u001b[0m\u001b[1;33m:\u001b[0m\u001b[1;33m\u001b[0m\u001b[1;33m\u001b[0m\u001b[0m\n",
      "\u001b[1;32m~\\anaconda3\\envs\\Decision-Models\\lib\\site-packages\\numba\\core\\compiler.py\u001b[0m in \u001b[0;36m_compile_core\u001b[1;34m(self)\u001b[0m\n\u001b[0;32m    474\u001b[0m                     \u001b[0mself\u001b[0m\u001b[1;33m.\u001b[0m\u001b[0mstate\u001b[0m\u001b[1;33m.\u001b[0m\u001b[0mstatus\u001b[0m\u001b[1;33m.\u001b[0m\u001b[0mfail_reason\u001b[0m \u001b[1;33m=\u001b[0m \u001b[0me\u001b[0m\u001b[1;33m\u001b[0m\u001b[1;33m\u001b[0m\u001b[0m\n\u001b[0;32m    475\u001b[0m                     \u001b[1;32mif\u001b[0m \u001b[0mis_final_pipeline\u001b[0m\u001b[1;33m:\u001b[0m\u001b[1;33m\u001b[0m\u001b[1;33m\u001b[0m\u001b[0m\n\u001b[1;32m--> 476\u001b[1;33m                         \u001b[1;32mraise\u001b[0m \u001b[0me\u001b[0m\u001b[1;33m\u001b[0m\u001b[1;33m\u001b[0m\u001b[0m\n\u001b[0m\u001b[0;32m    477\u001b[0m             \u001b[1;32melse\u001b[0m\u001b[1;33m:\u001b[0m\u001b[1;33m\u001b[0m\u001b[1;33m\u001b[0m\u001b[0m\n\u001b[0;32m    478\u001b[0m                 \u001b[1;32mraise\u001b[0m \u001b[0mCompilerError\u001b[0m\u001b[1;33m(\u001b[0m\u001b[1;34m\"All available pipelines exhausted\"\u001b[0m\u001b[1;33m)\u001b[0m\u001b[1;33m\u001b[0m\u001b[1;33m\u001b[0m\u001b[0m\n",
      "\u001b[1;32m~\\anaconda3\\envs\\Decision-Models\\lib\\site-packages\\numba\\core\\compiler.py\u001b[0m in \u001b[0;36m_compile_core\u001b[1;34m(self)\u001b[0m\n\u001b[0;32m    461\u001b[0m                 \u001b[0mres\u001b[0m \u001b[1;33m=\u001b[0m \u001b[1;32mNone\u001b[0m\u001b[1;33m\u001b[0m\u001b[1;33m\u001b[0m\u001b[0m\n\u001b[0;32m    462\u001b[0m                 \u001b[1;32mtry\u001b[0m\u001b[1;33m:\u001b[0m\u001b[1;33m\u001b[0m\u001b[1;33m\u001b[0m\u001b[0m\n\u001b[1;32m--> 463\u001b[1;33m                     \u001b[0mpm\u001b[0m\u001b[1;33m.\u001b[0m\u001b[0mrun\u001b[0m\u001b[1;33m(\u001b[0m\u001b[0mself\u001b[0m\u001b[1;33m.\u001b[0m\u001b[0mstate\u001b[0m\u001b[1;33m)\u001b[0m\u001b[1;33m\u001b[0m\u001b[1;33m\u001b[0m\u001b[0m\n\u001b[0m\u001b[0;32m    464\u001b[0m                     \u001b[1;32mif\u001b[0m \u001b[0mself\u001b[0m\u001b[1;33m.\u001b[0m\u001b[0mstate\u001b[0m\u001b[1;33m.\u001b[0m\u001b[0mcr\u001b[0m \u001b[1;32mis\u001b[0m \u001b[1;32mnot\u001b[0m \u001b[1;32mNone\u001b[0m\u001b[1;33m:\u001b[0m\u001b[1;33m\u001b[0m\u001b[1;33m\u001b[0m\u001b[0m\n\u001b[0;32m    465\u001b[0m                         \u001b[1;32mbreak\u001b[0m\u001b[1;33m\u001b[0m\u001b[1;33m\u001b[0m\u001b[0m\n",
      "\u001b[1;32m~\\anaconda3\\envs\\Decision-Models\\lib\\site-packages\\numba\\core\\compiler_machinery.py\u001b[0m in \u001b[0;36mrun\u001b[1;34m(self, state)\u001b[0m\n\u001b[0;32m    351\u001b[0m                     \u001b[1;33m(\u001b[0m\u001b[0mself\u001b[0m\u001b[1;33m.\u001b[0m\u001b[0mpipeline_name\u001b[0m\u001b[1;33m,\u001b[0m \u001b[0mpass_desc\u001b[0m\u001b[1;33m)\u001b[0m\u001b[1;33m\u001b[0m\u001b[1;33m\u001b[0m\u001b[0m\n\u001b[0;32m    352\u001b[0m                 \u001b[0mpatched_exception\u001b[0m \u001b[1;33m=\u001b[0m \u001b[0mself\u001b[0m\u001b[1;33m.\u001b[0m\u001b[0m_patch_error\u001b[0m\u001b[1;33m(\u001b[0m\u001b[0mmsg\u001b[0m\u001b[1;33m,\u001b[0m \u001b[0me\u001b[0m\u001b[1;33m)\u001b[0m\u001b[1;33m\u001b[0m\u001b[1;33m\u001b[0m\u001b[0m\n\u001b[1;32m--> 353\u001b[1;33m                 \u001b[1;32mraise\u001b[0m \u001b[0mpatched_exception\u001b[0m\u001b[1;33m\u001b[0m\u001b[1;33m\u001b[0m\u001b[0m\n\u001b[0m\u001b[0;32m    354\u001b[0m \u001b[1;33m\u001b[0m\u001b[0m\n\u001b[0;32m    355\u001b[0m     \u001b[1;32mdef\u001b[0m \u001b[0mdependency_analysis\u001b[0m\u001b[1;33m(\u001b[0m\u001b[0mself\u001b[0m\u001b[1;33m)\u001b[0m\u001b[1;33m:\u001b[0m\u001b[1;33m\u001b[0m\u001b[1;33m\u001b[0m\u001b[0m\n",
      "\u001b[1;32m~\\anaconda3\\envs\\Decision-Models\\lib\\site-packages\\numba\\core\\compiler_machinery.py\u001b[0m in \u001b[0;36mrun\u001b[1;34m(self, state)\u001b[0m\n\u001b[0;32m    339\u001b[0m                 \u001b[0mpass_inst\u001b[0m \u001b[1;33m=\u001b[0m \u001b[0m_pass_registry\u001b[0m\u001b[1;33m.\u001b[0m\u001b[0mget\u001b[0m\u001b[1;33m(\u001b[0m\u001b[0mpss\u001b[0m\u001b[1;33m)\u001b[0m\u001b[1;33m.\u001b[0m\u001b[0mpass_inst\u001b[0m\u001b[1;33m\u001b[0m\u001b[1;33m\u001b[0m\u001b[0m\n\u001b[0;32m    340\u001b[0m                 \u001b[1;32mif\u001b[0m \u001b[0misinstance\u001b[0m\u001b[1;33m(\u001b[0m\u001b[0mpass_inst\u001b[0m\u001b[1;33m,\u001b[0m \u001b[0mCompilerPass\u001b[0m\u001b[1;33m)\u001b[0m\u001b[1;33m:\u001b[0m\u001b[1;33m\u001b[0m\u001b[1;33m\u001b[0m\u001b[0m\n\u001b[1;32m--> 341\u001b[1;33m                     \u001b[0mself\u001b[0m\u001b[1;33m.\u001b[0m\u001b[0m_runPass\u001b[0m\u001b[1;33m(\u001b[0m\u001b[0midx\u001b[0m\u001b[1;33m,\u001b[0m \u001b[0mpass_inst\u001b[0m\u001b[1;33m,\u001b[0m \u001b[0mstate\u001b[0m\u001b[1;33m)\u001b[0m\u001b[1;33m\u001b[0m\u001b[1;33m\u001b[0m\u001b[0m\n\u001b[0m\u001b[0;32m    342\u001b[0m                 \u001b[1;32melse\u001b[0m\u001b[1;33m:\u001b[0m\u001b[1;33m\u001b[0m\u001b[1;33m\u001b[0m\u001b[0m\n\u001b[0;32m    343\u001b[0m                     \u001b[1;32mraise\u001b[0m \u001b[0mBaseException\u001b[0m\u001b[1;33m(\u001b[0m\u001b[1;34m\"Legacy pass in use\"\u001b[0m\u001b[1;33m)\u001b[0m\u001b[1;33m\u001b[0m\u001b[1;33m\u001b[0m\u001b[0m\n",
      "\u001b[1;32m~\\anaconda3\\envs\\Decision-Models\\lib\\site-packages\\numba\\core\\compiler_lock.py\u001b[0m in \u001b[0;36m_acquire_compile_lock\u001b[1;34m(*args, **kwargs)\u001b[0m\n\u001b[0;32m     33\u001b[0m         \u001b[1;32mdef\u001b[0m \u001b[0m_acquire_compile_lock\u001b[0m\u001b[1;33m(\u001b[0m\u001b[1;33m*\u001b[0m\u001b[0margs\u001b[0m\u001b[1;33m,\u001b[0m \u001b[1;33m**\u001b[0m\u001b[0mkwargs\u001b[0m\u001b[1;33m)\u001b[0m\u001b[1;33m:\u001b[0m\u001b[1;33m\u001b[0m\u001b[1;33m\u001b[0m\u001b[0m\n\u001b[0;32m     34\u001b[0m             \u001b[1;32mwith\u001b[0m \u001b[0mself\u001b[0m\u001b[1;33m:\u001b[0m\u001b[1;33m\u001b[0m\u001b[1;33m\u001b[0m\u001b[0m\n\u001b[1;32m---> 35\u001b[1;33m                 \u001b[1;32mreturn\u001b[0m \u001b[0mfunc\u001b[0m\u001b[1;33m(\u001b[0m\u001b[1;33m*\u001b[0m\u001b[0margs\u001b[0m\u001b[1;33m,\u001b[0m \u001b[1;33m**\u001b[0m\u001b[0mkwargs\u001b[0m\u001b[1;33m)\u001b[0m\u001b[1;33m\u001b[0m\u001b[1;33m\u001b[0m\u001b[0m\n\u001b[0m\u001b[0;32m     36\u001b[0m         \u001b[1;32mreturn\u001b[0m \u001b[0m_acquire_compile_lock\u001b[0m\u001b[1;33m\u001b[0m\u001b[1;33m\u001b[0m\u001b[0m\n\u001b[0;32m     37\u001b[0m \u001b[1;33m\u001b[0m\u001b[0m\n",
      "\u001b[1;32m~\\anaconda3\\envs\\Decision-Models\\lib\\site-packages\\numba\\core\\compiler_machinery.py\u001b[0m in \u001b[0;36m_runPass\u001b[1;34m(self, index, pss, internal_state)\u001b[0m\n\u001b[0;32m    294\u001b[0m             \u001b[0mmutated\u001b[0m \u001b[1;33m|=\u001b[0m \u001b[0mcheck\u001b[0m\u001b[1;33m(\u001b[0m\u001b[0mpss\u001b[0m\u001b[1;33m.\u001b[0m\u001b[0mrun_initialization\u001b[0m\u001b[1;33m,\u001b[0m \u001b[0minternal_state\u001b[0m\u001b[1;33m)\u001b[0m\u001b[1;33m\u001b[0m\u001b[1;33m\u001b[0m\u001b[0m\n\u001b[0;32m    295\u001b[0m         \u001b[1;32mwith\u001b[0m \u001b[0mSimpleTimer\u001b[0m\u001b[1;33m(\u001b[0m\u001b[1;33m)\u001b[0m \u001b[1;32mas\u001b[0m \u001b[0mpass_time\u001b[0m\u001b[1;33m:\u001b[0m\u001b[1;33m\u001b[0m\u001b[1;33m\u001b[0m\u001b[0m\n\u001b[1;32m--> 296\u001b[1;33m             \u001b[0mmutated\u001b[0m \u001b[1;33m|=\u001b[0m \u001b[0mcheck\u001b[0m\u001b[1;33m(\u001b[0m\u001b[0mpss\u001b[0m\u001b[1;33m.\u001b[0m\u001b[0mrun_pass\u001b[0m\u001b[1;33m,\u001b[0m \u001b[0minternal_state\u001b[0m\u001b[1;33m)\u001b[0m\u001b[1;33m\u001b[0m\u001b[1;33m\u001b[0m\u001b[0m\n\u001b[0m\u001b[0;32m    297\u001b[0m         \u001b[1;32mwith\u001b[0m \u001b[0mSimpleTimer\u001b[0m\u001b[1;33m(\u001b[0m\u001b[1;33m)\u001b[0m \u001b[1;32mas\u001b[0m \u001b[0mfinalize_time\u001b[0m\u001b[1;33m:\u001b[0m\u001b[1;33m\u001b[0m\u001b[1;33m\u001b[0m\u001b[0m\n\u001b[0;32m    298\u001b[0m             \u001b[0mmutated\u001b[0m \u001b[1;33m|=\u001b[0m \u001b[0mcheck\u001b[0m\u001b[1;33m(\u001b[0m\u001b[0mpss\u001b[0m\u001b[1;33m.\u001b[0m\u001b[0mrun_finalizer\u001b[0m\u001b[1;33m,\u001b[0m \u001b[0minternal_state\u001b[0m\u001b[1;33m)\u001b[0m\u001b[1;33m\u001b[0m\u001b[1;33m\u001b[0m\u001b[0m\n",
      "\u001b[1;32m~\\anaconda3\\envs\\Decision-Models\\lib\\site-packages\\numba\\core\\compiler_machinery.py\u001b[0m in \u001b[0;36mcheck\u001b[1;34m(func, compiler_state)\u001b[0m\n\u001b[0;32m    267\u001b[0m \u001b[1;33m\u001b[0m\u001b[0m\n\u001b[0;32m    268\u001b[0m         \u001b[1;32mdef\u001b[0m \u001b[0mcheck\u001b[0m\u001b[1;33m(\u001b[0m\u001b[0mfunc\u001b[0m\u001b[1;33m,\u001b[0m \u001b[0mcompiler_state\u001b[0m\u001b[1;33m)\u001b[0m\u001b[1;33m:\u001b[0m\u001b[1;33m\u001b[0m\u001b[1;33m\u001b[0m\u001b[0m\n\u001b[1;32m--> 269\u001b[1;33m             \u001b[0mmangled\u001b[0m \u001b[1;33m=\u001b[0m \u001b[0mfunc\u001b[0m\u001b[1;33m(\u001b[0m\u001b[0mcompiler_state\u001b[0m\u001b[1;33m)\u001b[0m\u001b[1;33m\u001b[0m\u001b[1;33m\u001b[0m\u001b[0m\n\u001b[0m\u001b[0;32m    270\u001b[0m             \u001b[1;32mif\u001b[0m \u001b[0mmangled\u001b[0m \u001b[1;32mnot\u001b[0m \u001b[1;32min\u001b[0m \u001b[1;33m(\u001b[0m\u001b[1;32mTrue\u001b[0m\u001b[1;33m,\u001b[0m \u001b[1;32mFalse\u001b[0m\u001b[1;33m)\u001b[0m\u001b[1;33m:\u001b[0m\u001b[1;33m\u001b[0m\u001b[1;33m\u001b[0m\u001b[0m\n\u001b[0;32m    271\u001b[0m                 msg = (\"CompilerPass implementations should return True/False. \"\n",
      "\u001b[1;32m~\\anaconda3\\envs\\Decision-Models\\lib\\site-packages\\numba\\core\\typed_passes.py\u001b[0m in \u001b[0;36mrun_pass\u001b[1;34m(self, state)\u001b[0m\n\u001b[0;32m    103\u001b[0m                               % (state.func_id.func_name,)):\n\u001b[0;32m    104\u001b[0m             \u001b[1;31m# Type inference\u001b[0m\u001b[1;33m\u001b[0m\u001b[1;33m\u001b[0m\u001b[1;33m\u001b[0m\u001b[0m\n\u001b[1;32m--> 105\u001b[1;33m             typemap, return_type, calltypes, errs = type_inference_stage(\n\u001b[0m\u001b[0;32m    106\u001b[0m                 \u001b[0mstate\u001b[0m\u001b[1;33m.\u001b[0m\u001b[0mtypingctx\u001b[0m\u001b[1;33m,\u001b[0m\u001b[1;33m\u001b[0m\u001b[1;33m\u001b[0m\u001b[0m\n\u001b[0;32m    107\u001b[0m                 \u001b[0mstate\u001b[0m\u001b[1;33m.\u001b[0m\u001b[0mtargetctx\u001b[0m\u001b[1;33m,\u001b[0m\u001b[1;33m\u001b[0m\u001b[1;33m\u001b[0m\u001b[0m\n",
      "\u001b[1;32m~\\anaconda3\\envs\\Decision-Models\\lib\\site-packages\\numba\\core\\typed_passes.py\u001b[0m in \u001b[0;36mtype_inference_stage\u001b[1;34m(typingctx, targetctx, interp, args, return_type, locals, raise_errors)\u001b[0m\n\u001b[0;32m     81\u001b[0m         \u001b[0minfer\u001b[0m\u001b[1;33m.\u001b[0m\u001b[0mbuild_constraint\u001b[0m\u001b[1;33m(\u001b[0m\u001b[1;33m)\u001b[0m\u001b[1;33m\u001b[0m\u001b[1;33m\u001b[0m\u001b[0m\n\u001b[0;32m     82\u001b[0m         \u001b[1;31m# return errors in case of partial typing\u001b[0m\u001b[1;33m\u001b[0m\u001b[1;33m\u001b[0m\u001b[1;33m\u001b[0m\u001b[0m\n\u001b[1;32m---> 83\u001b[1;33m         \u001b[0merrs\u001b[0m \u001b[1;33m=\u001b[0m \u001b[0minfer\u001b[0m\u001b[1;33m.\u001b[0m\u001b[0mpropagate\u001b[0m\u001b[1;33m(\u001b[0m\u001b[0mraise_errors\u001b[0m\u001b[1;33m=\u001b[0m\u001b[0mraise_errors\u001b[0m\u001b[1;33m)\u001b[0m\u001b[1;33m\u001b[0m\u001b[1;33m\u001b[0m\u001b[0m\n\u001b[0m\u001b[0;32m     84\u001b[0m         \u001b[0mtypemap\u001b[0m\u001b[1;33m,\u001b[0m \u001b[0mrestype\u001b[0m\u001b[1;33m,\u001b[0m \u001b[0mcalltypes\u001b[0m \u001b[1;33m=\u001b[0m \u001b[0minfer\u001b[0m\u001b[1;33m.\u001b[0m\u001b[0munify\u001b[0m\u001b[1;33m(\u001b[0m\u001b[0mraise_errors\u001b[0m\u001b[1;33m=\u001b[0m\u001b[0mraise_errors\u001b[0m\u001b[1;33m)\u001b[0m\u001b[1;33m\u001b[0m\u001b[1;33m\u001b[0m\u001b[0m\n\u001b[0;32m     85\u001b[0m \u001b[1;33m\u001b[0m\u001b[0m\n",
      "\u001b[1;32m~\\anaconda3\\envs\\Decision-Models\\lib\\site-packages\\numba\\core\\typeinfer.py\u001b[0m in \u001b[0;36mpropagate\u001b[1;34m(self, raise_errors)\u001b[0m\n\u001b[0;32m   1084\u001b[0m                                   if isinstance(e, ForceLiteralArg)]\n\u001b[0;32m   1085\u001b[0m                 \u001b[1;32mif\u001b[0m \u001b[1;32mnot\u001b[0m \u001b[0mforce_lit_args\u001b[0m\u001b[1;33m:\u001b[0m\u001b[1;33m\u001b[0m\u001b[1;33m\u001b[0m\u001b[0m\n\u001b[1;32m-> 1086\u001b[1;33m                     \u001b[1;32mraise\u001b[0m \u001b[0merrors\u001b[0m\u001b[1;33m[\u001b[0m\u001b[1;36m0\u001b[0m\u001b[1;33m]\u001b[0m\u001b[1;33m\u001b[0m\u001b[1;33m\u001b[0m\u001b[0m\n\u001b[0m\u001b[0;32m   1087\u001b[0m                 \u001b[1;32melse\u001b[0m\u001b[1;33m:\u001b[0m\u001b[1;33m\u001b[0m\u001b[1;33m\u001b[0m\u001b[0m\n\u001b[0;32m   1088\u001b[0m                     \u001b[1;32mraise\u001b[0m \u001b[0mreduce\u001b[0m\u001b[1;33m(\u001b[0m\u001b[0moperator\u001b[0m\u001b[1;33m.\u001b[0m\u001b[0mor_\u001b[0m\u001b[1;33m,\u001b[0m \u001b[0mforce_lit_args\u001b[0m\u001b[1;33m)\u001b[0m\u001b[1;33m\u001b[0m\u001b[1;33m\u001b[0m\u001b[0m\n",
      "\u001b[1;31mTypingError\u001b[0m: Failed in cuda mode pipeline (step: nopython frontend)\n\u001b[1m\u001b[1mUnknown attribute 'fsum' of type Module(<module 'math' (built-in)>)\n\u001b[1m\nFile \"<ipython-input-15-bcf77aed487d>\", line 52:\u001b[0m\n\u001b[1mdef LCA_kernel_for_delay(stimulus, starting_point, drift_gain, drift_variability, drift_offset, decision_bound, nondecision_time, lateral_inhibition, leak, neural_ddm, decision, reaction_time, rng_states): \n    <source elided>\n        decision_variable = starting_point\n\u001b[1m        sum_decision_variable = math.fsum([1,2])\n\u001b[0m        \u001b[1m^\u001b[0m\u001b[0m\n\u001b[0m\n\u001b[0m\u001b[1mDuring: typing of get attribute at <ipython-input-15-bcf77aed487d> (52)\u001b[0m\n\u001b[1m\nFile \"<ipython-input-15-bcf77aed487d>\", line 52:\u001b[0m\n\u001b[1mdef LCA_kernel_for_delay(stimulus, starting_point, drift_gain, drift_variability, drift_offset, decision_bound, nondecision_time, lateral_inhibition, leak, neural_ddm, decision, reaction_time, rng_states): \n    <source elided>\n        decision_variable = starting_point\n\u001b[1m        sum_decision_variable = math.fsum([1,2])\n\u001b[0m        \u001b[1m^\u001b[0m\u001b[0m\n"
     ]
    }
   ],
   "source": [
    "num_trials = 50#000\n",
    "stop_time = 100#00\n",
    "num_choices = 2\n",
    "coh = 100\n",
    "coherence = np.ones((num_trials, stop_time), dtype=float32)*coh\n",
    "\n",
    "starting_point = cp.array(np.zeros(num_choices))             \n",
    "drift_offset = cp.array(np.zeros(num_choices))\n",
    "drift_gain = 10e-6         # drift gain\n",
    "drift_variability = 10e-3      # diffusion variability\n",
    "nondecision_time = 100          # Non-decision time (msec)\n",
    "decision_bound = 1\n",
    "bound_rate = 0\n",
    "bound_delay = 0\n",
    "lateral_inhibition = 0\n",
    "leak = 0\n",
    "neural_ddm = 0\n",
    "\n",
    "# Dynamic time-dependent variables\n",
    "stimulus_np = get_unsigned_coherence_matrix(coherence)\n",
    "decision_bound_cp = get_time_dependent_bound(decision_bound, bound_rate, bound_delay)\n",
    "drift_variability_cp = get_time_dependent_variability(drift_variability)\n",
    "stimulus_cp = cp.asarray(stimulus_np)\n",
    "\n",
    "\n",
    "decision = cp.empty(stimulus_cp.shape[0])*cp.NaN\n",
    "reaction_time = cp.empty(stimulus_cp.shape[0])*cp.NaN\n",
    "blockdim = (16)\n",
    "griddim = (stimulus_cp.shape[0] // blockdim) + 1\n",
    "rng_states = random.create_xoroshiro128p_states(griddim * blockdim, seed=1)\n",
    "cuda.synchronize()\n",
    "%time LCA_kernel_for_delay[griddim, blockdim](stimulus_cp, starting_point, drift_gain, drift_variability_cp, drift_offset, decision_bound_cp, nondecision_time, lateral_inhibition, leak, neural_ddm, decision, reaction_time, rng_states) \n",
    "cuda.synchronize()\n"
   ]
  },
  {
   "cell_type": "markdown",
   "id": "32d90431-c6f4-44ff-b8cf-88610c8d2ced",
   "metadata": {},
   "source": [
    "##### `Kernels for GPU parellelization and compilation`"
   ]
  },
  {
   "cell_type": "code",
   "execution_count": 12,
   "id": "e2af462f-ecfa-4574-a578-f89bdaae208f",
   "metadata": {},
   "outputs": [
    {
     "name": "stdout",
     "output_type": "stream",
     "text": [
      "Wall time: 252 ms\n"
     ]
    }
   ],
   "source": [
    "\n",
    "# For Dynamic Coherence\n",
    "@cuda.jit\n",
    "def DDM_kernel_for_delay(coherence, sp, dg, sigma, bound, ndt, decision, rt, rng_states): \n",
    "    tr = cuda.grid(1)\n",
    "    tr_in_bounds = (tr >= 0) and (tr <= (coherence.shape[0] - 1))   \n",
    "    if tr_in_bounds:\n",
    "        dv = sp                \n",
    "        for t in range(coherence.shape[1]):\n",
    "            diffusion_step = (coherence[tr,t]*dg)+ (random.xoroshiro128p_normal_float32(rng_states, tr)*sigma)   \n",
    "            dv = dv + diffusion_step      # update decision variable\n",
    "            if dv > bound[t] or dv < -bound[t]:       # checking if decision bound is reached\n",
    "                decision[tr] =  2*(dv>0) - 1    # np.sign(dv) alternative\n",
    "                rt[tr] = t+ndt\n",
    "                break  \n",
    "                \n",
    "# Initializing DDM_Coherence_kernel with small variables\n",
    "sp=0\n",
    "dg = 10e-6\n",
    "sigma = 10e-3\n",
    "ndt=0\n",
    "bound=cp.array([1,1])\n",
    "coherence = cp.array([[100,100],[100,100]])\n",
    "decision = cp.empty(coherence.shape[0])*cp.NaN\n",
    "rt = cp.empty(coherence.shape[0])*cp.NaN\n",
    "blockdim = (16)\n",
    "griddim = (coherence.shape[0] // blockdim) + 1\n",
    "rng_states = random.create_xoroshiro128p_states(griddim * blockdim, seed=1)\n",
    "cuda.synchronize()\n",
    "%time DDM_kernel_for_delay[griddim, blockdim](coherence, sp, dg, sigma, bound, ndt, decision, rt, rng_states)\n",
    "cuda.synchronize()"
   ]
  },
  {
   "cell_type": "markdown",
   "id": "51d05c71-2367-42b3-b48a-e109e8331ff0",
   "metadata": {},
   "source": [
    "##### `Function for Batch Processing`"
   ]
  },
  {
   "cell_type": "code",
   "execution_count": 15,
   "id": "dc0845f8-6fc1-4838-a656-d6a56de2c789",
   "metadata": {},
   "outputs": [],
   "source": [
    "\n",
    "def batch_simulation(model, coherence, sp, dg, sigma, bound, ndt, seed=None):\n",
    "    batch_size = 10000;\n",
    "    rt_np = []\n",
    "    decision_np = []\n",
    "    blockdim = int(128)\n",
    "    griddim = (batch_size // blockdim) + 1\n",
    "    if seed is None:\n",
    "        seed = np.random.randint(0, np.iinfo(np.int32).max)\n",
    "    rng_states = random.create_xoroshiro128p_states(griddim * blockdim, seed=seed)\n",
    "\n",
    "    for i in range((coherence.shape[0]//batch_size)+1):\n",
    "        coherence_batch = coherence[batch_size*i:batch_size*(i+1)]\n",
    "        decision_cp = cp.empty(coherence_batch.shape[0])*cp.NaN\n",
    "        rt_cp = cp.empty(coherence_batch.shape[0])*cp.NaN\n",
    "        cuda.synchronize()\n",
    "        model[griddim, blockdim](coherence_batch, sp, dg, sigma, bound, ndt, decision_cp, rt_cp, rng_states);\n",
    "        cuda.synchronize()\n",
    "        decision_np = np.append(decision_np, cp.asnumpy(decision_cp))\n",
    "        rt_np = np.append(rt_np, cp.asnumpy(rt_cp))\n",
    "    plt.hist(rt_np)\n",
    "    return decision_np, rt_np\n"
   ]
  },
  {
   "cell_type": "markdown",
   "id": "9120f36b-7136-4bc8-9486-6333c199a3c1",
   "metadata": {},
   "source": [
    "##### `Model Simulation`"
   ]
  },
  {
   "cell_type": "code",
   "execution_count": 16,
   "id": "3159c466-c41e-4cac-9888-e437899a5c2e",
   "metadata": {},
   "outputs": [
    {
     "name": "stdout",
     "output_type": "stream",
     "text": [
      "34.1 ms ± 422 µs per loop (mean ± std. dev. of 7 runs, 10 loops each)\n"
     ]
    },
    {
     "data": {
      "image/png": "[encoded data removed]",
      "text/plain": [
       "<Figure size 432x288 with 1 Axes>"
      ]
     },
     "metadata": {
      "needs_background": "light"
     },
     "output_type": "display_data"
    }
   ],
   "source": [
    "\n",
    "%timeit decision, rt =  batch_simulation(DDM_kernel_for_delay, coherence, sp, dg, sigma, bound, ndt)\n",
    "# plt.hist(cp.asnumpy(rt))"
   ]
  },
  {
   "cell_type": "markdown",
   "id": "a28076ec-292c-49f6-87b0-3817986f1bef",
   "metadata": {},
   "source": [
    "<a id=\"Model_Performance_DDM\"></a>\n",
    "\n",
    "<br>\n",
    "<br>\n",
    "<br>\n",
    "\n",
    "## C. Model Performance"
   ]
  },
  {
   "cell_type": "markdown",
   "id": "c33c6fd6-dec2-43cf-982c-85645c4b3242",
   "metadata": {},
   "source": [
    "\n",
    "| Model | Number of trials | Simulation time |\n",
    "| --- | --- | --- |\n",
    "|CPU Simulation | 10K | 6 secs | \n",
    "| CPU Simulation with Parallelization | 10K | 250 msec|\n",
    "\n",
    "<br><h5><center>Further improvement in the model to accomodate dynamic input<center><h4><br>\n",
    "\n",
    "| Model | Number of trials | Simulation time |\n",
    "| --- | --- | --- |\n",
    "| GPU Simulation with external diffusion process | 50K | 200 mses |\n",
    "| GPU Simulation with internal diffusion process | 50K | 48.6 ms ± 168 µs |\n",
    "| GPU Simulation with internal diffusion process with batch processing | 50K | 28.9 ms ± 121 µs |"
   ]
  },
  {
   "cell_type": "markdown",
   "id": "ab3118f9-7c8c-48bf-81da-2e7ffb9b4a28",
   "metadata": {
    "tags": []
   },
   "source": [
    "<a id=\"Race\"></a>\n",
    "\n",
    "<br><br>\n",
    "\n",
    "# 2. Race Model"
   ]
  },
  {
   "cell_type": "markdown",
   "id": "bf7757d9-79a8-4981-ab7f-a452dd6eedae",
   "metadata": {},
   "source": [
    "Another competing model to explain such decisions is called Race model. This model is very similar to the DDM models with one key difference. Rather than having a single central accumulator for making a decision, it proposes two different accumulators, one for each choice, and whichever, accumulator reaches the threshold first will be the choice for that trial. Additionally, this model also have anothor restriction. The decision variable cannot be negative as we evidence cannot be negative. Hence, we set DV to zero whenever it goes below zero.  \n",
    "    \n",
    "<h4> The model illustration is shown below:</h4>\n",
    "\n",
    "<center><img src=media/Race1.png  width=\"500\"/></center>\n",
    "    \n",
    "The idea behind this model is as name suggests \"race\" between different decisions. You have two different accumulator, one for each choice. Each accumulator accumulates evidence for corresponding choice and whichever accumulator reaches the threshold bound first wins the race and that choice will be selected\n",
    "<br></br>\n",
    "<br></br>\n",
    "<h4> Neural representation of the Race model:</h4>\n",
    "   \n",
    "<center><img src=media/Race2.png  width=\"250\"/></center>\n",
    "\n",
    "Another way of thinking about these model is that we could have two neurons which integrate the stimulus for one of the two choices. However, unlike DDM case, these neurons do not interact with each other.\n",
    "\n",
    "<br></br>\n",
    "<br></br>\n",
    "\n",
    "The Race model can be mathematically formulated as: \n",
    "\n",
    "### <center>$ DV_{Left}(t+1) = DV_{Left}(t) + \\mathcal{N}(r_{Left}, \\sigma) $<center>\n",
    "\n",
    "### <center>$ DV_{Right}(t+1) = DV_{Right}(t) + \\mathcal{N}(r_{Right}, \\sigma) $<center>\n",
    "    \n",
    "Where, <center>\n",
    "       $DV_{Left}$ – Stimulus dependent decision variable for Left choice  \n",
    "       $DV_{Right}$ – Stimulus dependent decision variable for Right choice  \n",
    "       $r_{Left}$ – Drift factor for Left choice  \n",
    "       $r_{Right}$ – Drift factor for Right choice  \n",
    "       $\\sigma$ – Drift variability  \n",
    "       t – Time<center>\n",
    "    \n",
    "<br><br>\n",
    "    \n"
   ]
  },
  {
   "cell_type": "markdown",
   "id": "3e2065b0-5b99-490c-8b20-654d93ce9fe3",
   "metadata": {},
   "source": [
    "<a id=\"Basic_Implementation_Race\"></a>\n",
    "\n",
    "<br>\n",
    "\n",
    "## A. Basic Implementation"
   ]
  },
  {
   "cell_type": "markdown",
   "id": "84388d9d-8731-4e6e-a84c-1a3a16c82b1e",
   "metadata": {},
   "source": [
    "##### `Initializing stimulus input and model parameters`"
   ]
  },
  {
   "cell_type": "code",
   "execution_count": 17,
   "id": "f415e2a2-ad1e-4b3b-baff-b32ae354a2ac",
   "metadata": {},
   "outputs": [],
   "source": [
    "# Variables\n",
    "coh = 52\n",
    "\n",
    "sp1 = 0                   # starting point 1\n",
    "sp2 = 0                   # starting point 2\n",
    "dg1 = 10e-6               # drift gain 1\n",
    "dg2 = 2*10e-6             # drift gain 2\n",
    "sigma = 10e-3             # diffusion variability\n",
    "I0 = 0.0002               # baseline input\n",
    "dr1 = ReLU(coh)*dg1       # drift rate 1\n",
    "dr2 = ReLU(-coh)*dg2      # drift rate 2\n",
    "t = 0                     # time -> msec\n",
    "bound = 1\n",
    "ndt = 100                 # Non-decision time (msec)\n",
    "stop_time = 10000\n",
    "\n",
    "nTrials = 1000"
   ]
  },
  {
   "cell_type": "markdown",
   "id": "7b08fa74-9fcf-4e73-997c-e39bc05ed5cc",
   "metadata": {},
   "source": [
    "##### `Model Simulation`"
   ]
  },
  {
   "cell_type": "code",
   "execution_count": 19,
   "id": "ae0e2e16-d6ee-4f1d-80d8-0bbb53b80d53",
   "metadata": {
    "tags": []
   },
   "outputs": [],
   "source": [
    "# Race Model\n",
    "''' \n",
    "Considering latent observation of the stimulus.\n",
    "Mainly driven by diffusion variability (if considering 0 input in opposite direction)\n",
    "Good estimate in case of motion energy in random dots which also have some opposite direction component.\n",
    "'''\n",
    "\n",
    "\n",
    "diffusion_step1 = np.random.normal(loc=dr1, scale=sigma, size=(nTrials, stop_time))    # change in accumulator 1\n",
    "diffusion_step2 = np.random.normal(loc=dr2, scale=sigma, size=(nTrials, stop_time))    # change in accumulator 2\n",
    "for tr in range(nTrials):\n",
    "    dv1 = np.array([sp1],dtype=float32)       # Accumulator 1\n",
    "    dv2 = np.array([sp2],dtype=float32)       # Accumulator 2\n",
    "    for t in range(stop_time):\n",
    "        dv1 = np.append(dv1, ReLU(dv1[t]+diffusion_step1[tr,t]))    # update decision variable 1\n",
    "        dv2 = np.append(dv2, ReLU(dv2[t]+diffusion_step2[tr,t]))    # update decision variable 2\n",
    "        if np.abs(dv1[t]) > bound:\n",
    "            decision =  np.append(decision, 1)\n",
    "            rt =  np.append(rt, t)\n",
    "            break\n",
    "        elif np.abs(dv2[t]) > bound:    # checking if decision bound is reached\n",
    "            decision =  np.append(decision, -1)\n",
    "            rt =  np.append(rt, t)\n",
    "            break\n",
    "            \n",
    "else:    # if decision is not reached\n",
    "    decision =  np.append(decision, np.NaN)\n",
    "    rt =  np.append(rt, np.NaN) \n",
    "rt =  rt+ndt\n",
    "\n",
    "# plt.plot(dv1)\n",
    "# plt.plot(dv2)\n",
    "# plt.hist(rt)\n",
    "# plt.show"
   ]
  },
  {
   "cell_type": "markdown",
   "id": "26779a21-4a6f-4754-a87d-4fd48fe92732",
   "metadata": {
    "tags": []
   },
   "source": [
    "<a id=\"LCA\"></a>\n",
    "\n",
    "<br><br>\n",
    "\n",
    "# 3. Leaky-Competing Accumulator Model"
   ]
  },
  {
   "cell_type": "markdown",
   "id": "8eff260d-5743-4194-8fbc-dc9e9ba31c2f",
   "metadata": {},
   "source": [
    "So far we looked at two different models, one with complete suppression of all other accumulators and another with fully independent accumulator. The LCA models fills the methodological gap between these two models with having a partial inhibitory interaction among different accumulator (hence Competing). It also has a leak parameter which representing a leak in the evidence proportional to the evidence in specific accumulator. Similar to race model, this model also has non-negative evidence restriction.\n",
    "\n",
    "    \n",
    "<h4> The model illustration is shown below:</h4>\n",
    "\n",
    "<center><img src=media/LCA1.png  width=\"500\"/></center>\n",
    "    \n",
    "Similar to race models, winner takes all is the basic idea behind this model with additional interactions between different competing elements.\n",
    "<br></br>\n",
    "<br></br>\n",
    "<h4> Neural representation of the Leaky-Competing Accumulator model:</h4>\n",
    "   \n",
    "<center><img src=media/LCA2.png  width=\"250\"/></center>\n",
    "<br>\n",
    "\n",
    "Another way of thinking about these model is that we could have two neurons which integrate the stimulus for one of the two choices. These neurons have inhibitory connection to all other accumulator neurons in addition to information leak parameter represented by activity-dependent self inhibition. S  \n",
    "\n",
    "<br></br>\n",
    "\n",
    "The LCA model can be mathematically formulated as: \n",
    "\n",
    "### <center>$ DV_{Left}(t+1) = DV_{Left}(t) + \\mathcal{N}(r_{Left}, \\sigma) - Leak *  DV_{Left}(t) - LI * DV_{Right}(t) $<center>\n",
    "\n",
    "### <center>$ DV_{Right}(t+1) = DV_{Right}(t) + \\mathcal{N}(r_{Right}, \\sigma) - Leak *  DV_{Right}(t) - LI * DV_{Left}(t) $<center>\n",
    "    \n",
    "Where, <center>\n",
    "       $DV_{Left}$ – Stimulus dependent decision variable for Left choice  \n",
    "       $DV_{Right}$ – Stimulus dependent decision variable for Right choice  \n",
    "       $r_{Left}$ – Drift factor for Left choice  \n",
    "       $r_{Right}$ – Drift factor for Right choice  \n",
    "       $\\sigma$ – Drift variability  \n",
    "       LI - Lateral Inhibition factor\n",
    "       t – Time<center>\n",
    "    \n",
    "<br><br>\n",
    "    \n"
   ]
  },
  {
   "cell_type": "markdown",
   "id": "0fff15ec-2682-478d-9e80-92665edc10fd",
   "metadata": {
    "tags": []
   },
   "source": [
    "<a id=\"Basic_Implementation_LCA\"></a>\n",
    "\n",
    "<br><br>\n",
    "\n",
    "## A. Basic Implementation"
   ]
  },
  {
   "cell_type": "markdown",
   "id": "8318f196-ef85-4cc4-a3a7-57f21a28570a",
   "metadata": {},
   "source": [
    "##### `Initializing stimulus input and model parameters`"
   ]
  },
  {
   "cell_type": "code",
   "execution_count": 20,
   "id": "89b6e7ec-1d4b-491c-91a0-466e83f1d1aa",
   "metadata": {},
   "outputs": [],
   "source": [
    "\n",
    "# Variables\n",
    "coh = 51\n",
    "\n",
    "sp1 = 0             # starting point 1\n",
    "sp2 = 0             # starting point 2\n",
    "dg1 = 10e-6       # drift gain 1\n",
    "dg2 = 2*10e-6       # drift gain 2\n",
    "sigma = 10e-3         # diffusion variability\n",
    "I0 = 0.001         # baseline input\n",
    "dr1 = ReLU(coh)*dg1       # first variable (input)\n",
    "dr2 = ReLU(-coh)*dg2       # second variable (input)\n",
    "leak = 0               # leak\n",
    "lateral_inhibition = 0               # lateral inhibition\n",
    "t = 0               # time -> msec\n",
    "ndt = 100           # Non-decision time (msec)\n",
    "stop_time = 10000\n",
    "\n",
    "nTrials = 10000"
   ]
  },
  {
   "cell_type": "markdown",
   "id": "ab3127e8-e932-44c4-9966-556840c9bff1",
   "metadata": {},
   "source": [
    "##### `Model Simulation`"
   ]
  },
  {
   "cell_type": "code",
   "execution_count": null,
   "id": "b46c27ba-91b2-408d-8ee5-153b9b71e400",
   "metadata": {
    "tags": []
   },
   "outputs": [],
   "source": [
    "%%time\n",
    "\n",
    "diffusion_step1 = np.random.normal(loc=dr1, scale=sigma, size=(nTrials, stop_time))\n",
    "diffusion_step2 = np.random.normal(loc=dr2, scale=sigma, size=(nTrials, stop_time))\n",
    "for tr in range(nTrials):\n",
    "    dv1 = np.array([sp1],dtype=float32)       # Accumulator 1\n",
    "    dv2 = np.array([sp2],dtype=float32)       # Accumulator 2\n",
    "    for t in range(stop_time):\n",
    "        del_dv1 = diffusion_step1[tr,t] - leak*dv1[t] - lateral_inhibition*dv2[t] + I0    # change in accumulator 1\n",
    "        del_dv2 = diffusion_step2[tr,t] - leak*dv2[t] - lateral_inhibition*dv1[t] + I0    # change in accumulator 2\n",
    "        dv1 = np.append(dv1, ReLU(dv1[t]+del_dv1))    # update decision variable 1\n",
    "        dv2 = np.append(dv2, ReLU(dv2[t]+del_dv2))    # update decision variable 2\n",
    "        if np.abs(dv1[t]) > bound:\n",
    "            decision =  np.append(decision, 1)\n",
    "            rt =  np.append(rt, t)\n",
    "            break\n",
    "        elif np.abs(dv2[t]) > bound:    # checking if decision bound is reached\n",
    "            decision =  np.append(decision, -1)\n",
    "            rt =  np.append(rt, t)\n",
    "            break\n",
    "            \n",
    "else:    # if decision is not reached\n",
    "    decision =  np.append(decision, np.NaN)\n",
    "    rt =  np.append(rt, np.NaN) \n",
    "rt =  rt+ndt\n",
    "\n",
    "# plt.hist(rt)\n",
    "# plt.show\n"
   ]
  },
  {
   "cell_type": "markdown",
   "id": "9cf8e020-f1f8-45c1-8daf-df1c732d8c77",
   "metadata": {},
   "source": [
    "<a id=\"GPU_Implementation_LCA\"></a>\n",
    "\n",
    "<br>\n",
    "\n",
    "## 2. GPU Implementation of LCA"
   ]
  },
  {
   "cell_type": "markdown",
   "id": "e9ad0c8b-c7e9-455d-a0f3-506c88e54333",
   "metadata": {},
   "source": [
    "<a id=\"Intrinsic_Diffusion_Process_LCA\"></a>\n",
    "\n",
    "<!-- <br><br> -->\n",
    "\n",
    "### i. Intrinsic Diffusion Process"
   ]
  },
  {
   "cell_type": "markdown",
   "id": "2f1d78cc-5ad1-4a0b-9de2-b678456699b8",
   "metadata": {},
   "source": [
    "##### `Kernels for GPU parellelization and compilation`"
   ]
  },
  {
   "cell_type": "code",
   "execution_count": 24,
   "id": "79a0d3cf-ef14-4a37-b729-8dc67a90aeac",
   "metadata": {},
   "outputs": [],
   "source": [
    "\n",
    "@cuda.jit\n",
    "def ReLU_cuda(input):\n",
    "    return input * (input > 0)\n",
    "\n",
    "# For Dynamic Coherence\n",
    "@cuda.jit\n",
    "def LCA_kernel_for_delay(coherence, sp1, sp2, dg1, dg2, sigma, bound, ndt, leak, lateral_inhibition, decision, rt, rng_states): \n",
    "    tr = cuda.grid(1)\n",
    "    tr_in_bounds = (tr >= 0) and (tr <= (coherence.shape[0] - 1))   \n",
    "    if tr_in_bounds:\n",
    "        dv1 = sp1   # First accumulator                \n",
    "        dv2 = sp2   # Second accumulator\n",
    "        for t in range(coherence.shape[1]):\n",
    "            diffusion_step1 = ReLU_cuda(coherence[tr,t]*dg1)  + (random.xoroshiro128p_normal_float32(rng_states, tr)*sigma)   \n",
    "            diffusion_step2 = ReLU_cuda(-coherence[tr,t]*dg2) + (random.xoroshiro128p_normal_float32(rng_states, tr)*sigma)               \n",
    "            del_dv1 = diffusion_step1 - leak*dv1 - lateral_inhibition*dv2    # change in accumulator 1\n",
    "            del_dv2 = diffusion_step2 - leak*dv2 - lateral_inhibition*dv1    # change in accumulator 1\n",
    "        \n",
    "            dv1 = ReLU_cuda(dv1 + del_dv1)           # update decision variable\n",
    "            dv2 = ReLU_cuda(dv2 + del_dv2)           # update decision variable\n",
    "            \n",
    "            if dv1 > bound[t]:\n",
    "                decision[tr] =  1\n",
    "                rt[tr] = t+ndt\n",
    "                break\n",
    "            if dv2 > bound[t]:\n",
    "                decision[tr] =  -1\n",
    "                rt[tr] = t+ndt\n",
    "                break\n",
    "                                \n",
    "# Initializing DDM_Coherence_kernel with small variables\n",
    "sp1=0\n",
    "sp2=0\n",
    "dg1 = 10e-6\n",
    "dg2 = 10e-6\n",
    "sigma = 10e-3         # diffusion variability\n",
    "I0 = 0.001            # baseline input\n",
    "leak = 0              # leak\n",
    "lateral_inhibition = 0     # lateral inhibition\n",
    "ndt=0\n",
    "bound=1\n",
    "coherence = cp.array([[100,100],[100,100]])\n",
    "bound = cp.array([1,1])\n",
    "decision = cp.empty(coherence.shape[0])*cp.NaN\n",
    "rt = cp.empty(coherence.shape[0])*cp.NaN\n",
    "blockdim = (16)\n",
    "griddim = (coherence.shape[0] // blockdim) + 1\n",
    "rng_states = random.create_xoroshiro128p_states(griddim * blockdim, seed=1)\n",
    "cuda.synchronize()\n",
    "LCA_kernel_for_delay[griddim, blockdim](coherence, sp1, sp2, dg1, dg2, sigma, bound, ndt, leak, lateral_inhibition, decision, rt, rng_states)\n",
    "cuda.synchronize()"
   ]
  },
  {
   "cell_type": "markdown",
   "id": "d99cb968-64f4-4c2a-b013-390d5e5329db",
   "metadata": {},
   "source": [
    "##### `Initializing stimulus input and model parameters`"
   ]
  },
  {
   "cell_type": "code",
   "execution_count": 25,
   "id": "9ab8386c-a830-4c1d-b243-f29bf6572d44",
   "metadata": {},
   "outputs": [],
   "source": [
    "# Initializing DDM_Coherence_kernel with small variables\n",
    "coh = 100\n",
    "sp1=0\n",
    "sp2=0\n",
    "dg1 = 10e-6\n",
    "dg2 = 10e-6\n",
    "sigma = 10e-3         # diffusion variability\n",
    "I0 = 0.001            # baseline input\n",
    "leak = 0              # leak\n",
    "lateral_inhibition = 0     # lateral inhibition\n",
    "ndt=0\n",
    "bound=1\n",
    "\n",
    "if 'coherence' in globals():\n",
    "    del coherence\n",
    "coherence = cp.ones((50000, 10000), dtype=float32)*coh\n",
    "\n",
    "bound = cp.ones(10000, dtype=float32)*bound"
   ]
  },
  {
   "cell_type": "markdown",
   "id": "151f4818-308d-45a6-b554-07f670dc4864",
   "metadata": {},
   "source": [
    "##### `Model Simulation`"
   ]
  },
  {
   "cell_type": "code",
   "execution_count": 26,
   "id": "5f31888e-16de-400f-8cfd-c3646184f982",
   "metadata": {},
   "outputs": [
    {
     "name": "stdout",
     "output_type": "stream",
     "text": [
      "51.8 ms ± 2.17 ms per loop (mean ± std. dev. of 7 runs, 1 loop each)\n"
     ]
    }
   ],
   "source": [
    "%%timeit\n",
    "\n",
    "decision = cp.empty(coherence.shape[0])*cp.NaN\n",
    "rt = cp.empty(coherence.shape[0])*cp.NaN\n",
    "blockdim = (16)\n",
    "griddim = (coherence.shape[0] // blockdim) + 1\n",
    "rng_states = random.create_xoroshiro128p_states(griddim * blockdim, seed=1)\n",
    "\n",
    "cuda.synchronize()\n",
    "LCA_kernel_for_delay[griddim, blockdim](coherence, sp1, sp2, dg1, dg2, sigma, bound, ndt, leak, lateral_inhibition, decision, rt, rng_states)\n",
    "cuda.synchronize()"
   ]
  },
  {
   "cell_type": "markdown",
   "id": "332edd1d-7016-4fa0-84a9-78742c4eb134",
   "metadata": {},
   "source": [
    "<a id=\"Intrinsic_Diffusion_Process_with_Batch_Processing_LCA\"></a>\n",
    "\n",
    "<!-- <br><br> -->\n",
    "\n",
    "### ii. Intrinsic Diffusion Process with Batch Processing"
   ]
  },
  {
   "cell_type": "markdown",
   "id": "95cc194e-b8a2-461b-ae09-9445a6f04526",
   "metadata": {},
   "source": [
    "##### `Model Simulation`"
   ]
  },
  {
   "cell_type": "code",
   "execution_count": null,
   "id": "472c99f5-e2f0-48b4-a739-c2ff1f16605b",
   "metadata": {},
   "outputs": [
    {
     "name": "stdout",
     "output_type": "stream",
     "text": [
      "44.9 ms ± 419 µs per loop (mean ± std. dev. of 7 runs, 10 loops each)\n"
     ]
    },
    {
     "data": {
      "image/png": "[encoded data removed]",
      "text/plain": [
       "<Figure size 432x288 with 1 Axes>"
      ]
     },
     "metadata": {
      "needs_background": "light"
     },
     "output_type": "display_data"
    }
   ],
   "source": [
    "def batch_simulation(model, coherence, sp1, sp2, dg1, dg2, sigma, bound, ndt, leak, lateral_inhibition, seed=None):\n",
    "    batch_size = 10000;\n",
    "    rt_np = []\n",
    "    decision_np = []\n",
    "    blockdim = int(128)\n",
    "    griddim = (batch_size // blockdim) + 1\n",
    "    if seed is None:\n",
    "        seed = np.random.randint(0, np.iinfo(np.int32).max)\n",
    "    rng_states = random.create_xoroshiro128p_states(griddim * blockdim, seed=seed)\n",
    "\n",
    "    for i in range((coherence.shape[0]//batch_size)+1):\n",
    "        coherence_batch = coherence[batch_size*i:batch_size*(i+1)]\n",
    "        decision_cp = cp.empty(coherence_batch.shape[0])*cp.NaN\n",
    "        rt_cp = cp.empty(coherence_batch.shape[0])*cp.NaN\n",
    "        cuda.synchronize()\n",
    "        model[griddim, blockdim](coherence_batch, sp1, sp2, dg1, dg2, sigma, bound, ndt, leak, lateral_inhibition, decision_cp, rt_cp, rng_states);\n",
    "        cuda.synchronize()\n",
    "        decision_np = np.append(decision_np, cp.asnumpy(decision_cp))\n",
    "        rt_np = np.append(rt_np, cp.asnumpy(rt_cp))\n",
    "    plt.hist(rt_np)\n",
    "    return decision_np, rt_np\n",
    "\n",
    "%timeit decision, rt =  batch_simulation(LCA_kernel_for_delay, coherence, sp1, sp2, dg1, dg2, sigma, bound, ndt, leak, lateral_inhibition)\n",
    "    "
   ]
  },
  {
   "cell_type": "markdown",
   "id": "11137302-24ed-4296-8f97-14c15216b119",
   "metadata": {},
   "source": [
    "\n",
    "<br><br>\n",
    "\n",
    "<center><h3>Leaky-Competing Accumulator Model - Simulation Results<h3><centert>\n",
    "\n",
    "| Model | Number of trials | Simulation time |\n",
    "| --- | --- | --- |\n",
    "| CPU Simulation | 10K | 2.5 secs |\n",
    "| GPU Simulation with internal diffusion process | 50K | 47.4 ms ± 388 µs |\n",
    "| GPU Simulation with internal diffusion process with batch processing | 50K | 41.4 ms ± 654 µs |"
   ]
  },
  {
   "cell_type": "markdown",
   "id": "b262f05e-6de6-4db3-8ae7-aa4f8d81d5cf",
   "metadata": {},
   "source": [
    "# Latent Drift-Diffusion Model"
   ]
  },
  {
   "cell_type": "code",
   "execution_count": null,
   "id": "848418fc-66b4-4b3b-9a9a-001f2a949b54",
   "metadata": {
    "tags": []
   },
   "outputs": [],
   "source": [
    "# Latent DDM\n",
    "''' \n",
    "Considering latent observation of the stimulus.\n",
    "Mainly driven by diffusion variability (if considering 0 input in opposite direction)\n",
    "Good estimate in case of motion energy in random dots also have some opposite direction motion.\n",
    "\n",
    "Mathematically equivalent to running DDM with diffusion of sqrt(2)*sigma instead of sigma\n",
    "\n",
    "'''\n",
    "\n",
    "# Variables\n",
    "coh = 52\n",
    "\n",
    "sp1 = 0                   # starting point 1\n",
    "sp2 = 0                   # starting point 2\n",
    "dg1 = 10e-6               # drift gain 1\n",
    "dg2 = 2*10e-6             # drift gain 2\n",
    "sigma = 10e-3             # diffusion variability\n",
    "I0 = 0.0002               # baseline input\n",
    "dr1 = ReLU(coh)*dg1       # drift rate 1\n",
    "dr2 = ReLU(-coh)*dg2      # drift rate 2\n",
    "t = 0                     # time -> msec\n",
    "ndt = 100                 # Non-decision time (msec)\n",
    "stop_time = 10000\n",
    "\n",
    "nTrials = 1000\n",
    "diffusion_step1 = np.random.normal(loc=dr1, scale=sigma, size=(nTrials, stop_time))    # change in accumulator 1\n",
    "diffusion_step2 = np.random.normal(loc=dr2, scale=sigma, size=(nTrials, stop_time))    # change in accumulator 2\n",
    "for tr in range(nTrials):\n",
    "    x1 = np.array([sp1],dtype=float32)       # Accumulator 1\n",
    "    x2 = np.array([sp2],dtype=float32)       # Accumulator 2\n",
    "    for t in range(stop_time):\n",
    "        x1 = np.append(x1, x1[t]+diffusion_step1[tr,t])    # update decision variable 1\n",
    "        x2 = np.append(x2, x2[t]+diffusion_step2[tr,t])    # update decision variable 2\n",
    "        if np.abs(x1[t]-x2[t]) > bound:    # checking if decision bound is reached\n",
    "            decision =  np.append(decision, np.sign(x1[t]-x2[t]))\n",
    "            rt =  np.append(rt, t)\n",
    "            break\n",
    "\n",
    "else:    # if decision is not reached\n",
    "    decision =  np.append(decision, np.NaN)\n",
    "    rt =  np.append(rt, np.NaN) \n",
    "rt =  rt+ndt\n",
    "\n",
    "# plt.plot(x1,'b')\n",
    "# plt.plot(x2,'g')\n",
    "# plt.plot(dv,'r')\n",
    "plt.hist(rt)\n",
    "plt.show"
   ]
  },
  {
   "cell_type": "markdown",
   "id": "8851e161-98dd-4ae6-8f85-3c80af53df18",
   "metadata": {},
   "source": [
    "# Working unused functinos"
   ]
  },
  {
   "cell_type": "code",
   "execution_count": null,
   "id": "200bb364-6ac4-44f4-89c8-ccf218bbb559",
   "metadata": {
    "tags": []
   },
   "outputs": [],
   "source": [
    "                \n",
    "# Matrix multiplication with LARGE matric and a scale or vector on GPU \n",
    "@cuda.jit\n",
    "def matmult_cuda(matrix, scalar):\n",
    "    row,col = cuda.grid(2)\n",
    "    row_in_bounds = (row >= 0) and (row <= (matrix.shape[0] - 1))\n",
    "    col_in_bounds = (col >= 0) and (col <= (matrix.shape[1] - 1))\n",
    "    if row_in_bounds and col_in_bounds:\n",
    "        matrix[row,col] = scalar*matrix[row,col]\n",
    "# Initializing matmult_cuda function\n",
    "test_mat = cp.array([[2,3,5],[4,5,5]],dtype=float32)\n",
    "test_scalar = np.float32(3)\n",
    "blockdim = (16, 16)\n",
    "griddim = (test_mat.shape[0] // blockdim[0]) + 1, (test_mat.shape[1] // blockdim[1]) + 1\n",
    "%time matmult_cuda[griddim, blockdim](test_mat, test_scalar)\n",
    "        \n",
    "                \n",
    "        \n",
    "# Memory allotment trick\n",
    "def ddm_kernel(coh,nTrials,pars,stop_time,decision, rt):\n",
    "    tx = cuda.threadIdx.x # this is the unique thread ID within a 1D block\n",
    "    ty = cuda.blockIdx.x  # Similarly, this is the unique block ID within the 1D grid\n",
    "\n",
    "    block_size = cuda.blockDim.x  # number of threads per block\n",
    "    grid_size = cuda.gridDim.x    # number of blocks in the grid\n",
    "    \n",
    "    start = tx + ty * block_size\n",
    "    stride = block_size * grid_size\n",
    "\n",
    "    # assuming x and y inputs are same length\n",
    "    for i in range(start, x.shape[0], stride):\n",
    "        out[i] = x[i] + y[i]\n",
    "\n",
    "\n",
    "# For single Coherence\n",
    "@cuda.jit\n",
    "def DDM_kernel(nTrials,pars,stop_time, diffusion_step, decision, rt): \n",
    "\n",
    "    sp = pars[0]             # starting point 1\n",
    "    dg = pars[1]             # drift gain\n",
    "    sigma = pars[2]          # diffusion variability\n",
    "    ndt = pars[3]            # Non-decision time (msec)\n",
    "    bound = pars[4]          # drift rate\n",
    "    t = 0                    # time -> msec\n",
    "\n",
    "    tr = cuda.grid(1)\n",
    "    tr_in_bounds = (tr >= 0) and (tr <= (nTrials - 1))\n",
    "    \n",
    "    if tr_in_bounds:\n",
    "        dv = sp\n",
    "        for t in range(stop_time):\n",
    "            dv = dv + diffusion_step[tr,t]      # update decision variable\n",
    "            if dv > bound or dv < -bound:       # checking if decision bound is reached\n",
    "                decision[tr] =  2*(dv>0) - 1    # np.sign(dv) alternative for making decision based on where evidence is maximum\n",
    "                rt[tr] = t+ndt\n",
    "                break  "
   ]
  },
  {
   "cell_type": "markdown",
   "id": "16267e00-8af5-4099-ad22-b9de2173a1c5",
   "metadata": {},
   "source": [
    "\n",
    "<br><br><br><br><br><br><br><br><br><br><br><br><br><br><br><br><br>\n",
    "\n",
    "# Comparison Between DDM and Race type mode coding. "
   ]
  },
  {
   "cell_type": "code",
   "execution_count": 25,
   "id": "aee85ada-0d9c-4940-ad08-ac092b1f838d",
   "metadata": {},
   "outputs": [
    {
     "data": {
      "image/png": "[encoded data removed]",
      "text/plain": [
       "<Figure size 1440x720 with 4 Axes>"
      ]
     },
     "metadata": {
      "needs_background": "light"
     },
     "output_type": "display_data"
    }
   ],
   "source": [
    "# Stimulus +--++++\n",
    "coherence = np.ones(2000)*36\n",
    "coherence[200:600] = -100\n",
    "\n",
    "# coherence = np.ones(2000)*100\n",
    "# coherence[200:600] = -coherence[200:600]\n",
    "coherence_unified = get_unsigned_coherence_matrix(coherence)\n",
    "\n",
    "\n",
    "# Input Parameters\n",
    "sp1 = 0                      # starting point 1\n",
    "sp2 = 0                      # starting point 2\n",
    "dg1 = .01#0e-6                # drift gain 1\n",
    "dg2 = .01#0e-6                # drift gain 2\n",
    "sigma = 10e-3                 # diffusion variability\n",
    "dr = coherence*dg1            # decision variable (DDM)\n",
    "dr1 = ReLU(coherence)*dg1     # decision variable (Race1)\n",
    "dr2 = ReLU(-coherence)*dg2    # decision variable (Race2)\n",
    "dr1_unified = coherence_unified[0]*dg1     # decision variable (Race1)\n",
    "dr2_unified = coherence_unified[1]*dg2    # decision variable (Race2)\n",
    "leak = 0                      # leak\n",
    "lateral_inhibition = 0.5      # lateral inhibition\n",
    "unified_constant = 1          # DDM-Race unification constant\n",
    "ndt = 100                     # Non-decision time (msec)\n",
    "stop_time = 2000\n",
    "\n",
    "\n",
    "\n",
    "decision = np.array([],dtype=float32)       # Collect decision on each trial\n",
    "rt = np.array([],dtype=float32)             # Collect reaction time for each trial\n",
    "\n",
    "\n",
    "# diffusion_step = np.random.normal(loc=dr,  scale=sigma, size=stop_time)    # change in DDM accumulator\n",
    "# diffusion_step1 = np.random.normal(loc=dr1, scale=sigma, size=stop_time)    # change in Race1 accumulator\n",
    "# diffusion_step2 = np.random.normal(loc=dr2, scale=sigma, size=stop_time)    # change in Race2 accumulator\n",
    "\n",
    "dv = np.array([sp1],dtype=float64)   # DDM decision variable\n",
    "dv1 = np.array([sp1],dtype=float64)  # Race1 decision variable\n",
    "dv2 = np.array([sp1],dtype=float64)  # Race2 decision variable\n",
    "dv1_unified = np.array([sp1],dtype=float64)  # Race2 decision variable\n",
    "dv2_unified = np.array([sp1],dtype=float64)  # Race2 decision variable\n",
    "dv11_unified = np.array([sp1],dtype=float64)  # Race2 decision variable\n",
    "dv12_unified = np.array([sp1],dtype=float64)  # Race2 decision variable\n",
    "\n",
    "\n",
    "\n",
    "# for t in range(stop_time):\n",
    "for t in range(1200):\n",
    "    dv =  np.append(dv, dv[t]   + dr[t])                                 # update DDM decision variable\n",
    "    dv1 = np.append(dv1, ReLU(dv1[t] + dr1[t]))                           # update DDM decision variable\n",
    "    dv2 = np.append(dv2, ReLU(dv2[t] + dr2[t]))                                # update DDM decision variable    \n",
    "\n",
    "    \n",
    "    dv1_unified = np.append(dv1_unified, ReLU(dv1_unified[t] + dr1_unified[t] - dr2_unified[t]))#lateral_inhibition*dv2_unified[t]))                                # update DDM decision variable\n",
    "    dv2_unified = np.append(dv2_unified, ReLU(dv2_unified[t] + dr2_unified[t] - dr1_unified[t]))#lateral_inhibition*dv1_unified[t]))  \n",
    "    \n",
    "    \n",
    "    dv11_unified = np.append(dv11_unified, ReLU(dv1_unified[t] + dr1_unified[t] - lateral_inhibition*dv2_unified[t]))                                # update DDM decision variable\n",
    "    dv12_unified = np.append(dv12_unified, ReLU(dv2_unified[t] + dr2_unified[t] - lateral_inhibition*dv1_unified[t]))  \n",
    "    \n",
    "    \n",
    "plt.rcParams[\"figure.figsize\"] = (20,10)\n",
    "fig, ax = plt.subplots(4, 1)    \n",
    "ax[0].plot(dv,'k')\n",
    "ax[0].axhline(y=0, color = 'k', ls='--')\n",
    "ax[0].title.set_text('DDM')\n",
    "\n",
    "ax[1].plot(dv1,'g')\n",
    "ax[1].plot(dv2,'r')\n",
    "ax[1].title.set_text('Race')\n",
    "\n",
    "ax[2].plot(dv1_unified,'g--')\n",
    "ax[2].plot(dv2_unified,'r--')\n",
    "ax[2].title.set_text('Neural DDM')\n",
    "\n",
    "ax[3].plot(dv11_unified,'g--')\n",
    "ax[3].plot(dv12_unified,'r--')\n",
    "ax[3].title.set_text('LI')\n",
    "\n",
    "for i in range(4):\n",
    "    ax[i].axvspan(0, 200, alpha=0.2, color='green')\n",
    "    ax[i].axvspan(201, 600, alpha=0.2, color='red')\n",
    "    ax[i].axvspan(600, 1200, alpha=0.2, color='green')\n",
    "# ax[0].set_xlim([190, 210])\n",
    "# ax[1].set_xlim([190, 210])\n",
    "# ax[2].set_xlim([190, 210])"
   ]
  },
  {
   "cell_type": "markdown",
   "id": "a6992dd3-5bfd-4eab-992a-7d0087cc9852",
   "metadata": {},
   "source": [
    "## Calculations for Burst experiment"
   ]
  },
  {
   "cell_type": "code",
   "execution_count": 232,
   "id": "fb355f96-0b3b-4a07-a074-0dcc4516ea63",
   "metadata": {},
   "outputs": [
    {
     "name": "stdout",
     "output_type": "stream",
     "text": [
      "Prob(Longer Burst in session):  0.05423022\n",
      "Potential recording trials per mouse: 81.34533\n"
     ]
    }
   ],
   "source": [
    "\n",
    "burst_time_mean = 50\n",
    "burst_time_sd = 12\n",
    "burst_duration = 64\n",
    "frame_conversion = burst_duration // 16\n",
    "burst_frames_with_adjustment = (frame_conversion - 1)*16\n",
    "\n",
    "\n",
    "burst_times = np.random.normal(burst_time_mean,burst_time_sd,100000000)\n",
    "prob_within_burstType = np.sum(a<burst_frames_with_adjustment)/100000000 \n",
    "prob_across_trialType = prob_within_burstType*.125\n",
    "sessions_per_mouse = 3\n",
    "trials_per_session = 500\n",
    "\n",
    "print('Prob(Longer Burst in session): ', prob_across_trialType)\n",
    "print('Potential recording trials per mouse:', prob_across_trialType*trials_per_session*sessions_per_mouse)\n"
   ]
  }
 ],
 "metadata": {
  "kernelspec": {
   "display_name": "Python 3 (ipykernel)",
   "language": "python",
   "name": "python3"
  },
  "language_info": {
   "codemirror_mode": {
    "name": "ipython",
    "version": 3
   },
   "file_extension": ".py",
   "mimetype": "text/x-python",
   "name": "python",
   "nbconvert_exporter": "python",
   "pygments_lexer": "ipython3",
   "version": "3.8.12"
  }
 },
 "nbformat": 4,
 "nbformat_minor": 5
}
