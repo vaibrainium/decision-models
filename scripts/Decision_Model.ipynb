{
 "cells": [
  {
   "cell_type": "code",
   "execution_count": 1,
   "id": "cc0ad2af-f34a-4d38-b6e7-7dc4fbca0e45",
   "metadata": {},
   "outputs": [
    {
     "name": "stdout",
     "output_type": "stream",
     "text": [
      "Populating the interactive namespace from numpy and matplotlib\n"
     ]
    }
   ],
   "source": [
    "%pylab inline\n",
    "import numpy as np\n",
    "from matplotlib import pyplot as plt\n",
    "from IPython.display import clear_output\n",
    "\n",
    "import numba\n",
    "import cupy as cp\n",
    "from numba import cuda, prange\n",
    "from numba.cuda import random\n",
    "from numba import jit, njit, vectorize\n",
    "import GPUtil"
   ]
  },
  {
   "cell_type": "code",
   "execution_count": 2,
   "id": "ed54ca48-9193-476b-b9b4-066d3e810ceb",
   "metadata": {},
   "outputs": [],
   "source": [
    "# Functions\n",
    "def ReLU(input):\n",
    "    return input * (input > 0)\n"
   ]
  },
  {
   "cell_type": "markdown",
   "id": "67bfbeec-c386-4a30-b454-1e2efc1e1094",
   "metadata": {},
   "source": [
    "# Drift-Diffusion Model"
   ]
  },
  {
   "cell_type": "markdown",
   "id": "9e840065-26b7-4c79-9e07-0ea0eef6ddaa",
   "metadata": {},
   "source": [
    "## 1) CPU"
   ]
  },
  {
   "cell_type": "code",
   "execution_count": 7,
   "id": "721a40a8-4e1e-4a4a-92c2-68448c7633ff",
   "metadata": {},
   "outputs": [
    {
     "name": "stdout",
     "output_type": "stream",
     "text": [
      "Wall time: 6.92 s\n"
     ]
    },
    {
     "data": {
      "text/plain": [
       "<function matplotlib.pyplot.show(close=None, block=None)>"
      ]
     },
     "execution_count": 7,
     "metadata": {},
     "output_type": "execute_result"
    },
    {
     "data": {
      "image/png": "[encoded data removed]",
      "text/plain": [
       "<Figure size 432x288 with 1 Axes>"
      ]
     },
     "metadata": {
      "needs_background": "light"
     },
     "output_type": "display_data"
    }
   ],
   "source": [
    "%%time\n",
    "# DDM\n",
    "\n",
    "# Variables\n",
    "coh = 100\n",
    "rt = np.array([],dtype=float32)       # Accumulator/decision variable\n",
    "decision = np.array([],dtype=float32)       # Accumulator/decision variable\n",
    "\n",
    "sp = 0             # starting point 1\n",
    "dg = 10e-6         # drift gain\n",
    "sigma = 10e-3      # diffusion variability\n",
    "dr = coh*dg        # drift rate\n",
    "t = 0              # time -> msec\n",
    "ndt = 100          # Non-decision time (msec)\n",
    "bound = 1          # Decision-bound\n",
    "stop_time = 10000  # Maximum allowed time for simulation\n",
    "nTrials = 1000     # Number of trials to simulate\n",
    "\n",
    "diffusion_step = np.random.normal(loc=dr, scale=sigma, size=(nTrials, stop_time))    # change in accumulator 1\n",
    "for tr in range(nTrials):\n",
    "    dv = np.array([sp],dtype=float32)\n",
    "    for t in range(stop_time):\n",
    "        dv = np.append(dv, dv[t]+diffusion_step[tr,t])    # update decision variable\n",
    "        if np.abs(dv[t]) > bound:    # checking if decision bound is reached\n",
    "            decision =  np.append(decision, np.sign(dv[t]))\n",
    "            rt =  np.append(rt, t)\n",
    "            break\n",
    "            \n",
    "else:    # if decision is not reached\n",
    "    decision =  np.append(decision, np.NaN)\n",
    "    rt =  np.append(rt, np.NaN) \n",
    "\n",
    "    \n",
    "rt = rt+ndt\n",
    "    \n",
    "# plt.plot(rt)\n",
    "plt.hist(rt)\n",
    "plt.show\n"
   ]
  },
  {
   "cell_type": "markdown",
   "id": "cff240d4-99ef-46c7-9b8d-794b0162cfac",
   "metadata": {},
   "source": [
    "## 2) CPU Parallelization with Numba"
   ]
  },
  {
   "cell_type": "code",
   "execution_count": 5,
   "id": "8adb1b4a-dcd1-43ec-93f1-eeeb63199cec",
   "metadata": {},
   "outputs": [
    {
     "name": "stdout",
     "output_type": "stream",
     "text": [
      "Wall time: 276 ms\n"
     ]
    },
    {
     "data": {
      "text/plain": [
       "<function matplotlib.pyplot.show(close=None, block=None)>"
      ]
     },
     "execution_count": 5,
     "metadata": {},
     "output_type": "execute_result"
    },
    {
     "data": {
      "image/png": "[encoded data removed]",
      "text/plain": [
       "<Figure size 432x288 with 1 Axes>"
      ]
     },
     "metadata": {
      "needs_background": "light"
     },
     "output_type": "display_data"
    }
   ],
   "source": [
    "# DDM_jit\n",
    "\n",
    "@njit(parallel=True,fastmath=True)\n",
    "def DDM_cpu_parallel(coh,nTrials,pars,stop_time):\n",
    "    # To create empty array with numba => [np.int64(x) for x in range(0)]\n",
    "    rt =  np.empty(nTrials)*np.NaN        \n",
    "    decision = np.empty(nTrials)*np.NaN   \n",
    "    sp = pars[0]             # starting point 1\n",
    "    dg = pars[1]             # drift gain\n",
    "    sigma = pars[2]          # diffusion variability\n",
    "    ndt = pars[3]            # Non-decision time (msec)\n",
    "    bound = pars[4]\n",
    "    dr = coh*dg              # drift rate\n",
    "    t = 0                    # time -> msec\n",
    "    \n",
    "    diffusion_step = np.random.normal(loc=dr, scale=sigma, size=(nTrials, stop_time))    # change in accumulator 1\n",
    "    for tr in prange(nTrials):\n",
    "        dv = np.array([sp],dtype=float64)\n",
    "        for t in range(stop_time):\n",
    "            dv = np.append(dv, dv[t]+diffusion_step[tr,t])    # update decision variable\n",
    "            if np.abs(dv[t]) > bound:    # checking if decision bound is reached\n",
    "                decision[tr] =  np.sign(dv[t])\n",
    "                rt[tr] = t\n",
    "                break\n",
    "    rt = rt+ndt\n",
    "    return decision, rt\n",
    "\n",
    "# DDM_jit_parallel_numba = njit(parallel=True,fastmath=True)(DDM_numba)\n",
    "# Initializing jit compilation\n",
    "coh = 100\n",
    "sp = 0             # starting point 1\n",
    "dg = 10e-6         # drift gain\n",
    "sigma = 10e-3      # diffusion variability\n",
    "dr = coh*dg        # drift rate\n",
    "t = 0              # time -> msec\n",
    "ndt = 100          # Non-decision time (msec)\n",
    "bound = 1          # Decision-bound\n",
    "stop_time = 1000   # Maximum allowed time for simulation\n",
    "nTrials = 10       # Number of trials to simulate\n",
    "pars = np.array([sp,dg,sigma,ndt,bound])\n",
    "DDM_cpu_parallel(coh,nTrials,pars,stop_time) \n",
    "\n",
    "\n",
    "# Variables\n",
    "coh = 100\n",
    "sp = 0             # starting point 1\n",
    "dg = 10e-6         # drift gain\n",
    "sigma = 10e-3      # diffusion variability\n",
    "dr = coh*dg        # drift rate\n",
    "t = 0              # time -> msec\n",
    "ndt = 100          # Non-decision time (msec)\n",
    "bound = 1          # Decision-bound\n",
    "stop_time = 10000  # Maximum allowed time for simulation\n",
    "nTrials = 1000     # Number of trials to simulate\n",
    "pars = np.array([sp,dg,sigma,ndt,bound])\n",
    "%time decision, rt = DDM_cpu_parallel(coh,nTrials,pars,stop_time)\n",
    "\n",
    "# plt.plot(rt)\n",
    "plt.hist(rt)\n",
    "plt.show"
   ]
  },
  {
   "cell_type": "markdown",
   "id": "7a0b9f0c-ce7c-48ee-b137-b814bcd581e6",
   "metadata": {},
   "source": [
    "## 3) GPU Parallelization with Numba and CuPy"
   ]
  },
  {
   "cell_type": "markdown",
   "id": "bff071c4-cd00-49d8-9b5c-e1f5d6a1251f",
   "metadata": {},
   "source": [
    "#### DDM Kernel for Numba"
   ]
  },
  {
   "cell_type": "code",
   "execution_count": 21,
   "id": "a9bb53f9-bd14-4f9c-ab49-58f4fe0147b4",
   "metadata": {},
   "outputs": [
    {
     "name": "stdout",
     "output_type": "stream",
     "text": [
      "Wall time: 138 ms\n"
     ]
    },
    {
     "name": "stderr",
     "output_type": "stream",
     "text": [
      "C:\\Users\\mablab\\anaconda3\\envs\\Decision-Models\\lib\\site-packages\\numba\\cuda\\compiler.py:726: NumbaPerformanceWarning: \u001b[1mGrid size (1) < 2 * SM count (40) will likely result in GPU under utilization due to low occupancy.\u001b[0m\n",
      "  warn(NumbaPerformanceWarning(msg))\n"
     ]
    }
   ],
   "source": [
    "# @jit\n",
    "def get_diffusion_matrix(coherence, drift_gain, sigma, nTrials=50000, stop_time=10000):\n",
    "    # Check if coherence value is scalar. If it is, then create matrix for diffusion step calculation\n",
    "    if np.isscalar(coherence):        \n",
    "        coherence = np.ones((nTrials, stop_time), dtype=float32)*coherence\n",
    "\n",
    "#     if 'diffusion_matrix' in globals():  # If diffusion_matrix is already defined delete it to reduce load on VRAM\n",
    "#         del diffusion_matrix\n",
    "#         cp.get_default_memory_pool().free_all_blocks()\n",
    "    diffusion_matrix = cp.asarray(coherence)\n",
    "    diffusion_matrix = cp.multiply(diffusion_matrix,cp.asarray(drift_gain))    # Mean of diffusion to be Coh x drift gain\n",
    "    diffusion_matrix = cp.random.normal(diffusion_matrix, sigma, dtype='float32')    # Generating normal random steps\n",
    "#     GPUtil.showUtilization()\n",
    "    return diffusion_matrix\n",
    "\n",
    "# For Dynamic Coherence\n",
    "@cuda.jit\n",
    "def DDM_kernel(sp, bound, ndt, diffusion_step, decision, rt): \n",
    "    tr = cuda.grid(1)\n",
    "    tr_in_bounds = (tr >= 0) and (tr <= (diffusion_step.shape[0] - 1))   \n",
    "    if tr_in_bounds:\n",
    "        dv = sp\n",
    "        for t in range(diffusion_step.shape[1]):\n",
    "            dv = dv + diffusion_step[tr,t]      # update decision variable\n",
    "            if dv > bound or dv < -bound:       # checking if decision bound is reached\n",
    "                decision[tr] =  2*(dv>0) - 1    # np.sign(dv) alternative\n",
    "                rt[tr] = t+ndt\n",
    "                break  \n",
    "# Initializing DDM_Coherence_kernel with small variables\n",
    "sp=0\n",
    "ndt=0\n",
    "bound=1\n",
    "diffusion_step = cp.array([[2,3],[3,5]])\n",
    "decision = cp.empty(2)*cp.NaN\n",
    "rt = cp.empty(2)*cp.NaN\n",
    "blockdim = (16)\n",
    "griddim = (diffusion_step.shape[0] // blockdim) + 1\n",
    "cuda.synchronize()\n",
    "%time DDM_kernel[griddim, blockdim](sp, bound, ndt, diffusion_step, decision, rt)\n",
    "cuda.synchronize()\n"
   ]
  },
  {
   "cell_type": "code",
   "execution_count": 22,
   "id": "93b9fffd-ac76-467e-a0dc-e7b9e137290b",
   "metadata": {},
   "outputs": [
    {
     "name": "stdout",
     "output_type": "stream",
     "text": [
      "Wall time: 2.35 s\n",
      "Wall time: 165 ms\n"
     ]
    },
    {
     "data": {
      "text/plain": [
       "(array([2.1180e+03, 1.6167e+04, 1.8080e+04, 9.1180e+03, 3.2600e+03,\n",
       "        9.1300e+02, 2.7100e+02, 5.5000e+01, 1.4000e+01, 4.0000e+00]),\n",
       " array([ 365.,  663.,  961., 1259., 1557., 1855., 2153., 2451., 2749.,\n",
       "        3047., 3345.]),\n",
       " <BarContainer object of 10 artists>)"
      ]
     },
     "execution_count": 22,
     "metadata": {},
     "output_type": "execute_result"
    },
    {
     "data": {
      "image/png": "[encoded data removed]",
      "text/plain": [
       "<Figure size 432x288 with 1 Axes>"
      ]
     },
     "metadata": {
      "needs_background": "light"
     },
     "output_type": "display_data"
    }
   ],
   "source": [
    "# %%time\n",
    "cp.random.seed()\n",
    "coh = 100\n",
    "sp = 0             # starting point 1\n",
    "dg = 10e-6         # drift gain\n",
    "sigma = 10e-3      # diffusion variability\n",
    "ndt = 100          # Non-decision time (msec)\n",
    "bound = 1\n",
    "dg = np.array([dg],dtype=float32)\n",
    "\n",
    "coherence = np.ones((50000, 10000), dtype=float32)*coh\n",
    "%time diffusion_matrix = get_diffusion_matrix(coh, dg, sigma)\n",
    "decision = cp.empty(diffusion_matrix.shape[0])*cp.NaN\n",
    "rt = cp.empty(diffusion_matrix.shape[0])*cp.NaN\n",
    "blockdim = (16)\n",
    "griddim = (diffusion_matrix.shape[0] // blockdim) + 1\n",
    "cuda.synchronize()\n",
    "%time DDM_kernel[griddim, blockdim](sp, bound, ndt, diffusion_matrix, decision, rt)\n",
    "cuda.synchronize()\n",
    "\n",
    "decision = cp.asnumpy(decision)\n",
    "rt = cp.asnumpy(rt)\n",
    "plt.hist(rt)\n"
   ]
  },
  {
   "cell_type": "markdown",
   "id": "69c89b05-848a-494c-936a-9bc4a9c7ea6c",
   "metadata": {},
   "source": [
    "### DDM Cuda kernel with inbuilt diffusion step"
   ]
  },
  {
   "cell_type": "code",
   "execution_count": 3,
   "id": "e2af462f-ecfa-4574-a578-f89bdaae208f",
   "metadata": {},
   "outputs": [
    {
     "name": "stderr",
     "output_type": "stream",
     "text": [
      "C:\\Users\\mablab\\anaconda3\\envs\\Decision-Models\\lib\\site-packages\\numba\\cuda\\compiler.py:726: NumbaPerformanceWarning: \u001b[1mGrid size (1) < 2 * SM count (40) will likely result in GPU under utilization due to low occupancy.\u001b[0m\n",
      "  warn(NumbaPerformanceWarning(msg))\n"
     ]
    },
    {
     "name": "stdout",
     "output_type": "stream",
     "text": [
      "Wall time: 400 ms\n"
     ]
    }
   ],
   "source": [
    "\n",
    "# For Dynamic Coherence\n",
    "@cuda.jit\n",
    "def DDM_kernel(coherence, sp, dg, sigma, bound, ndt, decision, rt, rng_states,diffusion): \n",
    "    tr = cuda.grid(1)\n",
    "    tr_in_bounds = (tr >= 0) and (tr <= (coherence.shape[0] - 1))   \n",
    "    if tr_in_bounds:\n",
    "        dv = sp\n",
    "        for t in range(coherence.shape[1]):\n",
    "            rand_float = random.xoroshiro128p_normal_float32(rng_states, tr)           \n",
    "            diffusion[tr] = rand_float#(coherence[tr,t]*dg)+(rand_float*sigma)\n",
    "            dv = dv + diffusion[tr,t]      # update decision variable\n",
    "            if dv > bound or dv < -bound:       # checking if decision bound is reached\n",
    "                decision[tr] =  2*(dv>0) - 1    # np.sign(dv) alternative\n",
    "                rt[tr] = t+ndt\n",
    "                break  \n",
    "                \n",
    "# Initializing DDM_Coherence_kernel with small variables\n",
    "sp=0\n",
    "dg = 10e-6\n",
    "sigma = 10e-3\n",
    "ndt=0\n",
    "bound=1\n",
    "coherence = cp.array([[100,100],[100,100]])\n",
    "decision = cp.empty(coherence.shape[0])*cp.NaN\n",
    "diffusion = cp.empty_like(coherence)*cp.NaN\n",
    "rt = cp.empty(coherence.shape[0])*cp.NaN\n",
    "blockdim = (16)\n",
    "griddim = (coherence.shape[0] // blockdim) + 1\n",
    "rng_states = random.create_xoroshiro128p_states(griddim * blockdim, seed=1)\n",
    "cuda.synchronize()\n",
    "%time DDM_kernel[griddim, blockdim](coherence, sp, dg, sigma, bound, ndt, decision, rt, rng_states,diffusion)\n",
    "cuda.synchronize()"
   ]
  },
  {
   "cell_type": "code",
   "execution_count": 4,
   "id": "5734022e-6052-4e68-bf6d-cf493d407d7d",
   "metadata": {},
   "outputs": [],
   "source": [
    "cp.random.seed()\n",
    "coh = 100\n",
    "sp = 0             # starting point 1\n",
    "dg = 10e-6         # drift gain\n",
    "sigma = 10e-3      # diffusion variability\n",
    "ndt = 100          # Non-decision time (msec)\n",
    "bound = 1\n",
    "# dg = np.array([dg],dtype=float32)\n",
    "\n",
    "if 'coherence' in globals():\n",
    "    del coherence\n",
    "coherence = np.ones((50000, 10000), dtype=float32)*coh\n"
   ]
  },
  {
   "cell_type": "code",
   "execution_count": 5,
   "id": "a30b7473-a8a1-4b50-b1b2-a411c34a43ca",
   "metadata": {},
   "outputs": [
    {
     "name": "stderr",
     "output_type": "stream",
     "text": [
      "C:\\Users\\mablab\\anaconda3\\envs\\Decision-Models\\lib\\site-packages\\numba\\cuda\\cudadrv\\devicearray.py:885: NumbaPerformanceWarning: \u001b[1mHost array used in CUDA kernel will incur copy overhead to/from device.\u001b[0m\n",
      "  warn(NumbaPerformanceWarning(msg))\n"
     ]
    },
    {
     "name": "stdout",
     "output_type": "stream",
     "text": [
      "Wall time: 1.24 s\n"
     ]
    },
    {
     "data": {
      "text/plain": [
       "(array([    0.,     0.,     0.,     0.,     0., 10000.,     0.,     0.,\n",
       "            0.,     0.]),\n",
       " array([-1.9470639, -1.8470639, -1.7470639, -1.647064 , -1.547064 ,\n",
       "        -1.4470639, -1.3470639, -1.2470639, -1.147064 , -1.047064 ,\n",
       "        -0.9470639], dtype=float32),\n",
       " <BarContainer object of 10 artists>)"
      ]
     },
     "execution_count": 5,
     "metadata": {},
     "output_type": "execute_result"
    },
    {
     "data": {
      "image/png": "[encoded data removed]",
      "text/plain": [
       "<Figure size 432x288 with 1 Axes>"
      ]
     },
     "metadata": {
      "needs_background": "light"
     },
     "output_type": "display_data"
    }
   ],
   "source": [
    "%%time \n",
    "decision = cp.empty(coherence.shape[0])*cp.NaN\n",
    "diffusion = cp.empty_like(coherence)*cp.NaN\n",
    "rt = cp.empty(coherence.shape[0])*cp.NaN\n",
    "blockdim = (16)  #int(256)\n",
    "griddim = (coherence.shape[0] // blockdim) + 1\n",
    "rng_states = random.create_xoroshiro128p_states(griddim * blockdim, seed=1)\n",
    "cuda.synchronize()\n",
    "DDM_kernel[griddim, blockdim](coherence, sp, dg, sigma, bound, ndt, decision, rt, rng_states, diffusion);\n",
    "cuda.synchronize()\n",
    "\n",
    "# decision_cpu = cp.asnumpy(decision)\n",
    "# rt_cpu = cp.asnumpy(rt)\n",
    "# plt.hist(decision_cpu)\n",
    "plt.hist(cp.asnumpy(diffusion[:][0]))\n",
    "# decision.shape"
   ]
  },
  {
   "cell_type": "code",
   "execution_count": null,
   "id": "db154387-d6b7-4321-833e-9ecbf73ecbda",
   "metadata": {},
   "outputs": [
    {
     "data": {
      "text/plain": [
       "(array([[   9.,  268., 3232., ..., 7283., 1055.,   78.],\n",
       "        [   9.,  268., 3232., ..., 7283., 1055.,   78.],\n",
       "        [   9.,  268., 3232., ..., 7283., 1055.,   78.],\n",
       "        ...,\n",
       "        [   9.,  268., 3232., ..., 7283., 1055.,   78.],\n",
       "        [   9.,  268., 3232., ..., 7283., 1055.,   78.],\n",
       "        [   9.,  268., 3232., ..., 7283., 1055.,   78.]]),\n",
       " array([-4.577474  , -3.7052193 , -2.8329642 , -1.9607093 , -1.0884544 ,\n",
       "        -0.2161994 ,  0.65605557,  1.5283105 ,  2.4005654 ,  3.2728205 ,\n",
       "         4.1450753 ], dtype=float32),\n",
       " <a list of 10000 BarContainer objects>)"
      ]
     },
     "execution_count": 13,
     "metadata": {},
     "output_type": "execute_result"
    }
   ],
   "source": [
    "plt.hist(cp.asnumpy(diffusion))"
   ]
  },
  {
   "cell_type": "code",
   "execution_count": 126,
   "id": "80586d8f-c09f-41aa-8caf-df12445a7732",
   "metadata": {},
   "outputs": [
    {
     "name": "stdout",
     "output_type": "stream",
     "text": [
      "200004608\n",
      "1\n",
      "200004608\n",
      "1\n"
     ]
    },
    {
     "name": "stderr",
     "output_type": "stream",
     "text": [
      "<ipython-input-126-6d1b92b572e4>:30: DeprecationWarning: free_all_free is deprecated. Use free_all_blocks instead.\n",
      "  mempool.free_all_free()\n"
     ]
    }
   ],
   "source": [
    "# @jit\n",
    "# def get_diffusion_matrix(coherence, drift_gain, sigma, nTrials=50000, stop_time=10000):\n",
    "#     # Check if coherence value is scalar. If it is, then create matrix for diffusion step calculation\n",
    "#     if np.isscalar(coherence):        \n",
    "#         coherence = np.ones((nTrials, stop_time), dtype=float32)*coherence\n",
    "\n",
    "# #     if 'diffusion_matrix' in globals():  # If diffusion_matrix is already defined delete it to reduce load on VRAM\n",
    "# #         del diffusion_matrix\n",
    "# #         cp.get_default_memory_pool().free_all_blocks()\n",
    "#     diffusion_matrix = cp.asarray(coherence)\n",
    "#     diffusion_matrix = cp.multiply(diffusion_matrix,cp.asarray(drift_gain))    # Mean of diffusion to be Coh x drift gain\n",
    "#     diffusion_matrix = cp.random.normal(diffusion_matrix, sigma, dtype='float32')    # Generating normal random steps\n",
    "# #     GPUtil.showUtilization()\n",
    "#     return diffusion_matrix\n",
    "\n",
    "mempool = cp.get_default_memory_pool()\n",
    "pinnedpool_mempool = cp.get_default_pinned_memory_pool()\n",
    "\n",
    "\n",
    "# if 'diffusion_matrix' in globals():\n",
    "#     del diffusion_matrix\n",
    "# # print(diffusion_matrix.nbytes)           # 400\n",
    "print(mempool.used_bytes())              # 512\n",
    "# print(mempool.total_bytes())             # 512\n",
    "print(pinnedpool_mempool.n_free_blocks())    # 1\n",
    "\n",
    "# del coherence\n",
    "\n",
    "mempool.free_all_blocks()\n",
    "mempool.free_all_free()\n",
    "# pinnedpool_mempool.free()\n",
    "# pinnedpool_mempool.free_all_blocks()\n",
    "\n",
    "print(mempool.used_bytes())              # 512\n",
    "# print(mempool.total_bytes())             # 512\n",
    "print(pinnedpool_mempool.n_free_blocks())    # 1"
   ]
  },
  {
   "cell_type": "code",
   "execution_count": 134,
   "id": "1c3fae38-48c8-41cb-bd29-5854dd214d37",
   "metadata": {},
   "outputs": [
    {
     "name": "stdout",
     "output_type": "stream",
     "text": [
      "| ID | GPU | MEM |\n",
      "------------------\n",
      "|  0 |  0% | 19% |\n",
      "Wall time: 127 ms\n",
      "| ID | GPU | MEM |\n",
      "------------------\n",
      "|  0 |  0% | 19% |\n"
     ]
    }
   ],
   "source": [
    "GPUtil.showUtilization()\n",
    "%time diffusion_matrix = get_diffusion_matrix(100,10e-6,10e-3)\n",
    "\n",
    "GPUtil.showUtilization()\n"
   ]
  },
  {
   "cell_type": "code",
   "execution_count": 81,
   "id": "cbb129d1-bf1d-4b03-b3c8-9329007a5408",
   "metadata": {},
   "outputs": [
    {
     "name": "stdout",
     "output_type": "stream",
     "text": [
      "1536\n",
      "2000000000\n",
      "0\n"
     ]
    }
   ],
   "source": [
    "# You can clear the memory block by calling `free_all_blocks`.\n",
    "\n",
    "mempool = cp.get_default_memory_pool()\n",
    "pinnedpool = cp.get_default_pinned_memory_pool()\n",
    "\n",
    "gc.collect()\n",
    "cuda.select_device(0)\n",
    "cuda.close()\n",
    "cuda.select_device(0)\n",
    "mempool.free_all_blocks()\n",
    "\n",
    "\n",
    "print(mempool.used_bytes())   # 0\n",
    "print(mempool.total_bytes())  # 0\n",
    "print(pinnedpool.n_free_blocks())   # 0"
   ]
  },
  {
   "cell_type": "code",
   "execution_count": null,
   "id": "0f57fd61-f388-4ab9-8e1e-f427fec87ca3",
   "metadata": {
    "jupyter": {
     "source_hidden": true
    },
    "tags": []
   },
   "outputs": [],
   "source": [
    "# Random Number generator for Coherence Matrix\n",
    "cp.random.seed()\n",
    "coh = 100\n",
    "sp = 0             # starting point 1\n",
    "dg = 10e-6         # drift gain\n",
    "sigma = 10e-3      # diffusion variability\n",
    "ndt = 100          # Non-decision time (msec)\n",
    "bound = 1\n",
    "dg = np.array([dg],dtype=float32)\n",
    "\n",
    "# # Single Coherence Condition\n",
    "# # Warm up JIT\n",
    "# coh = cp.array([[100,100,50,50,50,100,100,100,50,0],[100,100,50,50,50,100,100,100,50,0]])\n",
    "# diffusion_step = cp.random.normal(loc=coh*dg, scale=sigma, dtype = float32)    # change in accumulator 1\n",
    "# decision_cp = cp.empty_like(diffusion_step[:,1])*cp.NaN\n",
    "# rt_cp = cp.empty_like(diffusion_step[:,1])*cp.NaN\n",
    "# blockdim = (16, 16)\n",
    "# griddim = (coh.shape[0] // blockdim[0]) + 1\n",
    "# DDM_kernel2[griddim, blockdim](sp, bound, ndt, diffusion_step, decision_cp, rt_cp)\n",
    "\n",
    "stop_time = 10000\n",
    "nTrials = 50000\n",
    "\n",
    "!!! Problem !!! Too big matrix \n",
    "coh = np.ones((nTrials, stop_time), dtype=float32)*100\n",
    "diffusion_step = cp.random.normal(loc=coh*dg, scale=sigma, dtype = float32)    # change in accumulator 1\n",
    "\n",
    "decision_cp = cp.empty_like(diffusion_step[:,1])*cp.NaN\n",
    "rt_cp = cp.empty_like(diffusion_step[:,1])*cp.NaN\n",
    "blockdim = (16, 16)\n",
    "griddim = (coh.shape[0] // blockdim[0]) + 1\n",
    "cuda.synchronize()\n",
    "%time DDM_kernel2[griddim, blockdim](sp, bound, ndt, diffusion_step, decision_cp, rt_cp)\n",
    "cuda.synchronize()\n",
    "\n",
    "# print(decision_cp, rt_cp)\n",
    "\n",
    "# decision = cp.asnumpy(decision_cp)\n",
    "# rt = cp.asnumpy(rt_cp)"
   ]
  },
  {
   "cell_type": "markdown",
   "id": "e0c259d2-a2ac-4577-a75e-1a518ef085a4",
   "metadata": {},
   "source": [
    "## Work on separating coh matrix provided by experiment and creating some copy in GPU for drift rate"
   ]
  },
  {
   "cell_type": "code",
   "execution_count": 35,
   "id": "6af03904-d9b9-44da-9f5b-aae3f3e4277d",
   "metadata": {},
   "outputs": [
    {
     "name": "stdout",
     "output_type": "stream",
     "text": [
      "| ID | GPU  | MEM |\n",
      "-------------------\n",
      "|  0 | 100% | 49% |\n",
      "Wall time: 2 ms\n",
      "[nan  1. nan ... nan  1. nan] [  nan 2286.   nan ...   nan 8030.   nan]\n"
     ]
    }
   ],
   "source": [
    "\n",
    "# Random Number generator for Coherence Matrix\n",
    "cp.random.seed()\n",
    "coh = 100\n",
    "sp = 0             # starting point 1\n",
    "dg = 10e-6         # drift gain\n",
    "sigma = 10e-3      # diffusion variability\n",
    "ndt = 100          # Non-decision time (msec)\n",
    "bound = 1\n",
    "dg = np.array([dg],dtype=float32)\n",
    "\n",
    "\n",
    "# # Here\n",
    "# if 'coh' in globals():\n",
    "#     del coh\n",
    "# cp.get_default_memory_pool().free_all_blocks()\n",
    "# stop_time = 10000\n",
    "# nTrials = 50000\n",
    "# coh = np.ones((nTrials, stop_time), dtype=float32)*100\n",
    "\n",
    "\n",
    "\n",
    "# if 'diffusion_matrix' in globals():\n",
    "#     del diffusion_matrix\n",
    "# diffusion_matrix = cp.asarray(coh)\n",
    "# diffusion_matrix = cp.multiply(diffusion_matrix,cp.asarray(dg))\n",
    "# diffusion_matrix = cp.random.normal(diffusion_matrix, sigma, dtype='float32')\n",
    "# cp.get_default_memory_pool().free_all_blocks()\n",
    "# GPUtil.showUtilization()\n",
    "\n",
    "\n",
    "decision = cp.empty(diffusion_matrix.shape[0])*cp.NaN\n",
    "rt = cp.empty(diffusion_matrix.shape[0])*cp.NaN\n",
    "blockdim = (16)\n",
    "griddim = (diffusion_matrix.shape[0] // blockdim) + 1\n",
    "cuda.synchronize()\n",
    "%time DDM_kernel[griddim, blockdim](sp, bound, ndt, diffusion_matrix, decision, rt)\n",
    "# %time ddm_kernel2[griddim, blockdim](coh, nTrials, pars, stop_time, decision_cp, rt_cp, diffusion_step_cp)\n",
    "cuda.synchronize()\n",
    "\n",
    "decision = cp.asnumpy(decision_cp)\n",
    "rt = cp.asnumpy(rt_cp)\n",
    "plt.hist(rt)"
   ]
  },
  {
   "cell_type": "markdown",
   "id": "26779a21-4a6f-4754-a87d-4fd48fe92732",
   "metadata": {},
   "source": [
    "# Leaky-Competing Accumulator Model"
   ]
  },
  {
   "cell_type": "code",
   "execution_count": null,
   "id": "b46c27ba-91b2-408d-8ee5-153b9b71e400",
   "metadata": {
    "jupyter": {
     "source_hidden": true
    },
    "tags": []
   },
   "outputs": [],
   "source": [
    "## LCA\n",
    "\n",
    "# Variables\n",
    "coh = 51\n",
    "\n",
    "sp1 = 0             # starting point 1\n",
    "sp2 = 0             # starting point 2\n",
    "dg1 = 10e-6       # drift gain 1\n",
    "dg2 = 2*10e-6       # drift gain 2\n",
    "sigma = 10e-3         # diffusion variability\n",
    "I0 = 0.001         # baseline input\n",
    "dr1 = ReLU(coh)*dg1       # first variable (input)\n",
    "dr2 = ReLU(-coh)*dg2       # second variable (input)\n",
    "leak = 0               # leak\n",
    "lateral_inhibition = 0               # lateral inhibition\n",
    "t = 0               # time -> msec\n",
    "ndt = 100           # Non-decision time (msec)\n",
    "stop_time = 10000\n",
    "\n",
    "nTrials = 1000\n",
    "diffusion_step1 = np.random.normal(loc=dr1, scale=sigma, size=(nTrials, stop_time))\n",
    "diffusion_step2 = np.random.normal(loc=dr2, scale=sigma, size=(nTrials, stop_time))\n",
    "for tr in range(nTrials):\n",
    "    dv1 = np.array([sp1],dtype=float32)       # Accumulator 1\n",
    "    dv2 = np.array([sp2],dtype=float32)       # Accumulator 2\n",
    "    for t in range(stop_time):\n",
    "        del_dv1 = diffusion_step1[tr,t] - leak*dv1[t] - lateral_inhibition*dv2[t] + I0    # change in accumulator 1\n",
    "        del_dv2 = diffusion_step2[tr,t] - leak*dv2[t] - lateral_inhibition*dv1[t] + I0    # change in accumulator 2\n",
    "        dv1 = np.append(dv1, ReLU(dv1[t]+del_dv1))    # update decision variable 1\n",
    "        dv2 = np.append(dv2, ReLU(dv2[t]+del_dv2))    # update decision variable 2\n",
    "        if np.abs(dv1[t]) > bound:\n",
    "            decision =  np.append(decision, 1)\n",
    "            rt =  np.append(rt, t)\n",
    "            break\n",
    "        elif np.abs(dv2[t]) > bound:    # checking if decision bound is reached\n",
    "            decision =  np.append(decision, -1)\n",
    "            rt =  np.append(rt, t)\n",
    "            break\n",
    "            \n",
    "else:    # if decision is not reached\n",
    "    decision =  np.append(decision, np.NaN)\n",
    "    rt =  np.append(rt, np.NaN) \n",
    "rt =  rt+ndt\n",
    "\n",
    "# plt.plot(dv1,'b')\n",
    "# plt.plot(dv2,'g')\n",
    "plt.hist(rt)\n",
    "plt.show\n"
   ]
  },
  {
   "cell_type": "markdown",
   "id": "ab3118f9-7c8c-48bf-81da-2e7ffb9b4a28",
   "metadata": {
    "tags": []
   },
   "source": [
    "# Race Model"
   ]
  },
  {
   "cell_type": "code",
   "execution_count": null,
   "id": "ae0e2e16-d6ee-4f1d-80d8-0bbb53b80d53",
   "metadata": {
    "jupyter": {
     "source_hidden": true
    },
    "tags": []
   },
   "outputs": [],
   "source": [
    "# Race Model\n",
    "''' \n",
    "Considering latent observation of the stimulus.\n",
    "Mainly driven by diffusion variability (if considering 0 input in opposite direction)\n",
    "Good estimate in case of motion energy in random dots also have some opposite direction motion.\n",
    "'''\n",
    "\n",
    "# Variables\n",
    "coh = 52\n",
    "\n",
    "sp1 = 0                   # starting point 1\n",
    "sp2 = 0                   # starting point 2\n",
    "dg1 = 10e-6               # drift gain 1\n",
    "dg2 = 2*10e-6             # drift gain 2\n",
    "sigma = 10e-3             # diffusion variability\n",
    "I0 = 0.0002               # baseline input\n",
    "dr1 = ReLU(coh)*dg1       # drift rate 1\n",
    "dr2 = ReLU(-coh)*dg2      # drift rate 2\n",
    "t = 0                     # time -> msec\n",
    "ndt = 100                 # Non-decision time (msec)\n",
    "stop_time = 10000\n",
    "\n",
    "nTrials = 1000\n",
    "diffusion_step1 = np.random.normal(loc=dr1, scale=sigma, size=(nTrials, stop_time))    # change in accumulator 1\n",
    "diffusion_step2 = np.random.normal(loc=dr2, scale=sigma, size=(nTrials, stop_time))    # change in accumulator 2\n",
    "for tr in range(nTrials):\n",
    "    dv1 = np.array([sp1],dtype=float32)       # Accumulator 1\n",
    "    dv2 = np.array([sp2],dtype=float32)       # Accumulator 2\n",
    "    for t in range(stop_time):\n",
    "        dv1 = np.append(dv1, ReLU(dv1[t]+diffusion_step1[tr,t]))    # update decision variable 1\n",
    "        dv2 = np.append(dv2, ReLU(dv2[t]+diffusion_step2[tr,t]))    # update decision variable 2\n",
    "        if np.abs(dv1[t]) > bound:\n",
    "            decision =  np.append(decision, 1)\n",
    "            rt =  np.append(rt, t)\n",
    "            break\n",
    "        elif np.abs(dv2[t]) > bound:    # checking if decision bound is reached\n",
    "            decision =  np.append(decision, -1)\n",
    "            rt =  np.append(rt, t)\n",
    "            break\n",
    "            \n",
    "else:    # if decision is not reached\n",
    "    decision =  np.append(decision, np.NaN)\n",
    "    rt =  np.append(rt, np.NaN) \n",
    "rt =  rt+ndt\n",
    "\n",
    "# plt.plot(dv1)\n",
    "# plt.plot(dv2)\n",
    "plt.hist(rt)\n",
    "plt.show"
   ]
  },
  {
   "cell_type": "markdown",
   "id": "b262f05e-6de6-4db3-8ae7-aa4f8d81d5cf",
   "metadata": {},
   "source": [
    "# Latent Drift-Diffusion Model"
   ]
  },
  {
   "cell_type": "code",
   "execution_count": null,
   "id": "848418fc-66b4-4b3b-9a9a-001f2a949b54",
   "metadata": {
    "jupyter": {
     "source_hidden": true
    },
    "tags": []
   },
   "outputs": [],
   "source": [
    "# Latent DDM\n",
    "''' \n",
    "Considering latent observation of the stimulus.\n",
    "Mainly driven by diffusion variability (if considering 0 input in opposite direction)\n",
    "Good estimate in case of motion energy in random dots also have some opposite direction motion.\n",
    "\n",
    "Mathematically equivalent to running DDM with diffusion of sqrt(2)*sigma instead of sigma\n",
    "\n",
    "'''\n",
    "\n",
    "# Variables\n",
    "coh = 52\n",
    "\n",
    "sp1 = 0                   # starting point 1\n",
    "sp2 = 0                   # starting point 2\n",
    "dg1 = 10e-6               # drift gain 1\n",
    "dg2 = 2*10e-6             # drift gain 2\n",
    "sigma = 10e-3             # diffusion variability\n",
    "I0 = 0.0002               # baseline input\n",
    "dr1 = ReLU(coh)*dg1       # drift rate 1\n",
    "dr2 = ReLU(-coh)*dg2      # drift rate 2\n",
    "t = 0                     # time -> msec\n",
    "ndt = 100                 # Non-decision time (msec)\n",
    "stop_time = 10000\n",
    "\n",
    "nTrials = 1000\n",
    "diffusion_step1 = np.random.normal(loc=dr1, scale=sigma, size=(nTrials, stop_time))    # change in accumulator 1\n",
    "diffusion_step2 = np.random.normal(loc=dr2, scale=sigma, size=(nTrials, stop_time))    # change in accumulator 2\n",
    "for tr in range(nTrials):\n",
    "    x1 = np.array([sp1],dtype=float32)       # Accumulator 1\n",
    "    x2 = np.array([sp2],dtype=float32)       # Accumulator 2\n",
    "    for t in range(stop_time):\n",
    "        x1 = np.append(x1, x1[t]+diffusion_step1[tr,t])    # update decision variable 1\n",
    "        x2 = np.append(x2, x2[t]+diffusion_step2[tr,t])    # update decision variable 2\n",
    "        if np.abs(x1[t]-x2[t]) > bound:    # checking if decision bound is reached\n",
    "            decision =  np.append(decision, np.sign(x1[t]-x2[t]))\n",
    "            rt =  np.append(rt, t)\n",
    "            break\n",
    "\n",
    "else:    # if decision is not reached\n",
    "    decision =  np.append(decision, np.NaN)\n",
    "    rt =  np.append(rt, np.NaN) \n",
    "rt =  rt+ndt\n",
    "\n",
    "# plt.plot(x1,'b')\n",
    "# plt.plot(x2,'g')\n",
    "# plt.plot(dv,'r')\n",
    "plt.hist(rt)\n",
    "plt.show"
   ]
  },
  {
   "cell_type": "markdown",
   "id": "8851e161-98dd-4ae6-8f85-3c80af53df18",
   "metadata": {},
   "source": [
    "# Working unused functinos"
   ]
  },
  {
   "cell_type": "code",
   "execution_count": null,
   "id": "200bb364-6ac4-44f4-89c8-ccf218bbb559",
   "metadata": {},
   "outputs": [],
   "source": [
    "                \n",
    "# Matrix multiplication with LARGE matric and a scale or vector on GPU \n",
    "@cuda.jit\n",
    "def matmult_cuda(matrix, scalar):\n",
    "    row,col = cuda.grid(2)\n",
    "    row_in_bounds = (row >= 0) and (row <= (matrix.shape[0] - 1))\n",
    "    col_in_bounds = (col >= 0) and (col <= (matrix.shape[1] - 1))\n",
    "    if row_in_bounds and col_in_bounds:\n",
    "        matrix[row,col] = scalar*matrix[row,col]\n",
    "# Initializing matmult_cuda function\n",
    "test_mat = cp.array([[2,3,5],[4,5,5]],dtype=float32)\n",
    "test_scalar = np.float32(3)\n",
    "blockdim = (16, 16)\n",
    "griddim = (test_mat.shape[0] // blockdim[0]) + 1, (test_mat.shape[1] // blockdim[1]) + 1\n",
    "%time matmult_cuda[griddim, blockdim](test_mat, test_scalar)\n",
    "        \n",
    "                \n",
    "        \n",
    "# Memory allotment trick\n",
    "def ddm_kernel(coh,nTrials,pars,stop_time,decision, rt):\n",
    "    tx = cuda.threadIdx.x # this is the unique thread ID within a 1D block\n",
    "    ty = cuda.blockIdx.x  # Similarly, this is the unique block ID within the 1D grid\n",
    "\n",
    "    block_size = cuda.blockDim.x  # number of threads per block\n",
    "    grid_size = cuda.gridDim.x    # number of blocks in the grid\n",
    "    \n",
    "    start = tx + ty * block_size\n",
    "    stride = block_size * grid_size\n",
    "\n",
    "    # assuming x and y inputs are same length\n",
    "    for i in range(start, x.shape[0], stride):\n",
    "        out[i] = x[i] + y[i]\n",
    "\n",
    "\n",
    "# For single Coherence\n",
    "@cuda.jit\n",
    "def DDM_kernel(nTrials,pars,stop_time, diffusion_step, decision, rt): \n",
    "\n",
    "    sp = pars[0]             # starting point 1\n",
    "    dg = pars[1]             # drift gain\n",
    "    sigma = pars[2]          # diffusion variability\n",
    "    ndt = pars[3]            # Non-decision time (msec)\n",
    "    bound = pars[4]          # drift rate\n",
    "    t = 0                    # time -> msec\n",
    "\n",
    "    tr = cuda.grid(1)\n",
    "    tr_in_bounds = (tr >= 0) and (tr <= (nTrials - 1))\n",
    "    \n",
    "    if tr_in_bounds:\n",
    "        dv = sp\n",
    "        for t in range(stop_time):\n",
    "            dv = dv + diffusion_step[tr,t]      # update decision variable\n",
    "            if dv > bound or dv < -bound:       # checking if decision bound is reached\n",
    "                decision[tr] =  2*(dv>0) - 1    # np.sign(dv) alternative for making decision based on where evidence is maximum\n",
    "                rt[tr] = t+ndt\n",
    "                break  "
   ]
  }
 ],
 "metadata": {
  "kernelspec": {
   "display_name": "Python 3 (ipykernel)",
   "language": "python",
   "name": "python3"
  },
  "language_info": {
   "codemirror_mode": {
    "name": "ipython",
    "version": 3
   },
   "file_extension": ".py",
   "mimetype": "text/x-python",
   "name": "python",
   "nbconvert_exporter": "python",
   "pygments_lexer": "ipython3",
   "version": "3.8.12"
  }
 },
 "nbformat": 4,
 "nbformat_minor": 5
}
